{
 "cells": [
  {
   "cell_type": "code",
   "execution_count": 1,
   "metadata": {},
   "outputs": [],
   "source": [
    "# This notebook somewhat follows the tutorials from here:\n",
    "# https://www.tensorflow.org/versions/0.6.0/tutorials/mnist/pros/index.html\n",
    "\n",
    "import numpy as np\n",
    "import tensorflow as tf\n",
    "\n",
    "% matplotlib inline\n",
    "import matplotlib.pyplot as plt\n",
    "\n",
    "import sys\n",
    "if '../code' not in sys.path:\n",
    "    sys.path.append('../code')\n",
    "\n",
    "%reload_ext autoreload\n",
    "%autoreload 1"
   ]
  },
  {
   "cell_type": "code",
   "execution_count": 2,
   "metadata": {},
   "outputs": [
    {
     "name": "stdout",
     "output_type": "stream",
     "text": [
      "Extracting ../data/train-images-idx3-ubyte.gz\n",
      "Extracting ../data/train-labels-idx1-ubyte.gz\n",
      "Extracting ../data/t10k-images-idx3-ubyte.gz\n",
      "Extracting ../data/t10k-labels-idx1-ubyte.gz\n",
      "+------------+--------------+-------------+\n",
      "| Data Set   | x float32    | y float32   |\n",
      "+============+==============+=============+\n",
      "| train      | (60000, 784) | (60000, 10) |\n",
      "+------------+--------------+-------------+\n",
      "| test       | (10000, 784) | (10000, 10) |\n",
      "+------------+--------------+-------------+\n"
     ]
    }
   ],
   "source": [
    "%aimport mnist_downloader\n",
    "trainx, trainy, testx, testy = mnist_downloader.read_data_sets(\n",
    "    '../data', one_hot=True, exact_inputs=False)\n",
    "\n",
    "from tabulate import tabulate\n",
    "\n",
    "print(tabulate(\n",
    "    [['train', trainx.shape, trainy.shape],\n",
    "     ['test', testx.shape, testy.shape]],\n",
    "    ['Data Set', 'x {}'.format(trainx.dtype), 'y {}'.format(trainy.dtype)],\n",
    "    tablefmt='grid'))"
   ]
  },
  {
   "cell_type": "code",
   "execution_count": 3,
   "metadata": {},
   "outputs": [
    {
     "data": {
      "image/png": "[encoded data removed]",
      "text/plain": [
       "<matplotlib.figure.Figure at 0x7f68898936a0>"
      ]
     },
     "metadata": {},
     "output_type": "display_data"
    }
   ],
   "source": [
    "# Verify dataset balance\n",
    "\n",
    "plt.hist(trainy.argmax(1), 10, facecolor='green', alpha=0.75)\n",
    "plt.axhline(len(trainy) / 10, color='red', ls=':')\n",
    "plt.xlabel('label')\n",
    "plt.ylabel('counts')\n",
    "plt.title(r'histogram of training labels')\n",
    "plt.grid(True)\n",
    "\n",
    "plt.show()"
   ]
  },
  {
   "cell_type": "code",
   "execution_count": 4,
   "metadata": {},
   "outputs": [],
   "source": [
    "from sklearn.model_selection import train_test_split\n",
    "\n",
    "train_and_validx = trainx\n",
    "train_and_validy = trainy\n",
    "trainx, validx, trainy, validy = train_test_split(\n",
    "    train_and_validx, train_and_validy, test_size=0.3, random_state=1234)"
   ]
  },
  {
   "cell_type": "code",
   "execution_count": 5,
   "metadata": {},
   "outputs": [
    {
     "name": "stderr",
     "output_type": "stream",
     "text": [
      "Using TensorFlow backend.\n"
     ]
    }
   ],
   "source": [
    "import keras\n",
    "from keras.models import Sequential\n",
    "from keras.layers import *\n",
    "\n",
    "network_gen = {\n",
    "    'google': lambda: Sequential([\n",
    "            Reshape([28, 28, 1], input_shape=(trainx.shape[1], )),\n",
    "            Conv2D(\n",
    "                32, [5, 5], strides=(1, 1), padding='same', activation='relu'),\n",
    "            MaxPooling2D(pool_size=(2, 2), padding='same'),\n",
    "            Conv2D(\n",
    "                64, [5, 5], strides=(1, 1), padding='same', activation='relu'),\n",
    "            MaxPooling2D(pool_size=(2, 2), padding='same'),\n",
    "            Reshape([-1]),\n",
    "            Dense(1024, activation='relu'),\n",
    "            Dropout(0.5),\n",
    "            Dense(10, activation='softmax')\n",
    "        ]),\n",
    "    'mlp-5': lambda: Sequential([\n",
    "            Dense(2056, activation='relu', input_dim=trainx.shape[1]),\n",
    "            Dropout(0.5),\n",
    "            BatchNormalization(),\n",
    "            Dense(1024, activation='relu'),\n",
    "            Dropout(0.5),\n",
    "            BatchNormalization(),\n",
    "            Dense(512, activation='relu'),\n",
    "            Dropout(0.5),\n",
    "            BatchNormalization(),\n",
    "            Dense(256, activation='relu'),\n",
    "            Dropout(0.5),\n",
    "            BatchNormalization(),\n",
    "            Dense(10, activation='softmax')\n",
    "        ]),\n",
    "    'logistic': lambda: Sequential([Dense(10, input_dim=trainx.shape[1], activation='softmax')])\n",
    "}"
   ]
  },
  {
   "cell_type": "code",
   "execution_count": 6,
   "metadata": {},
   "outputs": [
    {
     "name": "stdout",
     "output_type": "stream",
     "text": [
      "***** logistic *****\n",
      "Train on 42000 samples, validate on 18000 samples\n",
      "Epoch 1/100\n",
      "42000/42000 [==============================] - 1s - loss: 0.7788 - acc: 0.8106 - val_loss: 0.4529 - val_acc: 0.8848\n",
      "Epoch 2/100\n",
      "42000/42000 [==============================] - 0s - loss: 0.4006 - acc: 0.8952 - val_loss: 0.3647 - val_acc: 0.9010\n",
      "Epoch 3/100\n",
      "42000/42000 [==============================] - 0s - loss: 0.3445 - acc: 0.9068 - val_loss: 0.3316 - val_acc: 0.9083\n",
      "Epoch 4/100\n",
      "42000/42000 [==============================] - 0s - loss: 0.3185 - acc: 0.9136 - val_loss: 0.3143 - val_acc: 0.9118\n",
      "Epoch 5/100\n",
      "42000/42000 [==============================] - 0s - loss: 0.3027 - acc: 0.9178 - val_loss: 0.3059 - val_acc: 0.9126\n",
      "Epoch 6/100\n",
      "42000/42000 [==============================] - 0s - loss: 0.2920 - acc: 0.9192 - val_loss: 0.2972 - val_acc: 0.9153\n",
      "Epoch 7/100\n",
      "42000/42000 [==============================] - 0s - loss: 0.2840 - acc: 0.9221 - val_loss: 0.2922 - val_acc: 0.9172\n",
      "Epoch 8/100\n",
      "42000/42000 [==============================] - 0s - loss: 0.2777 - acc: 0.9234 - val_loss: 0.2896 - val_acc: 0.9186\n",
      "Epoch 9/100\n",
      "42000/42000 [==============================] - 0s - loss: 0.2727 - acc: 0.9245 - val_loss: 0.2855 - val_acc: 0.9183\n",
      "  10 sec\n",
      "***** google *****\n",
      "Train on 42000 samples, validate on 18000 samples\n",
      "Epoch 1/100\n",
      "42000/42000 [==============================] - 6s - loss: 0.1883 - acc: 0.9417 - val_loss: 0.0631 - val_acc: 0.9802\n",
      "Epoch 2/100\n",
      "42000/42000 [==============================] - 5s - loss: 0.0569 - acc: 0.9825 - val_loss: 0.0381 - val_acc: 0.9881\n",
      "Epoch 3/100\n",
      "42000/42000 [==============================] - 5s - loss: 0.0377 - acc: 0.9881 - val_loss: 0.0322 - val_acc: 0.9901\n",
      "Epoch 4/100\n",
      "42000/42000 [==============================] - 6s - loss: 0.0273 - acc: 0.9916 - val_loss: 0.0317 - val_acc: 0.9900\n",
      "  25 sec\n",
      "***** mlp-5 *****\n",
      "Train on 42000 samples, validate on 18000 samples\n",
      "Epoch 1/100\n",
      "42000/42000 [==============================] - 5s - loss: 0.4926 - acc: 0.8469 - val_loss: 0.1621 - val_acc: 0.9499\n",
      "Epoch 2/100\n",
      "42000/42000 [==============================] - 5s - loss: 0.2145 - acc: 0.9369 - val_loss: 0.1197 - val_acc: 0.9644\n",
      "Epoch 3/100\n",
      "42000/42000 [==============================] - 5s - loss: 0.1660 - acc: 0.9507 - val_loss: 0.0981 - val_acc: 0.9698\n",
      "Epoch 4/100\n",
      "42000/42000 [==============================] - 5s - loss: 0.1483 - acc: 0.9570 - val_loss: 0.0956 - val_acc: 0.9717\n",
      "Epoch 5/100\n",
      "42000/42000 [==============================] - 5s - loss: 0.1340 - acc: 0.9600 - val_loss: 0.0853 - val_acc: 0.9736\n",
      "Epoch 6/100\n",
      "42000/42000 [==============================] - 4s - loss: 0.1191 - acc: 0.9646 - val_loss: 0.0873 - val_acc: 0.9748\n",
      "Epoch 7/100\n",
      "42000/42000 [==============================] - 5s - loss: 0.1117 - acc: 0.9672 - val_loss: 0.0773 - val_acc: 0.9767\n",
      "Epoch 8/100\n",
      "42000/42000 [==============================] - 5s - loss: 0.1056 - acc: 0.9685 - val_loss: 0.0725 - val_acc: 0.9793\n",
      "Epoch 9/100\n",
      "42000/42000 [==============================] - 4s - loss: 0.0977 - acc: 0.9712 - val_loss: 0.0788 - val_acc: 0.9773\n",
      "  47 sec\n"
     ]
    }
   ],
   "source": [
    "! mkdir -p ../models && mkdir -p ../models/mnist\n",
    "names = network_gen.keys()\n",
    "save_files = {name: '../models/mnist/' + name + '-best.hdf5' for name in names}\n",
    "\n",
    "from contextlib import contextmanager\n",
    "import time\n",
    "from keras import backend as K\n",
    "%aimport keras_util\n",
    "\n",
    "@contextmanager\n",
    "def rectime(name='', fmt='{: 4.0f}'):\n",
    "    print(name, end='')\n",
    "    sys.stdout.flush()\n",
    "    t = time.time()\n",
    "    yield\n",
    "    t = time.time() - t\n",
    "    print(fmt.format(t), 'sec')\n",
    "    \n",
    "for name in names:\n",
    "    print('*****', name, '*****')\n",
    "    keras_util.refresh()\n",
    "    \n",
    "    net = network_gen[name]()\n",
    "    net.compile(\n",
    "        loss='categorical_crossentropy', optimizer='adam', metrics=['accuracy'])\n",
    "        \n",
    "    early_stopping = keras.callbacks.EarlyStopping(\n",
    "        monitor='val_acc', min_delta=0, patience=0)\n",
    "    checkpoint = keras.callbacks.ModelCheckpoint(save_files[name], monitor='val_loss', save_best_only=True)\n",
    "    with rectime():\n",
    "        net.fit(\n",
    "            trainx,\n",
    "            trainy,\n",
    "            epochs=100,\n",
    "            batch_size=128,\n",
    "            callbacks=[early_stopping, checkpoint],\n",
    "            validation_data=(validx, validy))"
   ]
  },
  {
   "cell_type": "code",
   "execution_count": 7,
   "metadata": {
    "scrolled": false
   },
   "outputs": [
    {
     "name": "stdout",
     "output_type": "stream",
     "text": [
      "***** logistic (post-train) *****\n",
      "training until loss <= 0.2664\n",
      "Epoch 1/100\n",
      "60000/60000 [==============================] - 1s - loss: 0.2731 - acc: 0.9234     \n",
      "Epoch 2/100\n",
      "60000/60000 [==============================] - 1s - loss: 0.2678 - acc: 0.9249     \n",
      "Epoch 3/100\n",
      "60000/60000 [==============================] - 1s - loss: 0.2641 - acc: 0.9268     \n",
      "   4 sec\n",
      "***** google (post-train) *****\n",
      "training until loss <= 0.0151\n",
      "Epoch 1/100\n",
      "60000/60000 [==============================] - 7s - loss: 0.0324 - acc: 0.9899     \n",
      "Epoch 2/100\n",
      "60000/60000 [==============================] - 7s - loss: 0.0217 - acc: 0.9932     \n",
      "Epoch 3/100\n",
      "60000/60000 [==============================] - 7s - loss: 0.0173 - acc: 0.9946     \n",
      "Epoch 4/100\n",
      "60000/60000 [==============================] - 7s - loss: 0.0134 - acc: 0.9958     \n",
      "  31 sec\n",
      "***** mlp-5 (post-train) *****\n",
      "training until loss <= 0.0323\n",
      "Epoch 1/100\n",
      "60000/60000 [==============================] - 6s - loss: 0.1156 - acc: 0.9661     \n",
      "Epoch 2/100\n",
      "60000/60000 [==============================] - 6s - loss: 0.1039 - acc: 0.9696     \n",
      "Epoch 3/100\n",
      "60000/60000 [==============================] - 6s - loss: 0.0935 - acc: 0.9724     \n",
      "Epoch 4/100\n",
      "60000/60000 [==============================] - 6s - loss: 0.0864 - acc: 0.9738     \n",
      "Epoch 5/100\n",
      "60000/60000 [==============================] - 6s - loss: 0.0788 - acc: 0.9768     \n",
      "Epoch 6/100\n",
      "60000/60000 [==============================] - 6s - loss: 0.0723 - acc: 0.9784     \n",
      "Epoch 7/100\n",
      "60000/60000 [==============================] - 6s - loss: 0.0681 - acc: 0.9791     \n",
      "Epoch 8/100\n",
      "60000/60000 [==============================] - 6s - loss: 0.0655 - acc: 0.9796     \n",
      "Epoch 9/100\n",
      "60000/60000 [==============================] - 6s - loss: 0.0630 - acc: 0.9804     \n",
      "Epoch 10/100\n",
      "60000/60000 [==============================] - 6s - loss: 0.0625 - acc: 0.9806     \n",
      "Epoch 11/100\n",
      "60000/60000 [==============================] - 6s - loss: 0.0555 - acc: 0.9825     \n",
      "Epoch 12/100\n",
      "60000/60000 [==============================] - 6s - loss: 0.0545 - acc: 0.9834     \n",
      "Epoch 13/100\n",
      "60000/60000 [==============================] - 6s - loss: 0.0544 - acc: 0.9836     \n",
      "Epoch 14/100\n",
      "60000/60000 [==============================] - 6s - loss: 0.0506 - acc: 0.9844     \n",
      "Epoch 15/100\n",
      "60000/60000 [==============================] - 6s - loss: 0.0501 - acc: 0.9844     \n",
      "Epoch 16/100\n",
      "60000/60000 [==============================] - 6s - loss: 0.0492 - acc: 0.9842     \n",
      "Epoch 17/100\n",
      "60000/60000 [==============================] - 6s - loss: 0.0431 - acc: 0.9867     \n",
      "Epoch 18/100\n",
      "60000/60000 [==============================] - 6s - loss: 0.0466 - acc: 0.9855     \n",
      "Epoch 19/100\n",
      "60000/60000 [==============================] - 6s - loss: 0.0408 - acc: 0.9873     \n",
      "Epoch 20/100\n",
      "60000/60000 [==============================] - 6s - loss: 0.0429 - acc: 0.9867     \n",
      "Epoch 21/100\n",
      "60000/60000 [==============================] - 6s - loss: 0.0397 - acc: 0.9876     \n",
      "Epoch 22/100\n",
      "60000/60000 [==============================] - 6s - loss: 0.0405 - acc: 0.9871     \n",
      "Epoch 23/100\n",
      "60000/60000 [==============================] - 6s - loss: 0.0381 - acc: 0.9881     \n",
      "Epoch 24/100\n",
      "60000/60000 [==============================] - 6s - loss: 0.0369 - acc: 0.9882     \n",
      "Epoch 25/100\n",
      "60000/60000 [==============================] - 6s - loss: 0.0382 - acc: 0.9882     \n",
      "Epoch 26/100\n",
      "60000/60000 [==============================] - 6s - loss: 0.0352 - acc: 0.9889     \n",
      "Epoch 27/100\n",
      "60000/60000 [==============================] - 6s - loss: 0.0353 - acc: 0.9885     \n",
      "Epoch 28/100\n",
      "60000/60000 [==============================] - 6s - loss: 0.0339 - acc: 0.9893     \n",
      "Epoch 29/100\n",
      "60000/60000 [==============================] - 6s - loss: 0.0333 - acc: 0.9895     \n",
      "Epoch 30/100\n",
      "60000/60000 [==============================] - 6s - loss: 0.0331 - acc: 0.9897     \n",
      "Epoch 31/100\n",
      "60000/60000 [==============================] - 6s - loss: 0.0306 - acc: 0.9902     \n",
      " 206 sec\n"
     ]
    }
   ],
   "source": [
    "# Now, train with validation set until we reach the training loss from early stopping.\n",
    "\n",
    "post_train = {\n",
    "    name: '../models/mnist/' + name + '-best-post-train.hdf5'\n",
    "    for name in names\n",
    "}\n",
    "for name in names:\n",
    "    print('*****', name, '(post-train) *****')\n",
    "    keras_util.refresh()\n",
    "\n",
    "    net = network_gen[name]()\n",
    "    net.compile(\n",
    "        loss='categorical_crossentropy',\n",
    "        optimizer='adam',\n",
    "        metrics=['accuracy'])\n",
    "    net.load_weights(save_files[name])\n",
    "    train_metrics = dict(\n",
    "        zip(net.metrics_names, net.evaluate(trainx, trainy, verbose=0)))\n",
    "\n",
    "    print('training until loss <= {:0.4f}'.format(train_metrics['loss']))\n",
    "    early_stopping = keras_util.EarlyStopLambda(\n",
    "        metric='loss', should_stop=lambda loss: loss <= train_metrics['loss'])\n",
    "    checkpoint = keras.callbacks.ModelCheckpoint(\n",
    "        post_train[name], monitor='loss', save_best_only=True)\n",
    "    with rectime():\n",
    "        net.fit(\n",
    "            train_and_validx,\n",
    "            train_and_validy,\n",
    "            epochs=100,\n",
    "            batch_size=128,\n",
    "            callbacks=[early_stopping, checkpoint])"
   ]
  },
  {
   "cell_type": "code",
   "execution_count": 8,
   "metadata": {},
   "outputs": [
    {
     "name": "stdout",
     "output_type": "stream",
     "text": [
      "+----------+------------+-------------+------------+\n",
      "| model    |   test acc |   train acc |   # params |\n",
      "+==========+============+=============+============+\n",
      "| logistic |     0.9239 |      0.9272 |       7850 |\n",
      "+----------+------------+-------------+------------+\n",
      "| mlp-5    |     0.9857 |      0.9992 |    4394418 |\n",
      "+----------+------------+-------------+------------+\n",
      "| google   |     0.9926 |      0.9979 |    3274634 |\n",
      "+----------+------------+-------------+------------+\n"
     ]
    }
   ],
   "source": [
    "final_acc = {}\n",
    "final_train_acc = {}\n",
    "final_pred = {}\n",
    "num_params = {}\n",
    "for name in names:\n",
    "    K.clear_session()\n",
    "    net = network_gen[name]()\n",
    "    net.compile(loss='categorical_crossentropy', optimizer='adam', metrics=['accuracy'])\n",
    "    num_params[name] = sum(x.size for x in net.get_weights())\n",
    "    net.load_weights(post_train[name])\n",
    "    final_pred[name] = net.predict(testx)\n",
    "    test_metrics = dict(zip(net.metrics_names, net.evaluate(testx, testy, verbose=0)))\n",
    "    final_acc[name] = test_metrics['acc']\n",
    "    train_metrics = dict(zip(net.metrics_names, net.evaluate(train_and_validx, train_and_validy, verbose=0)))\n",
    "    final_train_acc[name] = train_metrics['acc']\n",
    "results = [[name, acc, final_train_acc[name], num_params[name]] for name, acc in final_acc.items()]\n",
    "results.sort(key=lambda row: row[1])\n",
    "print(tabulate(results, ['model', 'test acc', 'train acc', '# params'], tablefmt='grid', floatfmt=\"0.4f\"))"
   ]
  },
  {
   "cell_type": "code",
   "execution_count": 9,
   "metadata": {},
   "outputs": [],
   "source": [
    "import sklearn.metrics\n",
    "\n",
    "def evaluate(truey_onehot, predy_onehot):\n",
    "    truey = truey_onehot.argmax(1)\n",
    "    predy = predy_onehot.argmax(1)\n",
    "    \n",
    "    nclasses = 10\n",
    "\n",
    "    confusion = sklearn.metrics.confusion_matrix(truey, predy).astype(float)\n",
    "    np.fill_diagonal(confusion, np.nan)\n",
    "    plt.imshow(confusion)\n",
    "    plt.colorbar()\n",
    "    plt.xticks(np.arange(nclasses))\n",
    "    plt.yticks(np.arange(nclasses))\n",
    "    plt.xlabel(r'$\\hat{y}$')\n",
    "    plt.ylabel(r'$y$')\n",
    "    plt.title(r'confusion counts ($n={}K$)'.format(len(validy)//1000))\n",
    "    plt.show()\n",
    "\n",
    "    acc = sklearn.metrics.accuracy_score(truey, predy)\n",
    "    rocauc = sklearn.metrics.roc_auc_score(truey_onehot, predy_onehot, average='weighted')\n",
    "\n",
    "    print(tabulate([[rocauc, acc]], ['weighted roc auc', 'accuracy'], tablefmt='grid'))"
   ]
  },
  {
   "cell_type": "code",
   "execution_count": 10,
   "metadata": {},
   "outputs": [
    {
     "name": "stdout",
     "output_type": "stream",
     "text": [
      "mlp-5 error eval\n"
     ]
    },
    {
     "data": {
      "image/png": "[encoded data removed]",
      "text/plain": [
       "<matplotlib.figure.Figure at 0x7f67c5f4db00>"
      ]
     },
     "metadata": {},
     "output_type": "display_data"
    },
    {
     "name": "stdout",
     "output_type": "stream",
     "text": [
      "+--------------------+------------+\n",
      "|   weighted roc auc |   accuracy |\n",
      "+====================+============+\n",
      "|           0.999849 |     0.9857 |\n",
      "+--------------------+------------+\n",
      "google error eval\n"
     ]
    },
    {
     "data": {
      "image/png": "[encoded data removed]",
      "text/plain": [
       "<matplotlib.figure.Figure at 0x7f678b542278>"
      ]
     },
     "metadata": {},
     "output_type": "display_data"
    },
    {
     "name": "stdout",
     "output_type": "stream",
     "text": [
      "+--------------------+------------+\n",
      "|   weighted roc auc |   accuracy |\n",
      "+====================+============+\n",
      "|           0.999974 |     0.9926 |\n",
      "+--------------------+------------+\n"
     ]
    }
   ],
   "source": [
    "print('mlp-5 error eval')\n",
    "evaluate(testy, final_pred['mlp-5'])\n",
    "print('google error eval')\n",
    "evaluate(testy, final_pred['google'])"
   ]
  },
  {
   "cell_type": "code",
   "execution_count": null,
   "metadata": {
    "collapsed": true
   },
   "outputs": [],
   "source": [
    "# Looks like we can regularize google and mlp-5 a bit more!\n",
    "# They also have complimentary confusion matrices, a weighted mixture might do better."
   ]
  }
 ],
 "metadata": {
  "kernelspec": {
   "display_name": "Python 3",
   "language": "python",
   "name": "python3"
  },
  "language_info": {
   "codemirror_mode": {
    "name": "ipython",
    "version": 3
   },
   "file_extension": ".py",
   "mimetype": "text/x-python",
   "name": "python",
   "nbconvert_exporter": "python",
   "pygments_lexer": "ipython3",
   "version": "3.5.2"
  }
 },
 "nbformat": 4,
 "nbformat_minor": 1
}
