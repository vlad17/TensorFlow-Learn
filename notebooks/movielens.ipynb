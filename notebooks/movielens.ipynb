{
 "cells": [
  {
   "cell_type": "code",
   "execution_count": 1,
   "metadata": {},
   "outputs": [
    {
     "name": "stderr",
     "output_type": "stream",
     "text": [
      "Using TensorFlow backend.\n"
     ]
    }
   ],
   "source": [
    "# Vaguely following this lesson plan:\n",
    "# http://course.fast.ai/lessons/lesson4.html\n",
    "\n",
    "%reload_ext autoreload\n",
    "%autoreload 1\n",
    "%matplotlib inline\n",
    "import matplotlib.pyplot as plt\n",
    "\n",
    "import sys\n",
    "import os\n",
    "import os.path\n",
    "assert os.path.basename(os.getcwd()) == 'notebooks', os.path.basename(os.getcwd())\n",
    "code_dir = os.path.join(os.getcwd(), os.pardir, 'code')\n",
    "if code_dir not in sys.path:\n",
    "    sys.path.append(code_dir)\n",
    "    os.environ['PYTHONPATH'] = os.environ.get('PYTHONPATH', '') + os.pathsep + code_dir\n",
    "model_dir = os.path.join(os.getcwd(), os.pardir, 'models')\n",
    "    \n",
    "# Keras warns about non-keras optimizers\n",
    "import warnings\n",
    "warnings.simplefilter(\"ignore\", UserWarning)\n",
    "import keras\n",
    "%aimport keras_util"
   ]
  },
  {
   "cell_type": "code",
   "execution_count": 2,
   "metadata": {},
   "outputs": [
    {
     "name": "stdout",
     "output_type": "stream",
     "text": [
      "\r\n",
      "README.txt\t   genome-tags.csv  movies.csv\t tags.csv\r\n",
      "genome-scores.csv  links.csv\t    ratings.csv\r\n"
     ]
    }
   ],
   "source": [
    "from keras.utils import get_file\n",
    "\n",
    "ml20_origin = 'http://files.grouplens.org/datasets/movielens/ml-20m.zip'\n",
    "get_file('ml-20m.zip', ml20_origin, cache_dir='../data', cache_subdir='movielens', extract=True)\n",
    "ml20_path = '../data/movielens/ml-20m/'\n",
    "! echo && ls {ml20_path}"
   ]
  },
  {
   "cell_type": "code",
   "execution_count": 3,
   "metadata": {},
   "outputs": [],
   "source": [
    "import pandas as pd\n",
    "ratings = pd.read_csv(ml20_path + 'ratings.csv')"
   ]
  },
  {
   "cell_type": "code",
   "execution_count": 4,
   "metadata": {},
   "outputs": [
    {
     "name": "stdout",
     "output_type": "stream",
     "text": [
      "unique count 138493 26744\n",
      "max id 138493 131262\n",
      "max normalized id 138492 26743\n"
     ]
    },
    {
     "data": {
      "text/html": [
       "<div>\n",
       "<style>\n",
       "    .dataframe thead tr:only-child th {\n",
       "        text-align: right;\n",
       "    }\n",
       "\n",
       "    .dataframe thead th {\n",
       "        text-align: left;\n",
       "    }\n",
       "\n",
       "    .dataframe tbody tr th {\n",
       "        vertical-align: top;\n",
       "    }\n",
       "</style>\n",
       "<table border=\"1\" class=\"dataframe\">\n",
       "  <thead>\n",
       "    <tr style=\"text-align: right;\">\n",
       "      <th></th>\n",
       "      <th>userId</th>\n",
       "      <th>movieId</th>\n",
       "      <th>rating</th>\n",
       "    </tr>\n",
       "  </thead>\n",
       "  <tbody>\n",
       "    <tr>\n",
       "      <th>0</th>\n",
       "      <td>0</td>\n",
       "      <td>0</td>\n",
       "      <td>3.5</td>\n",
       "    </tr>\n",
       "    <tr>\n",
       "      <th>1</th>\n",
       "      <td>0</td>\n",
       "      <td>1</td>\n",
       "      <td>3.5</td>\n",
       "    </tr>\n",
       "    <tr>\n",
       "      <th>2</th>\n",
       "      <td>0</td>\n",
       "      <td>2</td>\n",
       "      <td>3.5</td>\n",
       "    </tr>\n",
       "    <tr>\n",
       "      <th>3</th>\n",
       "      <td>0</td>\n",
       "      <td>3</td>\n",
       "      <td>3.5</td>\n",
       "    </tr>\n",
       "    <tr>\n",
       "      <th>4</th>\n",
       "      <td>0</td>\n",
       "      <td>4</td>\n",
       "      <td>3.5</td>\n",
       "    </tr>\n",
       "  </tbody>\n",
       "</table>\n",
       "</div>"
      ],
      "text/plain": [
       "   userId  movieId  rating\n",
       "0       0        0     3.5\n",
       "1       0        1     3.5\n",
       "2       0        2     3.5\n",
       "3       0        3     3.5\n",
       "4       0        4     3.5"
      ]
     },
     "metadata": {},
     "output_type": "display_data"
    }
   ],
   "source": [
    "# Convert movies to indices\n",
    "import numpy as np\n",
    "\n",
    "unique_users = ratings.userId.unique()\n",
    "unique_movies = ratings.movieId.unique()\n",
    "print('unique count', len(unique_users), len(unique_movies))\n",
    "print('max id', unique_users.max(), unique_movies.max())\n",
    "users_unique = pd.Series(np.arange(len(unique_users)), index=unique_users)\n",
    "movies_unique = pd.Series(np.arange(len(unique_movies)), index=unique_movies)\n",
    "\n",
    "ratings.userId = ratings.userId.map(users_unique)\n",
    "ratings.movieId = ratings.movieId.map(movies_unique)\n",
    "print('max normalized id', ratings.userId.max(), ratings.movieId.max())\n",
    "\n",
    "n_users = len(users_unique)\n",
    "n_movies = len(movies_unique)\n",
    "\n",
    "from IPython.display import display\n",
    "ratings.drop('timestamp', axis=1, inplace=True)\n",
    "display(ratings.head())"
   ]
  },
  {
   "cell_type": "code",
   "execution_count": 5,
   "metadata": {},
   "outputs": [],
   "source": [
    "movie_factors = 50\n",
    "user_factors = n_users * movie_factors // n_movies"
   ]
  },
  {
   "cell_type": "code",
   "execution_count": 6,
   "metadata": {},
   "outputs": [],
   "source": [
    "from keras.layers import * \n",
    "from keras.regularizers import l2\n",
    "from keras.models import Model\n",
    "\n",
    "def recommender_net():\n",
    "    keras_util.seedall()\n",
    "\n",
    "    user_in = Input(shape=(1,), dtype='int64', name='user_in')\n",
    "    u = Embedding(n_users, user_factors, input_length=1)(user_in)\n",
    "    movie_in = Input(shape=(1,), dtype='int64', name='movie_in')\n",
    "    m = Embedding(n_movies, movie_factors, input_length=1)(movie_in)\n",
    "    u = Dense(50, activation='relu')(u)\n",
    "    um = Dot(axes=2)([u, m])\n",
    "\n",
    "    # Per-user and per-movie bias (to catch \"generally good movies\" and \"generally nice raters\")\n",
    "    ub = Embedding(n_users, 1, input_length=1, name='user_bias')(user_in)\n",
    "    mb = Embedding(n_movies, 1, input_length=1, name='movie_bias')(movie_in)\n",
    "\n",
    "    biased = Add()([um, ub, mb])\n",
    "\n",
    "    return Model([user_in, movie_in], Flatten()(biased))"
   ]
  },
  {
   "cell_type": "code",
   "execution_count": 7,
   "metadata": {},
   "outputs": [
    {
     "data": {
      "image/svg+xml": [
       "<svg height=\"410pt\" viewBox=\"0.00 0.00 570.50 410.00\" width=\"571pt\" xmlns=\"http://www.w3.org/2000/svg\" xmlns:xlink=\"http://www.w3.org/1999/xlink\">\n",
       "<g class=\"graph\" id=\"graph0\" transform=\"scale(1 1) rotate(0) translate(4 406)\">\n",
       "<title>G</title>\n",
       "<polygon fill=\"white\" points=\"-4,4 -4,-406 566.5,-406 566.5,4 -4,4\" stroke=\"none\"/>\n",
       "<!-- 140244117946944 -->\n",
       "<g class=\"node\" id=\"node1\"><title>140244117946944</title>\n",
       "<polygon fill=\"none\" points=\"62,-365.5 62,-401.5 220,-401.5 220,-365.5 62,-365.5\" stroke=\"black\"/>\n",
       "<text font-family=\"Times,serif\" font-size=\"14.00\" text-anchor=\"middle\" x=\"141\" y=\"-379.8\">user_in: InputLayer</text>\n",
       "</g>\n",
       "<!-- 140244117946496 -->\n",
       "<g class=\"node\" id=\"node2\"><title>140244117946496</title>\n",
       "<polygon fill=\"none\" points=\"104.5,-292.5 104.5,-328.5 307.5,-328.5 307.5,-292.5 104.5,-292.5\" stroke=\"black\"/>\n",
       "<text font-family=\"Times,serif\" font-size=\"14.00\" text-anchor=\"middle\" x=\"206\" y=\"-306.8\">embedding_1: Embedding</text>\n",
       "</g>\n",
       "<!-- 140244117946944&#45;&gt;140244117946496 -->\n",
       "<g class=\"edge\" id=\"edge1\"><title>140244117946944-&gt;140244117946496</title>\n",
       "<path d=\"M156.735,-365.313C164.799,-356.505 174.759,-345.625 183.608,-335.958\" fill=\"none\" stroke=\"black\"/>\n",
       "<polygon fill=\"black\" points=\"186.239,-338.268 190.41,-328.529 181.076,-333.541 186.239,-338.268\" stroke=\"black\"/>\n",
       "</g>\n",
       "<!-- 140245349118136 -->\n",
       "<g class=\"node\" id=\"node7\"><title>140245349118136</title>\n",
       "<polygon fill=\"none\" points=\"0,-146.5 0,-182.5 176,-182.5 176,-146.5 0,-146.5\" stroke=\"black\"/>\n",
       "<text font-family=\"Times,serif\" font-size=\"14.00\" text-anchor=\"middle\" x=\"88\" y=\"-160.8\">user_bias: Embedding</text>\n",
       "</g>\n",
       "<!-- 140244117946944&#45;&gt;140245349118136 -->\n",
       "<g class=\"edge\" id=\"edge6\"><title>140244117946944-&gt;140245349118136</title>\n",
       "<path d=\"M120.9,-365.294C111.199,-355.7 100.494,-342.898 95,-329 77.1862,-283.94 80.0003,-226.355 83.8642,-192.931\" fill=\"none\" stroke=\"black\"/>\n",
       "<polygon fill=\"black\" points=\"87.3408,-193.336 85.1307,-182.974 80.3967,-192.452 87.3408,-193.336\" stroke=\"black\"/>\n",
       "</g>\n",
       "<!-- 140245349283488 -->\n",
       "<g class=\"node\" id=\"node4\"><title>140245349283488</title>\n",
       "<polygon fill=\"none\" points=\"123,-219.5 123,-255.5 251,-255.5 251,-219.5 123,-219.5\" stroke=\"black\"/>\n",
       "<text font-family=\"Times,serif\" font-size=\"14.00\" text-anchor=\"middle\" x=\"187\" y=\"-233.8\">dense_1: Dense</text>\n",
       "</g>\n",
       "<!-- 140244117946496&#45;&gt;140245349283488 -->\n",
       "<g class=\"edge\" id=\"edge2\"><title>140244117946496-&gt;140245349283488</title>\n",
       "<path d=\"M201.401,-292.313C199.23,-284.202 196.59,-274.336 194.166,-265.277\" fill=\"none\" stroke=\"black\"/>\n",
       "<polygon fill=\"black\" points=\"197.523,-264.284 191.557,-255.529 190.761,-266.094 197.523,-264.284\" stroke=\"black\"/>\n",
       "</g>\n",
       "<!-- 140244117947000 -->\n",
       "<g class=\"node\" id=\"node3\"><title>140244117947000</title>\n",
       "<polygon fill=\"none\" points=\"371,-292.5 371,-328.5 541,-328.5 541,-292.5 371,-292.5\" stroke=\"black\"/>\n",
       "<text font-family=\"Times,serif\" font-size=\"14.00\" text-anchor=\"middle\" x=\"456\" y=\"-306.8\">movie_in: InputLayer</text>\n",
       "</g>\n",
       "<!-- 140244117947448 -->\n",
       "<g class=\"node\" id=\"node5\"><title>140244117947448</title>\n",
       "<polygon fill=\"none\" points=\"269.5,-219.5 269.5,-255.5 472.5,-255.5 472.5,-219.5 269.5,-219.5\" stroke=\"black\"/>\n",
       "<text font-family=\"Times,serif\" font-size=\"14.00\" text-anchor=\"middle\" x=\"371\" y=\"-233.8\">embedding_2: Embedding</text>\n",
       "</g>\n",
       "<!-- 140244117947000&#45;&gt;140244117947448 -->\n",
       "<g class=\"edge\" id=\"edge3\"><title>140244117947000-&gt;140244117947448</title>\n",
       "<path d=\"M435.424,-292.313C424.566,-283.243 411.078,-271.977 399.254,-262.1\" fill=\"none\" stroke=\"black\"/>\n",
       "<polygon fill=\"black\" points=\"401.305,-259.253 391.387,-255.529 396.818,-264.626 401.305,-259.253\" stroke=\"black\"/>\n",
       "</g>\n",
       "<!-- 140244171987768 -->\n",
       "<g class=\"node\" id=\"node8\"><title>140244171987768</title>\n",
       "<polygon fill=\"none\" points=\"375.5,-146.5 375.5,-182.5 562.5,-182.5 562.5,-146.5 375.5,-146.5\" stroke=\"black\"/>\n",
       "<text font-family=\"Times,serif\" font-size=\"14.00\" text-anchor=\"middle\" x=\"469\" y=\"-160.8\">movie_bias: Embedding</text>\n",
       "</g>\n",
       "<!-- 140244117947000&#45;&gt;140244171987768 -->\n",
       "<g class=\"edge\" id=\"edge7\"><title>140244117947000-&gt;140244171987768</title>\n",
       "<path d=\"M466.366,-292.358C471.905,-282.186 478.155,-268.811 481,-256 485.683,-234.918 481.981,-210.64 477.494,-192.54\" fill=\"none\" stroke=\"black\"/>\n",
       "<polygon fill=\"black\" points=\"480.812,-191.404 474.818,-182.668 474.056,-193.235 480.812,-191.404\" stroke=\"black\"/>\n",
       "</g>\n",
       "<!-- 140245349120544 -->\n",
       "<g class=\"node\" id=\"node6\"><title>140245349120544</title>\n",
       "<polygon fill=\"none\" points=\"218.5,-146.5 218.5,-182.5 309.5,-182.5 309.5,-146.5 218.5,-146.5\" stroke=\"black\"/>\n",
       "<text font-family=\"Times,serif\" font-size=\"14.00\" text-anchor=\"middle\" x=\"264\" y=\"-160.8\">dot_1: Dot</text>\n",
       "</g>\n",
       "<!-- 140245349283488&#45;&gt;140245349120544 -->\n",
       "<g class=\"edge\" id=\"edge4\"><title>140245349283488-&gt;140245349120544</title>\n",
       "<path d=\"M205.64,-219.313C215.381,-210.33 227.459,-199.193 238.096,-189.386\" fill=\"none\" stroke=\"black\"/>\n",
       "<polygon fill=\"black\" points=\"240.553,-191.881 245.532,-182.529 235.808,-186.735 240.553,-191.881\" stroke=\"black\"/>\n",
       "</g>\n",
       "<!-- 140244117947448&#45;&gt;140245349120544 -->\n",
       "<g class=\"edge\" id=\"edge5\"><title>140244117947448-&gt;140245349120544</title>\n",
       "<path d=\"M345.371,-219.494C331.313,-210.166 313.693,-198.474 298.448,-188.358\" fill=\"none\" stroke=\"black\"/>\n",
       "<polygon fill=\"black\" points=\"300.059,-185.226 289.791,-182.614 296.188,-191.059 300.059,-185.226\" stroke=\"black\"/>\n",
       "</g>\n",
       "<!-- 140244117977800 -->\n",
       "<g class=\"node\" id=\"node9\"><title>140244117977800</title>\n",
       "<polygon fill=\"none\" points=\"215.5,-73.5 215.5,-109.5 312.5,-109.5 312.5,-73.5 215.5,-73.5\" stroke=\"black\"/>\n",
       "<text font-family=\"Times,serif\" font-size=\"14.00\" text-anchor=\"middle\" x=\"264\" y=\"-87.8\">add_1: Add</text>\n",
       "</g>\n",
       "<!-- 140245349120544&#45;&gt;140244117977800 -->\n",
       "<g class=\"edge\" id=\"edge8\"><title>140245349120544-&gt;140244117977800</title>\n",
       "<path d=\"M264,-146.313C264,-138.289 264,-128.547 264,-119.569\" fill=\"none\" stroke=\"black\"/>\n",
       "<polygon fill=\"black\" points=\"267.5,-119.529 264,-109.529 260.5,-119.529 267.5,-119.529\" stroke=\"black\"/>\n",
       "</g>\n",
       "<!-- 140245349118136&#45;&gt;140244117977800 -->\n",
       "<g class=\"edge\" id=\"edge9\"><title>140245349118136-&gt;140244117977800</title>\n",
       "<path d=\"M130.156,-146.494C154.792,-136.555 186.078,-123.934 212.207,-113.394\" fill=\"none\" stroke=\"black\"/>\n",
       "<polygon fill=\"black\" points=\"213.613,-116.601 221.578,-109.614 210.994,-110.109 213.613,-116.601\" stroke=\"black\"/>\n",
       "</g>\n",
       "<!-- 140244171987768&#45;&gt;140244117977800 -->\n",
       "<g class=\"edge\" id=\"edge10\"><title>140244171987768-&gt;140244117977800</title>\n",
       "<path d=\"M419.897,-146.494C390.611,-136.351 353.256,-123.413 322.454,-112.745\" fill=\"none\" stroke=\"black\"/>\n",
       "<polygon fill=\"black\" points=\"323.297,-109.333 312.702,-109.368 321.006,-115.948 323.297,-109.333\" stroke=\"black\"/>\n",
       "</g>\n",
       "<!-- 140247687615880 -->\n",
       "<g class=\"node\" id=\"node10\"><title>140247687615880</title>\n",
       "<polygon fill=\"none\" points=\"194,-0.5 194,-36.5 334,-36.5 334,-0.5 194,-0.5\" stroke=\"black\"/>\n",
       "<text font-family=\"Times,serif\" font-size=\"14.00\" text-anchor=\"middle\" x=\"264\" y=\"-14.8\">flatten_1: Flatten</text>\n",
       "</g>\n",
       "<!-- 140244117977800&#45;&gt;140247687615880 -->\n",
       "<g class=\"edge\" id=\"edge11\"><title>140244117977800-&gt;140247687615880</title>\n",
       "<path d=\"M264,-73.3129C264,-65.2895 264,-55.5475 264,-46.5691\" fill=\"none\" stroke=\"black\"/>\n",
       "<polygon fill=\"black\" points=\"267.5,-46.5288 264,-36.5288 260.5,-46.5289 267.5,-46.5288\" stroke=\"black\"/>\n",
       "</g>\n",
       "</g>\n",
       "</svg>"
      ],
      "text/plain": [
       "<IPython.core.display.SVG object>"
      ]
     },
     "execution_count": 7,
     "metadata": {},
     "output_type": "execute_result"
    }
   ],
   "source": [
    "from IPython.display import SVG\n",
    "from keras.utils.vis_utils import model_to_dot\n",
    "import pydot\n",
    "import graphviz\n",
    "import keras.backend as K\n",
    "\n",
    "SVG(model_to_dot(recommender_net()).create(prog='dot', format='svg'))"
   ]
  },
  {
   "cell_type": "code",
   "execution_count": 8,
   "metadata": {},
   "outputs": [],
   "source": [
    "from sklearn.model_selection import train_test_split\n",
    "train_and_valid, test = train_test_split(ratings, test_size=0.3, random_state=1234)\n",
    "train, valid = train_test_split(train_and_valid, test_size=0.3, random_state=5678)"
   ]
  },
  {
   "cell_type": "code",
   "execution_count": 9,
   "metadata": {},
   "outputs": [],
   "source": [
    "from yellowfin import YFOptimizer\n",
    "from keras import optimizers\n",
    "\n",
    "opts = {\n",
    "        'sgd+clip':\n",
    "        lambda: optimizers.SGD(clipvalue=1),\n",
    "        'sgd+momentum+clip':\n",
    "        lambda: optimizers.SGD(momentum=0.9, nesterov=True, clipvalue=1),\n",
    "        'adam+clip':\n",
    "        lambda: optimizers.Adam(clipvalue=1),\n",
    "        'nadam+clip':\n",
    "        lambda: optimizers.Nadam(clipvalue=1),\n",
    "        'adamax+clip':\n",
    "        lambda: optimizers.Adamax(clipvalue=1),\n",
    "        'yellowfin+clip':\n",
    "        lambda: optimizers.TFOptimizer(YFOptimizer(clip_thresh=1))\n",
    "    }"
   ]
  },
  {
   "cell_type": "code",
   "execution_count": 10,
   "metadata": {},
   "outputs": [
    {
     "name": "stdout",
     "output_type": "stream",
     "text": [
      "Waiting for redis server at 127.0.0.1:50613 to respond...\n",
      "Waiting for redis server at 127.0.0.1:36004 to respond...\n",
      "Starting local scheduler with 32 CPUs and 2 GPUs.\n",
      "View the web UI at http://localhost:8888/notebooks/ray_ui96526.ipynb\n"
     ]
    },
    {
     "data": {
      "text/plain": [
       "{'local_scheduler_socket_names': ['/tmp/scheduler62881971'],\n",
       " 'node_ip_address': '127.0.0.1',\n",
       " 'object_store_addresses': [ObjectStoreAddress(name='/tmp/plasma_store2232187', manager_name='/tmp/plasma_manager20742557', manager_port=51622)],\n",
       " 'redis_address': '127.0.0.1:50613'}"
      ]
     },
     "execution_count": 10,
     "metadata": {},
     "output_type": "execute_result"
    }
   ],
   "source": [
    "import ray\n",
    "ray.init(num_gpus=keras_util.ngpu())"
   ]
  },
  {
   "cell_type": "code",
   "execution_count": 11,
   "metadata": {},
   "outputs": [],
   "source": [
    "import keras\n",
    "import contextlib\n",
    "\n",
    "model_dir = os.path.join(os.getcwd(), os.pardir, 'models', 'movielens')\n",
    "\n",
    "def _train_recommender(optname):\n",
    "    if os.path.isfile('history'):\n",
    "        print('already trained')\n",
    "        return keras_util.load_object('history')\n",
    "\n",
    "    with keras_util.rectime('constructing network {:.0f} sec'):\n",
    "        keras_util.seedall()\n",
    "        net = recommender_net()\n",
    "        net.compile(loss='mse', optimizer=opts[optname]())\n",
    "\n",
    "    tb = keras.callbacks.TensorBoard(log_dir='.')\n",
    "    checkpoint = keras.callbacks.ModelCheckpoint(\n",
    "        filepath='net', monitor='val_loss', save_best_only=True)\n",
    "    earlystop = keras.callbacks.EarlyStopping(\n",
    "        monitor='val_loss', min_delta=0, patience=0)            \n",
    "\n",
    "    with keras_util.rectime('training {:.0f} sec'):\n",
    "        hist = net.fit(\n",
    "            [train.userId, train.movieId],\n",
    "            train.rating,\n",
    "            epochs=100,\n",
    "            batch_size=500000,\n",
    "            verbose=0,\n",
    "            callbacks=[checkpoint, tb, earlystop],\n",
    "            validation_data=([valid.userId, valid.movieId], valid.rating))\n",
    "    keras_util.save_object(hist.history, 'history')\n",
    "    return hist.history\n",
    "\n",
    "@ray.remote(num_gpus=1, max_calls=1)\n",
    "def train_recommender(optname):\n",
    "    with keras_util.ray_gpu_session():\n",
    "        with keras_util.cd(os.path.join(model_dir, optname)):\n",
    "            with open('stdout', 'w') as f:\n",
    "                with contextlib.redirect_stdout(f):\n",
    "                    return _train_recommender(optname)\n",
    "\n",
    "hists = ray.get([train_recommender.remote(optname) for optname in opts.keys()])"
   ]
  },
  {
   "cell_type": "code",
   "execution_count": 16,
   "metadata": {},
   "outputs": [],
   "source": [
    "hist_dict = {n: r for n, r in zip(opts.keys(), hists)}"
   ]
  },
  {
   "cell_type": "code",
   "execution_count": 17,
   "metadata": {},
   "outputs": [
    {
     "data": {
      "image/png": "[encoded data removed]",
      "text/plain": [
       "<matplotlib.figure.Figure at 0x7f8df42e2048>"
      ]
     },
     "metadata": {},
     "output_type": "display_data"
    },
    {
     "data": {
      "image/png": "[encoded data removed]",
      "text/plain": [
       "<matplotlib.figure.Figure at 0x7f8d50049d68>"
      ]
     },
     "metadata": {},
     "output_type": "display_data"
    }
   ],
   "source": [
    "for losstype in ['loss', 'val_loss']:\n",
    "    for optname, hist in hist_dict.items():\n",
    "        plt.semilogy(hist[losstype], label=optname)\n",
    "    plt.legend(bbox_to_anchor=(1.05, 1.0), loc=2, borderaxespad=0.)\n",
    "    plt.title(losstype + ' vs epoch')\n",
    "    plt.show()"
   ]
  },
  {
   "cell_type": "code",
   "execution_count": 18,
   "metadata": {},
   "outputs": [
    {
     "name": "stdout",
     "output_type": "stream",
     "text": [
      "+-------------------+---------+\n",
      "| adamax+clip       |  0.7525 |\n",
      "+-------------------+---------+\n",
      "| adam+clip         |  0.7538 |\n",
      "+-------------------+---------+\n",
      "| nadam+clip        |  0.7603 |\n",
      "+-------------------+---------+\n",
      "| yellowfin+clip    |  1.0636 |\n",
      "+-------------------+---------+\n",
      "| sgd+momentum+clip |  1.0700 |\n",
      "+-------------------+---------+\n",
      "| sgd+clip          | 11.8087 |\n",
      "+-------------------+---------+\n"
     ]
    }
   ],
   "source": [
    "from tabulate import tabulate\n",
    "best_val = [{'optimizer': optname, 'val_loss': min(hist['val_loss'])} for optname, hist in hist_dict.items()]\n",
    "best_val.sort(key=lambda d: d['val_loss'])\n",
    "print(tabulate(best_val, tablefmt='grid', floatfmt=\"6.4f\"))"
   ]
  },
  {
   "cell_type": "code",
   "execution_count": 32,
   "metadata": {},
   "outputs": [
    {
     "name": "stdout",
     "output_type": "stream",
     "text": [
      "loading adamax+clip 0 sec\n",
      "9800128/9800128 [==============================] - ETA:  - ETA:  - ETA:  - ETA:  - ETA:  - ETA:  - ETA:  - ETA:  - ETA:  - ETA:  - ETA:  - ETA:  - ETA:  - ETA:  - ETA:  - ETA:  - ETA:  - ETA:  - ETA:  - 4s     \n",
      "evaluating on train 5 sec\n",
      "training until loss <= 1.0574\n",
      "Epoch 1/100\n",
      "14000184/14000184 [==============================] - ETA: 44s - loss: 1.05 - ETA: 27s - loss: 1.05 - ETA: 21s - loss: 1.04 - ETA: 18s - loss: 1.04 - ETA: 16s - loss: 1.03 - ETA: 14s - loss: 1.03 - ETA: 13s - loss: 1.02 - ETA: 12s - loss: 1.02 - ETA: 11s - loss: 1.01 - ETA: 10s - loss: 1.00 - ETA: 9s - loss: 1.0046 - ETA: 8s - loss: 0.999 - ETA: 8s - loss: 0.994 - ETA: 7s - loss: 0.990 - ETA: 7s - loss: 0.985 - ETA: 6s - loss: 0.981 - ETA: 5s - loss: 0.976 - ETA: 5s - loss: 0.972 - ETA: 4s - loss: 0.968 - ETA: 4s - loss: 0.964 - ETA: 3s - loss: 0.960 - ETA: 3s - loss: 0.956 - ETA: 2s - loss: 0.952 - ETA: 2s - loss: 0.949 - ETA: 1s - loss: 0.945 - ETA: 1s - loss: 0.941 - ETA: 0s - loss: 0.938 - ETA: 0s - loss: 0.934 - 16s - loss: 0.9345    \n",
      "post-train 17 sec\n",
      "6000000/6000079 [============================>.] - ETA:  - ETA:  - ETA:  - ETA:  - ETA:  - ETA:  - ETA:  - ETA:  - ETA:  - ETA:  - ETA:  - ETA: 0sfinal test mse 0.832238714498\n"
     ]
    }
   ],
   "source": [
    "K.clear_session()\n",
    "keras_util.seedall()\n",
    "chosen_opt = 'adamax+clip'\n",
    "\n",
    "with keras_util.rectime('loading ' + chosen_opt + ' {:.0f} sec'):\n",
    "    old_net = os.path.join(model_dir, optname, 'net')\n",
    "    final_net = os.path.join(model_dir, 'final-net')\n",
    "    net = recommender_net()\n",
    "    net.compile(loss='mse', optimizer=opts[chosen_opt]())\n",
    "    net.load_weights(old_net)\n",
    "    \n",
    "with keras_util.rectime('evaluating on train {:.0f} sec'):\n",
    "    train_mse = net.evaluate([train.userId, train.movieId], train.rating, batch_size=500000)\n",
    "\n",
    "print('training until loss <= {:0.4f}'.format(train_mse))\n",
    "with keras_util.rectime('post-train {:.0f} sec'):\n",
    "    checkpoint = keras.callbacks.ModelCheckpoint(\n",
    "        filepath=final_net, monitor='loss', save_best_only=True)\n",
    "    early_stopping = keras_util.EarlyStopLambda(\n",
    "        metric='loss', should_stop=lambda loss: loss <= train_mse)   \n",
    "\n",
    "    net.fit(\n",
    "        [train_and_valid.userId, train_and_valid.movieId],\n",
    "        train_and_valid.rating,\n",
    "        epochs=100,\n",
    "        batch_size=500000,\n",
    "        callbacks=[checkpoint, early_stopping])\n",
    "\n",
    "final_eval = net.evaluate([test.userId, test.movieId], test.rating, batch_size=500000)\n",
    "print()\n",
    "print('final test mse', final_eval)"
   ]
  },
  {
   "cell_type": "code",
   "execution_count": null,
   "metadata": {
    "collapsed": true
   },
   "outputs": [],
   "source": []
  }
 ],
 "metadata": {
  "kernelspec": {
   "display_name": "Python 3",
   "language": "python",
   "name": "python3"
  },
  "language_info": {
   "codemirror_mode": {
    "name": "ipython",
    "version": 3
   },
   "file_extension": ".py",
   "mimetype": "text/x-python",
   "name": "python",
   "nbconvert_exporter": "python",
   "pygments_lexer": "ipython3",
   "version": "3.5.3"
  }
 },
 "nbformat": 4,
 "nbformat_minor": 2
}
