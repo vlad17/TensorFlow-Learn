{
 "metadata": {
  "name": ""
 },
 "nbformat": 3,
 "nbformat_minor": 0,
 "worksheets": [
  {
   "cells": [
    {
     "cell_type": "code",
     "collapsed": false,
     "input": [
      "import sys\n",
      "if '../code' not in sys.path: sys.path.append('../code')\n",
      "import mnist_downloader\n",
      "import numpy as np"
     ],
     "language": "python",
     "metadata": {},
     "outputs": [],
     "prompt_number": 1
    },
    {
     "cell_type": "code",
     "collapsed": false,
     "input": [
      "train, test = mnist_downloader.read_data_sets('../data', one_hot=True)\n",
      "import tensorflow as tf\n",
      "\n",
      "from data_set import DataSet\n",
      "\n",
      "# TODO create validation mechanism (cross)\n",
      "vx, tx = np.vsplit(train.x, [5000])\n",
      "vy, ty = np.vsplit(train.y, [5000])\n",
      "train = DataSet(tx, ty)\n",
      "validation = DataSet(vx, vy)\n",
      "\n",
      "print() # TODO is there a package for this?\n",
      "cols = ['Data Set', 'x', 'y']\n",
      "def printtbl(ls): print(''.join(str(i).ljust(25) for i in ls))\n",
      "printtbl(cols)\n",
      "printtbl(['train', train.x.shape, train.y.shape])\n",
      "printtbl(['test', test.x.shape, test.y.shape])\n",
      "print()\n",
      "print('x {!s} y {!s}'.format(train.x.dtype, train.y.dtype))"
     ],
     "language": "python",
     "metadata": {},
     "outputs": [
      {
       "output_type": "stream",
       "stream": "stdout",
       "text": [
        "Extracting ../data/train-images-idx3-ubyte.gz\n",
        "Extracting"
       ]
      },
      {
       "output_type": "stream",
       "stream": "stdout",
       "text": [
        " ../data/train-labels-idx1-ubyte.gz\n",
        "Extracting ../data/t10k-images-idx3-ubyte.gz\n",
        "Extracting ../data/t10k-labels-idx1-ubyte.gz\n",
        "\n"
       ]
      },
      {
       "output_type": "stream",
       "stream": "stdout",
       "text": [
        "Data Set                 x                        y                        \n",
        "train                    (55000, 784)             (55000, 10)              \n",
        "test                     (10000, 784)             (10000, 10)              \n",
        "\n",
        "x float32 y float32\n"
       ]
      }
     ],
     "prompt_number": 26
    },
    {
     "cell_type": "code",
     "collapsed": false,
     "input": [
      "# https://www.tensorflow.org/versions/0.6.0/tutorials/mnist/pros/index.html\n",
      "\n",
      "# Softmax regression\n",
      "# TODO make a softmax module with smarter training\n",
      "x = tf.placeholder(\"float\", shape=[None, 784]) # any batch size on flattened pixel values\n",
      "y_ = tf.placeholder(\"float\", shape=[None, 10])\n",
      "W = tf.Variable(tf.random_normal([784,10]))\n",
      "b = tf.Variable(tf.random_normal([10]))\n",
      "\n",
      "# Vectorized softmax on entire batch after dot product\n",
      "unscaled_logit = tf.matmul(x, W) + b\n",
      "y = tf.nn.softmax(unscaled_logit)\n",
      "# Loss function and hard-coded training\n",
      "cross_entropy = tf.nn.softmax_cross_entropy_with_logits(unscaled_logit, y_)"
     ],
     "language": "python",
     "metadata": {},
     "outputs": [],
     "prompt_number": 27
    },
    {
     "cell_type": "code",
     "collapsed": false,
     "input": [
      "global_step = tf.Variable(0, trainable=False)\n",
      "initial_learning_rate, decay_fraction, decay_period = 0.01, 0.95, 10000 # TODO better values here\n",
      "learning_rate = tf.train.exponential_decay(initial_learning_rate, global_step,\n",
      "                                           decay_period, decay_fraction, staircase=False)\n",
      "train_step = tf.train.GradientDescentOptimizer(learning_rate).minimize(cross_entropy, global_step=global_step)\n",
      "\n",
      "def eval_ds(ds):\n",
      "    correct_prediction = tf.equal(tf.argmax(y,1), tf.argmax(y_,1))\n",
      "    accuracy = tf.reduce_mean(tf.cast(correct_prediction, \"float\"))\n",
      "    return 1 - accuracy.eval(feed_dict={x: ds.x, y_: ds.y})\n",
      "\n",
      "sess = tf.InteractiveSession()\n",
      "\n",
      "sess.run(tf.initialize_all_variables())\n",
      "\n",
      "NUM_EPOCHS = 100\n",
      "UPDATE_COARSENESS = 5\n",
      "BATCH_SIZE = 50\n",
      "SAVE_PATH = '/tmp/tf-mnist-batch-sgd.ckpt'\n",
      "\n",
      "saver = tf.train.Saver()\n",
      "\n",
      "best_model = None\n",
      "best_validation = np.inf\n",
      "best_epoch = None\n",
      "\n",
      "for epoch in range(1, 1 + NUM_EPOCHS): # TODO better 1-index?    \n",
      "    for batch in train.new_epoch(BATCH_SIZE):\n",
      "        train_step.run(feed_dict={x: batch[0], y_: batch[1]})\n",
      "    if epoch == NUM_EPOCHS or UPDATE_COARSENESS and epoch % UPDATE_COARSENESS == 0:\n",
      "            valid_err = eval_ds(validation)\n",
      "            print('Epoch {:3} error {}'.format(epoch, valid_err))\n",
      "            if valid_err > best_validation: break\n",
      "            best_validation = valid_err\n",
      "            best_epoch = epoch\n",
      "            best_model = saver.save(sess, SAVE_PATH)\n",
      "            \n",
      "print('Halted at epoch {}/{} with best validation model error {}'\n",
      "      .format(best_epoch, NUM_EPOCHS, best_validation))\n",
      "        \n",
      "saver.restore(sess, best_model)\n",
      "\n",
      "print('Test error', eval_ds(test))\n",
      "\n",
      "sess.close()"
     ],
     "language": "python",
     "metadata": {},
     "outputs": [
      {
       "output_type": "stream",
       "stream": "stdout",
       "text": [
        "Epoch   5 error 0.09799998998641968\n",
        "Epoch  10 error 0.08700001239776611"
       ]
      },
      {
       "output_type": "stream",
       "stream": "stdout",
       "text": [
        "\n",
        "Epoch  15 error 0.08579999208450317"
       ]
      },
      {
       "output_type": "stream",
       "stream": "stdout",
       "text": [
        "\n",
        "Epoch  20 error 0.07940000295639038"
       ]
      },
      {
       "output_type": "stream",
       "stream": "stdout",
       "text": [
        "\n",
        "Epoch  25 error 0.08079999685287476"
       ]
      },
      {
       "output_type": "stream",
       "stream": "stdout",
       "text": [
        "\n",
        "Halted at epoch 20/100 with best validation model error 0.07940000295639038\n",
        "Test error"
       ]
      },
      {
       "output_type": "stream",
       "stream": "stdout",
       "text": [
        " 0.0799999833107\n"
       ]
      }
     ],
     "prompt_number": 32
    }
   ],
   "metadata": {}
  }
 ]
}