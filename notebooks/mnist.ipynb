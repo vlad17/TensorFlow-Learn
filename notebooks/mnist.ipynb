{
 "metadata": {
  "name": ""
 },
 "nbformat": 3,
 "nbformat_minor": 0,
 "worksheets": [
  {
   "cells": [
    {
     "cell_type": "code",
     "collapsed": false,
     "input": [
      "# This notebook somewhat follows the tutorial from here:\n",
      "# https://www.tensorflow.org/versions/0.6.0/tutorials/mnist/pros/index.html\n",
      "#\n",
      "# The current working directory is expected to be $PROJECT_ROOT/notebooks\n",
      "\n",
      "import sys\n",
      "if '../code' not in sys.path: sys.path.append('../code')\n",
      "import mnist_downloader\n",
      "import numpy as np"
     ],
     "language": "python",
     "metadata": {},
     "outputs": [],
     "prompt_number": 1
    },
    {
     "cell_type": "code",
     "collapsed": false,
     "input": [
      "train, test = mnist_downloader.read_data_sets('../data', one_hot=True)\n",
      "import tensorflow as tf\n",
      "from data_set import DataSet\n",
      "from tabulate import tabulate\n",
      "\n",
      "tbl = tabulate([['train', train.x.shape, train.y.shape],\n",
      "                ['test', test.x.shape, test.y.shape]],\n",
      "               ['Data Set', 'x', 'y'], tablefmt='grid')\n",
      "print('\\n{}\\n\\nx {!s} y {!s}'.format(tbl, train.x.dtype, train.y.dtype))"
     ],
     "language": "python",
     "metadata": {},
     "outputs": [
      {
       "output_type": "stream",
       "stream": "stdout",
       "text": [
        "Extracting ../data/train-images-idx3-ubyte.gz\n",
        "Extracting"
       ]
      },
      {
       "output_type": "stream",
       "stream": "stdout",
       "text": [
        " ../data/train-labels-idx1-ubyte.gz\n",
        "Extracting ../data/t10k-images-idx3-ubyte.gz\n",
        "Extracting ../data/t10k-labels-idx1-ubyte.gz\n",
        "\n",
        "+------------+--------------+-------------+\n",
        "| Data Set   | x            | y           |\n",
        "+============+==============+=============+\n",
        "| train      | (60000, 784) | (60000, 10) |\n",
        "+------------+--------------+-------------+\n",
        "| test       | (10000, 784) | (10000, 10) |\n",
        "+------------+--------------+-------------+\n",
        "\n",
        "x float32 y float32"
       ]
      },
      {
       "output_type": "stream",
       "stream": "stdout",
       "text": [
        "\n"
       ]
      }
     ],
     "prompt_number": 2
    },
    {
     "cell_type": "code",
     "collapsed": false,
     "input": [
      "import regression\n",
      "\n",
      "x = tf.placeholder(\"float\", shape=[None, 784]) # any batch size on flattened pixel values\n",
      "y = tf.placeholder(\"float\", shape=[None, 10])\n",
      "sm = regression.SoftMax(x, y)\n",
      "\n",
      "global_step = tf.Variable(0, trainable=False) # don't train a global step value\n",
      "initial_learning_rate, decay_fraction, decay_period = 0.01, 0.95, 10000\n",
      "learning_rate = tf.train.exponential_decay(initial_learning_rate, global_step,\n",
      "                                           decay_period, decay_fraction, staircase=True)\n",
      "train_step = tf.train.GradientDescentOptimizer(learning_rate) \\\n",
      "             .minimize(sm.cross_entropy, global_step=global_step)\n",
      "\n",
      "sess = tf.InteractiveSession()\n",
      "\n",
      "NUM_EPOCHS = 100\n",
      "NUM_FOLDS = 4\n",
      "UPDATE_COARSENESS = 5\n",
      "BATCH_SIZE = 50\n",
      "SAVE_PATH = '/tmp/tf-mnist-batch-sgd.ckpt'\n",
      "\n",
      "saver = tf.train.Saver()\n",
      "\n",
      "best_model = None\n",
      "best_validation = np.inf\n",
      "best_epoch = None\n",
      "best_fold = 0\n",
      "\n",
      "# Cross validate on random restarts\n",
      "for fold, validate in enumerate(train.cross_validation(NUM_FOLDS), 1):\n",
      "    print('Starting fold {}'.format(fold))\n",
      "    sess.run(tf.initialize_all_variables()) # random restart\n",
      "    best_in_fold_validation = np.inf\n",
      "    for epoch in range(1, 1 + NUM_EPOCHS):\n",
      "        for batch in train.new_epoch(BATCH_SIZE):\n",
      "            train_step.run(feed_dict={x: batch[0], y: batch[1]})\n",
      "        if epoch == NUM_EPOCHS or UPDATE_COARSENESS and epoch % UPDATE_COARSENESS == 0:\n",
      "            valid_err = validate.multiclass_error(x, sm.y, y)\n",
      "            print('  Epoch {:3} error {}'.format(epoch, valid_err))\n",
      "            if valid_err > best_in_fold_validation: break\n",
      "            best_in_fold_validation = valid_err\n",
      "            if valid_err > best_validation: continue\n",
      "            best_validation = valid_err\n",
      "            best_epoch = epoch\n",
      "            best_fold = fold\n",
      "            best_model = saver.save(sess, SAVE_PATH)\n",
      "            \n",
      "print('Fold {}/{} epoch {}/{} with best validation error {}'\n",
      "      .format(best_fold, NUM_FOLDS, best_epoch, NUM_EPOCHS, best_validation))\n",
      "        \n",
      "saver.restore(sess, best_model)\n",
      "\n",
      "print('Test error', test.multiclass_error(x, sm.y, y))\n",
      "sess.close()"
     ],
     "language": "python",
     "metadata": {},
     "outputs": [
      {
       "output_type": "stream",
       "stream": "stdout",
       "text": [
        "Starting fold 1\n",
        "  Epoch   5 error 0.10706669092178345"
       ]
      },
      {
       "output_type": "stream",
       "stream": "stdout",
       "text": [
        "\n",
        "  Epoch  10 error 0.09579998254776001"
       ]
      },
      {
       "output_type": "stream",
       "stream": "stdout",
       "text": [
        "\n",
        "  Epoch  15 error 0.09793335199356079"
       ]
      },
      {
       "output_type": "stream",
       "stream": "stdout",
       "text": [
        "\n",
        "Starting fold 2\n",
        "  Epoch   5 error 0.10119998455047607"
       ]
      },
      {
       "output_type": "stream",
       "stream": "stdout",
       "text": [
        "\n",
        "  Epoch  10 error 0.09506666660308838"
       ]
      },
      {
       "output_type": "stream",
       "stream": "stdout",
       "text": [
        "\n",
        "  Epoch  15 error 0.09866666793823242"
       ]
      },
      {
       "output_type": "stream",
       "stream": "stdout",
       "text": [
        "\n",
        "Starting fold 3\n",
        "  Epoch   5 error 0.10946667194366455"
       ]
      },
      {
       "output_type": "stream",
       "stream": "stdout",
       "text": [
        "\n",
        "  Epoch  10 error 0.10500001907348633"
       ]
      },
      {
       "output_type": "stream",
       "stream": "stdout",
       "text": [
        "\n",
        "  Epoch  15 error 0.10126668214797974"
       ]
      },
      {
       "output_type": "stream",
       "stream": "stdout",
       "text": [
        "\n",
        "  Epoch  20 error 0.09573334455490112"
       ]
      },
      {
       "output_type": "stream",
       "stream": "stdout",
       "text": [
        "\n",
        "  Epoch  25 error 0.09673333168029785"
       ]
      },
      {
       "output_type": "stream",
       "stream": "stdout",
       "text": [
        "\n",
        "Starting fold 4\n",
        "  Epoch   5 error 0.10106664896011353"
       ]
      },
      {
       "output_type": "stream",
       "stream": "stdout",
       "text": [
        "\n",
        "  Epoch  10 error 0.09586668014526367"
       ]
      },
      {
       "output_type": "stream",
       "stream": "stdout",
       "text": [
        "\n",
        "  Epoch  15 error 0.09093332290649414"
       ]
      },
      {
       "output_type": "stream",
       "stream": "stdout",
       "text": [
        "\n",
        "  Epoch  20 error 0.08380001783370972"
       ]
      },
      {
       "output_type": "stream",
       "stream": "stdout",
       "text": [
        "\n",
        "  Epoch  25 error 0.08473330736160278"
       ]
      },
      {
       "output_type": "stream",
       "stream": "stdout",
       "text": [
        "\n",
        "Fold 4/4 epoch 20/100 with best validation error 0.08380001783370972\n",
        "Test error 0.0853999853134\n"
       ]
      }
     ],
     "prompt_number": 3
    }
   ],
   "metadata": {}
  }
 ]
}