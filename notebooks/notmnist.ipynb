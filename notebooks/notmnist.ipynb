{
 "cells": [
  {
   "cell_type": "code",
   "execution_count": 1,
   "metadata": {
    "cellView": "both",
    "colab": {
     "autoexec": {
      "startup": false,
      "wait_interval": 0
     }
    },
    "colab_type": "code",
    "id": "apJbCsBHl-2A"
   },
   "outputs": [
    {
     "name": "stderr",
     "output_type": "stream",
     "text": [
      "Using TensorFlow backend.\n"
     ]
    }
   ],
   "source": [
    "# Based on Google's Udacity Deep Learning course, Assignments 1-4\n",
    "\n",
    "%reload_ext autoreload\n",
    "%autoreload 1\n",
    "%matplotlib inline\n",
    "import matplotlib.pyplot as plt\n",
    "\n",
    "import sys\n",
    "import os\n",
    "import os.path\n",
    "assert os.path.basename(os.getcwd()) == 'notebooks', os.path.basename(os.getcwd())\n",
    "code_dir = os.path.join(os.getcwd(), os.pardir, 'code')\n",
    "if code_dir not in sys.path:\n",
    "    sys.path.append(code_dir)\n",
    "    os.environ['PYTHONPATH'] = os.environ.get('PYTHONPATH', '') + os.pathsep + code_dir\n",
    "model_dir = os.path.join(os.getcwd(), os.pardir, 'models')\n",
    "data_dir = os.path.join(os.getcwd(), os.pardir, 'data')\n",
    "    \n",
    "import keras\n",
    "%aimport keras_util"
   ]
  },
  {
   "cell_type": "code",
   "execution_count": null,
   "metadata": {
    "cellView": "both",
    "colab": {
     "autoexec": {
      "startup": false,
      "wait_interval": 0
     },
     "output_extras": [
      {
       "item_id": 1
      }
     ]
    },
    "colab_type": "code",
    "executionInfo": {
     "elapsed": 186058,
     "status": "ok",
     "timestamp": 1444485672507,
     "user": {
      "color": "#1FA15D",
      "displayName": "Vincent Vanhoucke",
      "isAnonymous": false,
      "isMe": true,
      "permissionId": "05076109866853157986",
      "photoUrl": "//lh6.googleusercontent.com/-cCJa7dTDcgQ/AAAAAAAAAAI/AAAAAAAACgw/r2EZ_8oYer4/s50-c-k-no/photo.jpg",
      "sessionId": "2a0a5e044bb03b66",
      "userId": "102167687554210253930"
     },
     "user_tz": 420
    },
    "id": "EYRJ4ICW6-da",
    "outputId": "0d0f85df-155f-4a89-8e7e-ee32df36ec8d"
   },
   "outputs": [],
   "source": [
    "from keras.utils import get_file\n",
    "def get_notmnist_tgz(base):\n",
    "    notmnist_origin = 'https://commondatastorage.googleapis.com/books1000/'\n",
    "    subdir = 'notmnist/'\n",
    "    ext = '.tar.gz'\n",
    "    get_file(base + ext, notmnist_origin + base + ext, cache_dir=data_dir, cache_subdir=subdir, extract=True)\n",
    "    return os.path.join(data_dir, subdir, base)\n",
    "\n",
    "train_dir = get_notmnist_tgz('notMNIST_large')\n",
    "test_dir = get_notmnist_tgz('notMNIST_small')"
   ]
  },
  {
   "cell_type": "code",
   "execution_count": 18,
   "metadata": {},
   "outputs": [
    {
     "data": {
      "image/png": "[encoded data removed]",
      "text/plain": [
       "<matplotlib.figure.Figure at 0x7f0424d1f6d8>"
      ]
     },
     "metadata": {},
     "output_type": "display_data"
    }
   ],
   "source": [
    "from tabulate import tabulate\n",
    "import numpy as np\n",
    "\n",
    "classes = os.listdir(train_dir)\n",
    "classes.sort()\n",
    "counts = [len(os.listdir(os.path.join(train_dir, cls))) for cls in classes]\n",
    "\n",
    "idx = np.arange(len(classes))\n",
    "plt.bar(idx, counts)\n",
    "plt.xlabel('label')\n",
    "plt.ylabel('counts')\n",
    "plt.title('per-label training example counts')\n",
    "plt.grid(axis='y')\n",
    "plt.xticks(idx, classes)\n",
    "plt.show()"
   ]
  },
  {
   "cell_type": "markdown",
   "metadata": {
    "colab_type": "text",
    "id": "PBdkjESPK8tw"
   },
   "source": [
    "Now let's load the data in a more manageable format. Since, depending on your computer setup you might not be able to fit it all in memory, we'll load each class into a separate dataset, store them on disk and curate them independently. Later we'll merge them into a single dataset of manageable size.\n",
    "\n",
    "We'll convert the entire dataset into a 3D array (image index, x, y) of floating point values, normalized to have approximately zero mean and standard deviation ~0.5 to make training easier down the road. \n",
    "\n",
    "A few images might not be readable, we'll just skip them."
   ]
  },
  {
   "cell_type": "code",
   "execution_count": 34,
   "metadata": {},
   "outputs": [
    {
     "data": {
      "image/png": "[encoded data removed]",
      "text/plain": [
       "<matplotlib.figure.Figure at 0x7f0399ce5dd8>"
      ]
     },
     "metadata": {},
     "output_type": "display_data"
    },
    {
     "name": "stdout",
     "output_type": "stream",
     "text": [
      "images are 28x28\n"
     ]
    }
   ],
   "source": [
    "def fullpath_listdir(dirname):\n",
    "    return [os.path.join(dirname, fname) for fname in os.listdir(dirname)]    \n",
    "\n",
    "classdirs = fullpath_listdir(train_dir)\n",
    "classdirs.sort()\n",
    "selected_images = [np.random.choice(fullpath_listdir(classdir)) for classdir in classdirs]\n",
    "\n",
    "from matplotlib.image import imread\n",
    "\n",
    "# https://stackoverflow.com/questions/36006136/\n",
    "fig = plt.figure()\n",
    "for i, f in enumerate(selected_images, start=1):\n",
    "    ax = fig.add_subplot(1, len(selected_images), i)\n",
    "    plt.imshow(imread(f), cmap='Greys_r')\n",
    "    plt.axis('off')\n",
    "\n",
    "plt.show()\n",
    "\n",
    "imheight, imwidth = imread(selected_images[0]).shape\n",
    "print('images are {}x{}'.format(imwidth, imheight))"
   ]
  },
  {
   "cell_type": "markdown",
   "metadata": {
    "colab_type": "text",
    "id": "gE_cRAQB33lk"
   },
   "source": [
    "---\n",
    "Problem 5\n",
    "---------\n",
    "\n",
    "By construction, this dataset might contain a lot of overlapping samples, including training data that's also contained in the validation and test set! Overlap between training and test can skew the results if you expect to use your model in an environment where there is never an overlap, but are actually ok if you expect to see training samples recur when you use it.\n",
    "Measure how much overlap there is between training, validation and test samples.\n",
    "\n",
    "Optional questions:\n",
    "- What about near duplicates between datasets? (images that are almost identical)\n",
    "- Create a sanitized validation and test set, and compare your accuracy on those in subsequent assignments.\n",
    "---"
   ]
  },
  {
   "cell_type": "code",
   "execution_count": null,
   "metadata": {
    "collapsed": true
   },
   "outputs": [],
   "source": [
    "# TODO: do above, but copying to train/test/validation folders. Then print train/valid/test counts"
   ]
  },
  {
   "cell_type": "code",
   "execution_count": null,
   "metadata": {
    "collapsed": true
   },
   "outputs": [],
   "source": [
    "# TODO: logistic, pre-trianed vgg or whatever keras has pre-trianed.\n",
    "\n",
    "# follow tutorial on\n",
    "# https://blog.keras.io/building-powerful-image-classification-models-using-very-little-data.html\n",
    "# for fine-tuning\n",
    "# kerasutil - two-round post-train with validation set helper method\n",
    "\n",
    "# current best is 97.4%\n",
    "# http://yaroslavvb.blogspot.com/2011/09/notmnist-dataset.html?showComment=1391023266211#c8758720086795711595"
   ]
  },
  {
   "cell_type": "code",
   "execution_count": 33,
   "metadata": {},
   "outputs": [
    {
     "data": {
      "text/plain": [
       "(28, 28)"
      ]
     },
     "execution_count": 33,
     "metadata": {},
     "output_type": "execute_result"
    }
   ],
   "source": [
    "\n",
    "# The entire dataset fits into memory but it'll be good exercise to use\n",
    "# more convenient tools (which will come in handy for larger datasets)\n",
    "# https://blog.keras.io/building-powerful-image-classification-models-using-very-little-data.html\n",
    "from keras.preprocessing.image import ImageDataGenerator\n",
    "\n",
    "datagen = ImageDataGenerator(\n",
    "    featurewise_center=True,\n",
    "    featurewise_std_normalization=True,\n",
    "    width_shift_range=0.2,\n",
    "    height_shift_range=0.2, \n",
    "    fill_mode='constant')"
   ]
  }
 ],
 "metadata": {
  "colab": {
   "default_view": {},
   "name": "1_notmnist.ipynb",
   "provenance": [],
   "version": "0.3.2",
   "views": {}
  },
  "kernelspec": {
   "display_name": "Python 3",
   "language": "python",
   "name": "python3"
  },
  "language_info": {
   "codemirror_mode": {
    "name": "ipython",
    "version": 3
   },
   "file_extension": ".py",
   "mimetype": "text/x-python",
   "name": "python",
   "nbconvert_exporter": "python",
   "pygments_lexer": "ipython3",
   "version": "3.5.3"
  }
 },
 "nbformat": 4,
 "nbformat_minor": 1
}
