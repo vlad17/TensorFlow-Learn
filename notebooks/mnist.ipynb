{
 "cells": [
  {
   "cell_type": "code",
   "execution_count": 1,
   "metadata": {},
   "outputs": [],
   "source": [
    "# This notebook somewhat follows the tutorials from here:\n",
    "# https://www.tensorflow.org/versions/0.6.0/tutorials/mnist/pros/index.html\n",
    "\n",
    "import numpy as np\n",
    "import tensorflow as tf\n",
    "\n",
    "% matplotlib inline\n",
    "import matplotlib.pyplot as plt\n",
    "\n",
    "import sys\n",
    "if '../code' not in sys.path:\n",
    "    sys.path.append('../code')\n",
    "\n",
    "%reload_ext autoreload\n",
    "%autoreload 1"
   ]
  },
  {
   "cell_type": "code",
   "execution_count": 2,
   "metadata": {},
   "outputs": [
    {
     "name": "stdout",
     "output_type": "stream",
     "text": [
      "Successfully downloaded train-images-idx3-ubyte.gz 9912422 bytes.\n",
      "Extracting ../data/train-images-idx3-ubyte.gz\n",
      "Successfully downloaded train-labels-idx1-ubyte.gz 28881 bytes.\n",
      "Extracting ../data/train-labels-idx1-ubyte.gz\n",
      "Successfully downloaded t10k-images-idx3-ubyte.gz 1648877 bytes.\n",
      "Extracting ../data/t10k-images-idx3-ubyte.gz\n",
      "Successfully downloaded t10k-labels-idx1-ubyte.gz 4542 bytes.\n",
      "Extracting ../data/t10k-labels-idx1-ubyte.gz\n",
      "+------------+--------------+-------------+\n",
      "| Data Set   | x float32    | y float32   |\n",
      "+============+==============+=============+\n",
      "| train      | (60000, 784) | (60000, 10) |\n",
      "+------------+--------------+-------------+\n",
      "| test       | (10000, 784) | (10000, 10) |\n",
      "+------------+--------------+-------------+\n"
     ]
    }
   ],
   "source": [
    "%aimport mnist_downloader\n",
    "trainx, trainy, testx, testy = mnist_downloader.read_data_sets(\n",
    "    '../data', one_hot=True, exact_inputs=False)\n",
    "\n",
    "from tabulate import tabulate\n",
    "\n",
    "print(tabulate(\n",
    "    [['train', trainx.shape, trainy.shape],\n",
    "     ['test', testx.shape, testy.shape]],\n",
    "    ['Data Set', 'x {}'.format(trainx.dtype), 'y {}'.format(trainy.dtype)],\n",
    "    tablefmt='grid'))"
   ]
  },
  {
   "cell_type": "code",
   "execution_count": 3,
   "metadata": {},
   "outputs": [
    {
     "data": {
      "image/png": "[encoded data removed]",
      "text/plain": [
       "<matplotlib.figure.Figure at 0x7f9a2cf75358>"
      ]
     },
     "metadata": {},
     "output_type": "display_data"
    }
   ],
   "source": [
    "# Verify dataset balance\n",
    "\n",
    "plt.hist(trainy.argmax(1), 10, facecolor='green', alpha=0.75)\n",
    "plt.axhline(len(trainy) / 10, color='red', ls=':')\n",
    "plt.xlabel('label')\n",
    "plt.ylabel('counts')\n",
    "plt.title(r'histogram of training labels')\n",
    "plt.grid(True)\n",
    "\n",
    "plt.show()"
   ]
  },
  {
   "cell_type": "code",
   "execution_count": 4,
   "metadata": {},
   "outputs": [],
   "source": [
    "from sklearn.model_selection import train_test_split\n",
    "\n",
    "train_and_validx = trainx\n",
    "train_and_validy = trainy\n",
    "trainx, validx, trainy, validy = train_test_split(\n",
    "    train_and_validx, train_and_validy, test_size=0.3, random_state=1234)"
   ]
  },
  {
   "cell_type": "code",
   "execution_count": 5,
   "metadata": {},
   "outputs": [
    {
     "name": "stderr",
     "output_type": "stream",
     "text": [
      "Using TensorFlow backend.\n"
     ]
    }
   ],
   "source": [
    "import keras\n",
    "from keras.models import Sequential\n",
    "from keras.layers import *\n",
    "\n",
    "network_gen = {\n",
    "    'google': lambda: Sequential([\n",
    "            Reshape([28, 28, 1], input_shape=(trainx.shape[1], )),\n",
    "            Conv2D(\n",
    "                32, [5, 5], strides=(1, 1), padding='same', activation='relu'),\n",
    "            MaxPooling2D(pool_size=(2, 2), padding='same'),\n",
    "            Conv2D(\n",
    "                64, [5, 5], strides=(1, 1), padding='same', activation='relu'),\n",
    "            MaxPooling2D(pool_size=(2, 2), padding='same'),\n",
    "            Flatten(),\n",
    "            Dense(1024, activation='relu'),\n",
    "            Dropout(0.5),\n",
    "            Dense(10, activation='softmax')\n",
    "        ]),\n",
    "    'mlp-5': lambda: Sequential([\n",
    "            Dense(1024, activation='relu', input_dim=trainx.shape[1]),\n",
    "            Dropout(0.5),\n",
    "            BatchNormalization(),\n",
    "            Dense(1024, activation='relu'),\n",
    "            Dropout(0.5),\n",
    "            BatchNormalization(),\n",
    "            Dense(512, activation='relu'),\n",
    "            Dropout(0.5),\n",
    "            BatchNormalization(),\n",
    "            Dense(512, activation='relu'),\n",
    "            Dropout(0.5),\n",
    "            BatchNormalization(),\n",
    "            Dense(10, activation='softmax')\n",
    "        ]),\n",
    "    'logistic': lambda: Sequential([Dense(10, input_dim=trainx.shape[1], activation='softmax')])\n",
    "}"
   ]
  },
  {
   "cell_type": "code",
   "execution_count": 6,
   "metadata": {},
   "outputs": [
    {
     "name": "stdout",
     "output_type": "stream",
     "text": [
      "***** mlp-5 *****\n",
      "Train on 42000 samples, validate on 18000 samples\n",
      "Epoch 1/100\n",
      "42000/42000 [==============================] - 6s - loss: 0.5444 - acc: 0.8284 - val_loss: 0.1804 - val_acc: 0.9448\n",
      "Epoch 2/100\n",
      "42000/42000 [==============================] - 5s - loss: 0.2392 - acc: 0.9289 - val_loss: 0.1233 - val_acc: 0.9636\n",
      "Epoch 3/100\n",
      "42000/42000 [==============================] - 5s - loss: 0.1816 - acc: 0.9450 - val_loss: 0.1032 - val_acc: 0.9692\n",
      "Epoch 4/100\n",
      "42000/42000 [==============================] - 5s - loss: 0.1627 - acc: 0.9518 - val_loss: 0.1037 - val_acc: 0.9693\n",
      "Epoch 5/100\n",
      "42000/42000 [==============================] - 5s - loss: 0.1465 - acc: 0.9561 - val_loss: 0.0860 - val_acc: 0.9739\n",
      "Epoch 6/100\n",
      "42000/42000 [==============================] - 5s - loss: 0.1321 - acc: 0.9595 - val_loss: 0.0955 - val_acc: 0.9706\n",
      "  36 sec\n",
      "***** google *****\n",
      "Train on 42000 samples, validate on 18000 samples\n",
      "Epoch 1/100\n",
      "42000/42000 [==============================] - 8s - loss: 0.1866 - acc: 0.9430 - val_loss: 0.0548 - val_acc: 0.9826\n",
      "Epoch 2/100\n",
      "42000/42000 [==============================] - 7s - loss: 0.0583 - acc: 0.9821 - val_loss: 0.0351 - val_acc: 0.9896\n",
      "Epoch 3/100\n",
      "42000/42000 [==============================] - 7s - loss: 0.0378 - acc: 0.9882 - val_loss: 0.0296 - val_acc: 0.9904\n",
      "Epoch 4/100\n",
      "42000/42000 [==============================] - 7s - loss: 0.0277 - acc: 0.9910 - val_loss: 0.0364 - val_acc: 0.9887\n",
      "  31 sec\n",
      "***** logistic *****\n",
      "Train on 42000 samples, validate on 18000 samples\n",
      "Epoch 1/100\n",
      "42000/42000 [==============================] - 1s - loss: 0.7788 - acc: 0.8106 - val_loss: 0.4529 - val_acc: 0.8848\n",
      "Epoch 2/100\n",
      "42000/42000 [==============================] - 1s - loss: 0.4006 - acc: 0.8952 - val_loss: 0.3647 - val_acc: 0.9010\n",
      "Epoch 3/100\n",
      "42000/42000 [==============================] - 1s - loss: 0.3445 - acc: 0.9068 - val_loss: 0.3316 - val_acc: 0.9083\n",
      "Epoch 4/100\n",
      "42000/42000 [==============================] - 1s - loss: 0.3185 - acc: 0.9136 - val_loss: 0.3143 - val_acc: 0.9118\n",
      "Epoch 5/100\n",
      "42000/42000 [==============================] - 1s - loss: 0.3027 - acc: 0.9178 - val_loss: 0.3059 - val_acc: 0.9126\n",
      "Epoch 6/100\n",
      "42000/42000 [==============================] - 1s - loss: 0.2920 - acc: 0.9192 - val_loss: 0.2972 - val_acc: 0.9153\n",
      "Epoch 7/100\n",
      "42000/42000 [==============================] - 1s - loss: 0.2840 - acc: 0.9221 - val_loss: 0.2922 - val_acc: 0.9172\n",
      "Epoch 8/100\n",
      "42000/42000 [==============================] - 1s - loss: 0.2777 - acc: 0.9234 - val_loss: 0.2896 - val_acc: 0.9186\n",
      "Epoch 9/100\n",
      "42000/42000 [==============================] - 1s - loss: 0.2727 - acc: 0.9245 - val_loss: 0.2855 - val_acc: 0.9183\n",
      "  11 sec\n"
     ]
    }
   ],
   "source": [
    "! mkdir -p ../models && mkdir -p ../models/mnist\n",
    "names = network_gen.keys()\n",
    "save_files = {name: '../models/mnist/' + name + '-best.hdf5' for name in names}\n",
    "\n",
    "from contextlib import contextmanager\n",
    "import time\n",
    "from keras import backend as K\n",
    "%aimport keras_util\n",
    "\n",
    "@contextmanager\n",
    "def rectime(name='', fmt='{: 4.0f}'):\n",
    "    print(name, end='')\n",
    "    sys.stdout.flush()\n",
    "    t = time.time()\n",
    "    yield\n",
    "    t = time.time() - t\n",
    "    print(fmt.format(t), 'sec')\n",
    "    \n",
    "for name in names:\n",
    "    print('*****', name, '*****')\n",
    "    keras_util.refresh()\n",
    "    \n",
    "    net = network_gen[name]()\n",
    "    net.compile(\n",
    "        loss='categorical_crossentropy', optimizer='adam', metrics=['accuracy'])\n",
    "        \n",
    "    early_stopping = keras.callbacks.EarlyStopping(\n",
    "        monitor='val_acc', min_delta=0, patience=0)\n",
    "    checkpoint = keras.callbacks.ModelCheckpoint(save_files[name], monitor='val_loss', save_best_only=True)\n",
    "    with rectime():\n",
    "        net.fit(\n",
    "            trainx,\n",
    "            trainy,\n",
    "            epochs=100,\n",
    "            batch_size=128,\n",
    "            callbacks=[early_stopping, checkpoint],\n",
    "            validation_data=(validx, validy))"
   ]
  },
  {
   "cell_type": "code",
   "execution_count": 7,
   "metadata": {
    "scrolled": false
   },
   "outputs": [
    {
     "name": "stdout",
     "output_type": "stream",
     "text": [
      "***** mlp-5 (post-train) *****\n",
      "training until loss <= 0.0512\n",
      "Epoch 1/100\n",
      "60000/60000 [==============================] - 7s - loss: 0.1520 - acc: 0.9549     \n",
      "Epoch 2/100\n",
      "60000/60000 [==============================] - 7s - loss: 0.1303 - acc: 0.9617     \n",
      "Epoch 3/100\n",
      "60000/60000 [==============================] - 7s - loss: 0.1151 - acc: 0.9653     \n",
      "Epoch 4/100\n",
      "60000/60000 [==============================] - 6s - loss: 0.1048 - acc: 0.9690     \n",
      "Epoch 5/100\n",
      "60000/60000 [==============================] - 7s - loss: 0.0945 - acc: 0.9713     \n",
      "Epoch 6/100\n",
      "60000/60000 [==============================] - 7s - loss: 0.0921 - acc: 0.9716     \n",
      "Epoch 7/100\n",
      "60000/60000 [==============================] - 6s - loss: 0.0857 - acc: 0.9733     \n",
      "Epoch 8/100\n",
      "60000/60000 [==============================] - 7s - loss: 0.0786 - acc: 0.9749     \n",
      "Epoch 9/100\n",
      "60000/60000 [==============================] - 6s - loss: 0.0797 - acc: 0.9759     \n",
      "Epoch 10/100\n",
      "60000/60000 [==============================] - 7s - loss: 0.0762 - acc: 0.9767     \n",
      "Epoch 11/100\n",
      "60000/60000 [==============================] - 6s - loss: 0.0715 - acc: 0.9784     \n",
      "Epoch 12/100\n",
      "60000/60000 [==============================] - 6s - loss: 0.0676 - acc: 0.9789     \n",
      "Epoch 13/100\n",
      "60000/60000 [==============================] - 6s - loss: 0.0669 - acc: 0.9801     \n",
      "Epoch 14/100\n",
      "60000/60000 [==============================] - 6s - loss: 0.0634 - acc: 0.9802     \n",
      "Epoch 15/100\n",
      "60000/60000 [==============================] - 6s - loss: 0.0607 - acc: 0.9809     \n",
      "Epoch 16/100\n",
      "60000/60000 [==============================] - 6s - loss: 0.0570 - acc: 0.9824     \n",
      "Epoch 17/100\n",
      "60000/60000 [==============================] - 6s - loss: 0.0570 - acc: 0.9824     \n",
      "Epoch 18/100\n",
      "60000/60000 [==============================] - 6s - loss: 0.0563 - acc: 0.9833     \n",
      "Epoch 19/100\n",
      "60000/60000 [==============================] - 7s - loss: 0.0535 - acc: 0.9834     \n",
      "Epoch 20/100\n",
      "60000/60000 [==============================] - 7s - loss: 0.0517 - acc: 0.9837     \n",
      "Epoch 21/100\n",
      "60000/60000 [==============================] - 7s - loss: 0.0509 - acc: 0.9839     \n",
      " 148 sec\n",
      "***** google (post-train) *****\n",
      "training until loss <= 0.0173\n",
      "Epoch 1/100\n",
      "60000/60000 [==============================] - 9s - loss: 0.0352 - acc: 0.9891     \n",
      "Epoch 2/100\n",
      "60000/60000 [==============================] - 9s - loss: 0.0244 - acc: 0.9922     \n",
      "Epoch 3/100\n",
      "60000/60000 [==============================] - 9s - loss: 0.0202 - acc: 0.9936     \n",
      "Epoch 4/100\n",
      "60000/60000 [==============================] - 9s - loss: 0.0148 - acc: 0.9949     \n",
      "  38 sec\n",
      "***** logistic (post-train) *****\n",
      "training until loss <= 0.2664\n",
      "Epoch 1/100\n",
      "60000/60000 [==============================] - 1s - loss: 0.2731 - acc: 0.9234     \n",
      "Epoch 2/100\n",
      "60000/60000 [==============================] - 1s - loss: 0.2678 - acc: 0.9249     \n",
      "Epoch 3/100\n",
      "60000/60000 [==============================] - 1s - loss: 0.2641 - acc: 0.9268     \n",
      "   4 sec\n"
     ]
    }
   ],
   "source": [
    "# Now, train with validation set until we reach the training loss from early stopping.\n",
    "\n",
    "post_train = {\n",
    "    name: '../models/mnist/' + name + '-best-post-train.hdf5'\n",
    "    for name in names\n",
    "}\n",
    "for name in names:\n",
    "    print('*****', name, '(post-train) *****')\n",
    "    keras_util.refresh()\n",
    "\n",
    "    net = network_gen[name]()\n",
    "    net.compile(\n",
    "        loss='categorical_crossentropy',\n",
    "        optimizer='adam',\n",
    "        metrics=['accuracy'])\n",
    "    net.load_weights(save_files[name])\n",
    "    train_metrics = dict(\n",
    "        zip(net.metrics_names, net.evaluate(trainx, trainy, verbose=0)))\n",
    "\n",
    "    print('training until loss <= {:0.4f}'.format(train_metrics['loss']))\n",
    "    early_stopping = keras_util.EarlyStopLambda(\n",
    "        metric='loss', should_stop=lambda loss: loss <= train_metrics['loss'])\n",
    "    checkpoint = keras.callbacks.ModelCheckpoint(\n",
    "        post_train[name], monitor='loss', save_best_only=True)\n",
    "    with rectime():\n",
    "        net.fit(\n",
    "            train_and_validx,\n",
    "            train_and_validy,\n",
    "            epochs=100,\n",
    "            batch_size=128,\n",
    "            callbacks=[early_stopping, checkpoint])"
   ]
  },
  {
   "cell_type": "code",
   "execution_count": 8,
   "metadata": {},
   "outputs": [
    {
     "name": "stdout",
     "output_type": "stream",
     "text": [
      "+----------+------------+-------------+------------+\n",
      "| model    |   test acc |   train acc |   # params |\n",
      "+==========+============+=============+============+\n",
      "| logistic |     0.9239 |      0.9272 |       7850 |\n",
      "+----------+------------+-------------+------------+\n",
      "| mlp-5    |     0.9857 |      0.9973 |    2658314 |\n",
      "+----------+------------+-------------+------------+\n",
      "| google   |     0.9918 |      0.9965 |    3274634 |\n",
      "+----------+------------+-------------+------------+\n"
     ]
    }
   ],
   "source": [
    "final_acc = {}\n",
    "final_train_acc = {}\n",
    "final_pred = {}\n",
    "num_params = {}\n",
    "for name in names:\n",
    "    K.clear_session()\n",
    "    net = network_gen[name]()\n",
    "    net.compile(loss='categorical_crossentropy', optimizer='adam', metrics=['accuracy'])\n",
    "    num_params[name] = sum(x.size for x in net.get_weights())\n",
    "    net.load_weights(post_train[name])\n",
    "    final_pred[name] = net.predict(testx)\n",
    "    test_metrics = dict(zip(net.metrics_names, net.evaluate(testx, testy, verbose=0)))\n",
    "    final_acc[name] = test_metrics['acc']\n",
    "    train_metrics = dict(zip(net.metrics_names, net.evaluate(train_and_validx, train_and_validy, verbose=0)))\n",
    "    final_train_acc[name] = train_metrics['acc']\n",
    "results = [[name, acc, final_train_acc[name], num_params[name]] for name, acc in final_acc.items()]\n",
    "results.sort(key=lambda row: row[1])\n",
    "print(tabulate(results, ['model', 'test acc', 'train acc', '# params'], tablefmt='grid', floatfmt=\"0.4f\"))"
   ]
  },
  {
   "cell_type": "code",
   "execution_count": 9,
   "metadata": {},
   "outputs": [],
   "source": [
    "import sklearn.metrics\n",
    "\n",
    "def evaluate(truey_onehot, predy_onehot):\n",
    "    truey = truey_onehot.argmax(1)\n",
    "    predy = predy_onehot.argmax(1)\n",
    "    \n",
    "    nclasses = 10\n",
    "\n",
    "    confusion = sklearn.metrics.confusion_matrix(truey, predy).astype(float)\n",
    "    np.fill_diagonal(confusion, np.nan)\n",
    "    plt.imshow(confusion)\n",
    "    plt.colorbar()\n",
    "    plt.xticks(np.arange(nclasses))\n",
    "    plt.yticks(np.arange(nclasses))\n",
    "    plt.xlabel(r'$\\hat{y}$')\n",
    "    plt.ylabel(r'$y$')\n",
    "    plt.title(r'confusion counts ($n={}K$)'.format(len(validy)//1000))\n",
    "    plt.show()\n",
    "\n",
    "    acc = sklearn.metrics.accuracy_score(truey, predy)\n",
    "    rocauc = sklearn.metrics.roc_auc_score(truey_onehot, predy_onehot, average='weighted')\n",
    "\n",
    "    print(tabulate([[rocauc, acc]], ['weighted roc auc', 'accuracy'], tablefmt='grid'))"
   ]
  },
  {
   "cell_type": "code",
   "execution_count": 10,
   "metadata": {},
   "outputs": [
    {
     "name": "stdout",
     "output_type": "stream",
     "text": [
      "mlp-5 error eval\n"
     ]
    },
    {
     "data": {
      "image/png": "[encoded data removed]",
      "text/plain": [
       "<matplotlib.figure.Figure at 0x7f99a8866b38>"
      ]
     },
     "metadata": {},
     "output_type": "display_data"
    },
    {
     "name": "stdout",
     "output_type": "stream",
     "text": [
      "+--------------------+------------+\n",
      "|   weighted roc auc |   accuracy |\n",
      "+====================+============+\n",
      "|           0.999807 |     0.9857 |\n",
      "+--------------------+------------+\n",
      "google error eval\n"
     ]
    },
    {
     "data": {
      "image/png": "[encoded data removed]",
      "text/plain": [
       "<matplotlib.figure.Figure at 0x7f99a8c43fd0>"
      ]
     },
     "metadata": {},
     "output_type": "display_data"
    },
    {
     "name": "stdout",
     "output_type": "stream",
     "text": [
      "+--------------------+------------+\n",
      "|   weighted roc auc |   accuracy |\n",
      "+====================+============+\n",
      "|           0.999966 |     0.9918 |\n",
      "+--------------------+------------+\n"
     ]
    }
   ],
   "source": [
    "print('mlp-5 error eval')\n",
    "evaluate(testy, final_pred['mlp-5'])\n",
    "print('google error eval')\n",
    "evaluate(testy, final_pred['google'])"
   ]
  },
  {
   "cell_type": "code",
   "execution_count": 11,
   "metadata": {},
   "outputs": [],
   "source": [
    "# Looks like we can regularize google and mlp-5 a bit more!\n",
    "# They also have complimentary confusion matrices, a weighted mixture might do better."
   ]
  }
 ],
 "metadata": {
  "kernelspec": {
   "display_name": "Python 3",
   "language": "python",
   "name": "python3"
  },
  "language_info": {
   "codemirror_mode": {
    "name": "ipython",
    "version": 3
   },
   "file_extension": ".py",
   "mimetype": "text/x-python",
   "name": "python",
   "nbconvert_exporter": "python",
   "pygments_lexer": "ipython3",
   "version": "3.5.2"
  }
 },
 "nbformat": 4,
 "nbformat_minor": 1
}
