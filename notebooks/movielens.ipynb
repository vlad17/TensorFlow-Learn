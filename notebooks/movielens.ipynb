{
 "cells": [
  {
   "cell_type": "code",
   "execution_count": 1,
   "metadata": {},
   "outputs": [
    {
     "name": "stderr",
     "output_type": "stream",
     "text": [
      "Using TensorFlow backend.\n"
     ]
    }
   ],
   "source": [
    "# Vaguely following this lesson plan:\n",
    "# http://course.fast.ai/lessons/lesson4.html\n",
    "\n",
    "%reload_ext autoreload\n",
    "%autoreload 1\n",
    "%matplotlib inline\n",
    "import matplotlib.pyplot as plt\n",
    "\n",
    "import sys\n",
    "import os\n",
    "assert os.path.basename(os.getcwd()) == 'notebooks', os.path.basename(os.getcwd())\n",
    "code_dir = os.path.join(os.getcwd(), os.pardir, 'code')\n",
    "if code_dir not in sys.path:\n",
    "    sys.path.append(code_dir)\n",
    "    os.environ['PYTHONPATH'] = os.environ.get('PYTHONPATH', '') + os.pathsep + code_dir\n",
    "model_dir = os.path.join(os.getcwd(), os.pardir, 'models')\n",
    "    \n",
    "import keras\n",
    "%aimport keras_util"
   ]
  },
  {
   "cell_type": "code",
   "execution_count": 2,
   "metadata": {},
   "outputs": [
    {
     "name": "stdout",
     "output_type": "stream",
     "text": [
      "\r\n",
      "README.txt\t   genome-tags.csv  movies.csv\t tags.csv\r\n",
      "genome-scores.csv  links.csv\t    ratings.csv\r\n"
     ]
    }
   ],
   "source": [
    "from keras.utils import get_file\n",
    "\n",
    "ml20_origin = 'http://files.grouplens.org/datasets/movielens/ml-20m.zip'\n",
    "get_file('ml-20m.zip', ml20_origin, cache_dir='../data', cache_subdir='movielens', extract=True)\n",
    "ml20_path = '../data/movielens/ml-20m/'\n",
    "! echo && ls {ml20_path}"
   ]
  },
  {
   "cell_type": "code",
   "execution_count": 3,
   "metadata": {},
   "outputs": [],
   "source": [
    "import pandas as pd\n",
    "ratings = pd.read_csv(ml20_path + 'ratings.csv')"
   ]
  },
  {
   "cell_type": "code",
   "execution_count": 4,
   "metadata": {},
   "outputs": [
    {
     "name": "stdout",
     "output_type": "stream",
     "text": [
      "unique count 138493 26744\n",
      "max id 138493 131262\n",
      "max normalized id 138492 26743\n"
     ]
    },
    {
     "data": {
      "text/html": [
       "<div>\n",
       "<style>\n",
       "    .dataframe thead tr:only-child th {\n",
       "        text-align: right;\n",
       "    }\n",
       "\n",
       "    .dataframe thead th {\n",
       "        text-align: left;\n",
       "    }\n",
       "\n",
       "    .dataframe tbody tr th {\n",
       "        vertical-align: top;\n",
       "    }\n",
       "</style>\n",
       "<table border=\"1\" class=\"dataframe\">\n",
       "  <thead>\n",
       "    <tr style=\"text-align: right;\">\n",
       "      <th></th>\n",
       "      <th>userId</th>\n",
       "      <th>movieId</th>\n",
       "      <th>rating</th>\n",
       "    </tr>\n",
       "  </thead>\n",
       "  <tbody>\n",
       "    <tr>\n",
       "      <th>0</th>\n",
       "      <td>0</td>\n",
       "      <td>0</td>\n",
       "      <td>3.5</td>\n",
       "    </tr>\n",
       "    <tr>\n",
       "      <th>1</th>\n",
       "      <td>0</td>\n",
       "      <td>1</td>\n",
       "      <td>3.5</td>\n",
       "    </tr>\n",
       "    <tr>\n",
       "      <th>2</th>\n",
       "      <td>0</td>\n",
       "      <td>2</td>\n",
       "      <td>3.5</td>\n",
       "    </tr>\n",
       "    <tr>\n",
       "      <th>3</th>\n",
       "      <td>0</td>\n",
       "      <td>3</td>\n",
       "      <td>3.5</td>\n",
       "    </tr>\n",
       "    <tr>\n",
       "      <th>4</th>\n",
       "      <td>0</td>\n",
       "      <td>4</td>\n",
       "      <td>3.5</td>\n",
       "    </tr>\n",
       "  </tbody>\n",
       "</table>\n",
       "</div>"
      ],
      "text/plain": [
       "   userId  movieId  rating\n",
       "0       0        0     3.5\n",
       "1       0        1     3.5\n",
       "2       0        2     3.5\n",
       "3       0        3     3.5\n",
       "4       0        4     3.5"
      ]
     },
     "metadata": {},
     "output_type": "display_data"
    }
   ],
   "source": [
    "# Convert movies to indices\n",
    "import numpy as np\n",
    "\n",
    "unique_users = ratings.userId.unique()\n",
    "unique_movies = ratings.movieId.unique()\n",
    "print('unique count', len(unique_users), len(unique_movies))\n",
    "print('max id', unique_users.max(), unique_movies.max())\n",
    "users_unique = pd.Series(np.arange(len(unique_users)), index=unique_users)\n",
    "movies_unique = pd.Series(np.arange(len(unique_movies)), index=unique_movies)\n",
    "\n",
    "ratings.userId = ratings.userId.map(users_unique)\n",
    "ratings.movieId = ratings.movieId.map(movies_unique)\n",
    "print('max normalized id', ratings.userId.max(), ratings.movieId.max())\n",
    "\n",
    "n_users = len(users_unique)\n",
    "n_movies = len(movies_unique)\n",
    "\n",
    "from IPython.display import display\n",
    "ratings.drop('timestamp', axis=1, inplace=True)\n",
    "display(ratings.head())"
   ]
  },
  {
   "cell_type": "code",
   "execution_count": 5,
   "metadata": {},
   "outputs": [],
   "source": [
    "movie_factors = 50\n",
    "user_factors = n_users * movie_factors // n_movies"
   ]
  },
  {
   "cell_type": "code",
   "execution_count": 6,
   "metadata": {},
   "outputs": [],
   "source": [
    "from keras.layers import * \n",
    "from keras.regularizers import l2\n",
    "from keras.models import Model\n",
    "\n",
    "def recommender_net():\n",
    "    keras_util.seedall()\n",
    "\n",
    "    user_in = Input(shape=(1,), dtype='int64', name='user_in')\n",
    "    u = Embedding(n_users, user_factors, input_length=1, name='user_embedding')(user_in)\n",
    "    movie_in = Input(shape=(1,), dtype='int64', name='movie_in')\n",
    "    m = Embedding(n_movies, movie_factors, input_length=1, name='movie_embedding')(movie_in)\n",
    "    u = Dense(50, activation='relu')(u)\n",
    "    um = Dot(axes=2)([u, m])\n",
    "\n",
    "    # Per-user and per-movie bias (to catch \"generally good movies\" and \"generally nice raters\")\n",
    "    ub = Embedding(n_users, 1, input_length=1, name='user_bias')(user_in)\n",
    "    mb = Embedding(n_movies, 1, input_length=1, name='movie_bias')(movie_in)\n",
    "\n",
    "    biased = Add()([um, ub, mb])\n",
    "    flat = Flatten()(biased)\n",
    "    act = Activation('sigmoid')(flat)\n",
    "    scaled = Lambda(lambda x: x * 5)(act)\n",
    "\n",
    "    return Model([user_in, movie_in], scaled)"
   ]
  },
  {
   "cell_type": "code",
   "execution_count": 7,
   "metadata": {},
   "outputs": [
    {
     "data": {
      "image/svg+xml": [
       "<svg height=\"556pt\" viewBox=\"0.00 0.00 596.50 556.00\" width=\"597pt\" xmlns=\"http://www.w3.org/2000/svg\" xmlns:xlink=\"http://www.w3.org/1999/xlink\">\n",
       "<g class=\"graph\" id=\"graph0\" transform=\"scale(1 1) rotate(0) translate(4 552)\">\n",
       "<title>G</title>\n",
       "<polygon fill=\"white\" points=\"-4,4 -4,-552 592.5,-552 592.5,4 -4,4\" stroke=\"none\"/>\n",
       "<!-- 139994287193560 -->\n",
       "<g class=\"node\" id=\"node1\"><title>139994287193560</title>\n",
       "<polygon fill=\"none\" points=\"63,-511.5 63,-547.5 221,-547.5 221,-511.5 63,-511.5\" stroke=\"black\"/>\n",
       "<text font-family=\"Times,serif\" font-size=\"14.00\" text-anchor=\"middle\" x=\"142\" y=\"-525.8\">user_in: InputLayer</text>\n",
       "</g>\n",
       "<!-- 139994287193336 -->\n",
       "<g class=\"node\" id=\"node2\"><title>139994287193336</title>\n",
       "<polygon fill=\"none\" points=\"100,-438.5 100,-474.5 326,-474.5 326,-438.5 100,-438.5\" stroke=\"black\"/>\n",
       "<text font-family=\"Times,serif\" font-size=\"14.00\" text-anchor=\"middle\" x=\"213\" y=\"-452.8\">user_embedding: Embedding</text>\n",
       "</g>\n",
       "<!-- 139994287193560&#45;&gt;139994287193336 -->\n",
       "<g class=\"edge\" id=\"edge1\"><title>139994287193560-&gt;139994287193336</title>\n",
       "<path d=\"M159.187,-511.313C168.083,-502.417 179.091,-491.409 188.828,-481.672\" fill=\"none\" stroke=\"black\"/>\n",
       "<polygon fill=\"black\" points=\"191.375,-484.075 195.971,-474.529 186.425,-479.125 191.375,-484.075\" stroke=\"black\"/>\n",
       "</g>\n",
       "<!-- 139994340865136 -->\n",
       "<g class=\"node\" id=\"node7\"><title>139994340865136</title>\n",
       "<polygon fill=\"none\" points=\"0,-292.5 0,-328.5 176,-328.5 176,-292.5 0,-292.5\" stroke=\"black\"/>\n",
       "<text font-family=\"Times,serif\" font-size=\"14.00\" text-anchor=\"middle\" x=\"88\" y=\"-306.8\">user_bias: Embedding</text>\n",
       "</g>\n",
       "<!-- 139994287193560&#45;&gt;139994340865136 -->\n",
       "<g class=\"edge\" id=\"edge6\"><title>139994287193560-&gt;139994340865136</title>\n",
       "<path d=\"M119.068,-511.305C108.425,-501.888 96.8532,-489.243 91,-475 72.4988,-429.98 77.4329,-371.929 82.7106,-338.493\" fill=\"none\" stroke=\"black\"/>\n",
       "<polygon fill=\"black\" points=\"86.1753,-338.996 84.4069,-328.55 79.275,-337.819 86.1753,-338.996\" stroke=\"black\"/>\n",
       "</g>\n",
       "<!-- 139995518738728 -->\n",
       "<g class=\"node\" id=\"node4\"><title>139995518738728</title>\n",
       "<polygon fill=\"none\" points=\"124,-365.5 124,-401.5 252,-401.5 252,-365.5 124,-365.5\" stroke=\"black\"/>\n",
       "<text font-family=\"Times,serif\" font-size=\"14.00\" text-anchor=\"middle\" x=\"188\" y=\"-379.8\">dense_1: Dense</text>\n",
       "</g>\n",
       "<!-- 139994287193336&#45;&gt;139995518738728 -->\n",
       "<g class=\"edge\" id=\"edge2\"><title>139994287193336-&gt;139995518738728</title>\n",
       "<path d=\"M206.948,-438.313C204.062,-430.115 200.543,-420.123 197.326,-410.985\" fill=\"none\" stroke=\"black\"/>\n",
       "<polygon fill=\"black\" points=\"200.619,-409.799 193.996,-401.529 194.016,-412.124 200.619,-409.799\" stroke=\"black\"/>\n",
       "</g>\n",
       "<!-- 139994287193952 -->\n",
       "<g class=\"node\" id=\"node3\"><title>139994287193952</title>\n",
       "<polygon fill=\"none\" points=\"397,-438.5 397,-474.5 567,-474.5 567,-438.5 397,-438.5\" stroke=\"black\"/>\n",
       "<text font-family=\"Times,serif\" font-size=\"14.00\" text-anchor=\"middle\" x=\"482\" y=\"-452.8\">movie_in: InputLayer</text>\n",
       "</g>\n",
       "<!-- 139994287153504 -->\n",
       "<g class=\"node\" id=\"node5\"><title>139994287153504</title>\n",
       "<polygon fill=\"none\" points=\"270.5,-365.5 270.5,-401.5 507.5,-401.5 507.5,-365.5 270.5,-365.5\" stroke=\"black\"/>\n",
       "<text font-family=\"Times,serif\" font-size=\"14.00\" text-anchor=\"middle\" x=\"389\" y=\"-379.8\">movie_embedding: Embedding</text>\n",
       "</g>\n",
       "<!-- 139994287193952&#45;&gt;139994287153504 -->\n",
       "<g class=\"edge\" id=\"edge3\"><title>139994287193952-&gt;139994287153504</title>\n",
       "<path d=\"M459.487,-438.313C447.493,-429.156 432.566,-417.76 419.54,-407.816\" fill=\"none\" stroke=\"black\"/>\n",
       "<polygon fill=\"black\" points=\"421.378,-404.815 411.305,-401.529 417.13,-410.379 421.378,-404.815\" stroke=\"black\"/>\n",
       "</g>\n",
       "<!-- 139994341043952 -->\n",
       "<g class=\"node\" id=\"node8\"><title>139994341043952</title>\n",
       "<polygon fill=\"none\" points=\"401.5,-292.5 401.5,-328.5 588.5,-328.5 588.5,-292.5 401.5,-292.5\" stroke=\"black\"/>\n",
       "<text font-family=\"Times,serif\" font-size=\"14.00\" text-anchor=\"middle\" x=\"495\" y=\"-306.8\">movie_bias: Embedding</text>\n",
       "</g>\n",
       "<!-- 139994287193952&#45;&gt;139994341043952 -->\n",
       "<g class=\"edge\" id=\"edge7\"><title>139994287193952-&gt;139994341043952</title>\n",
       "<path d=\"M496.82,-438.491C504.464,-428.572 513.005,-415.402 517,-402 523.352,-380.688 516.529,-356.155 508.854,-338.013\" fill=\"none\" stroke=\"black\"/>\n",
       "<polygon fill=\"black\" points=\"511.918,-336.296 504.581,-328.653 505.55,-339.203 511.918,-336.296\" stroke=\"black\"/>\n",
       "</g>\n",
       "<!-- 139994287164440 -->\n",
       "<g class=\"node\" id=\"node6\"><title>139994287164440</title>\n",
       "<polygon fill=\"none\" points=\"227.5,-292.5 227.5,-328.5 318.5,-328.5 318.5,-292.5 227.5,-292.5\" stroke=\"black\"/>\n",
       "<text font-family=\"Times,serif\" font-size=\"14.00\" text-anchor=\"middle\" x=\"273\" y=\"-306.8\">dot_1: Dot</text>\n",
       "</g>\n",
       "<!-- 139995518738728&#45;&gt;139994287164440 -->\n",
       "<g class=\"edge\" id=\"edge4\"><title>139995518738728-&gt;139994287164440</title>\n",
       "<path d=\"M208.576,-365.313C219.434,-356.243 232.922,-344.977 244.746,-335.1\" fill=\"none\" stroke=\"black\"/>\n",
       "<polygon fill=\"black\" points=\"247.182,-337.626 252.613,-328.529 242.695,-332.253 247.182,-337.626\" stroke=\"black\"/>\n",
       "</g>\n",
       "<!-- 139994287153504&#45;&gt;139994287164440 -->\n",
       "<g class=\"edge\" id=\"edge5\"><title>139994287153504-&gt;139994287164440</title>\n",
       "<path d=\"M361.215,-365.494C345.833,-356.079 326.516,-344.255 309.883,-334.075\" fill=\"none\" stroke=\"black\"/>\n",
       "<polygon fill=\"black\" points=\"311.317,-330.849 300.96,-328.614 307.662,-336.819 311.317,-330.849\" stroke=\"black\"/>\n",
       "</g>\n",
       "<!-- 139995518511536 -->\n",
       "<g class=\"node\" id=\"node9\"><title>139995518511536</title>\n",
       "<polygon fill=\"none\" points=\"224.5,-219.5 224.5,-255.5 321.5,-255.5 321.5,-219.5 224.5,-219.5\" stroke=\"black\"/>\n",
       "<text font-family=\"Times,serif\" font-size=\"14.00\" text-anchor=\"middle\" x=\"273\" y=\"-233.8\">add_1: Add</text>\n",
       "</g>\n",
       "<!-- 139994287164440&#45;&gt;139995518511536 -->\n",
       "<g class=\"edge\" id=\"edge8\"><title>139994287164440-&gt;139995518511536</title>\n",
       "<path d=\"M273,-292.313C273,-284.289 273,-274.547 273,-265.569\" fill=\"none\" stroke=\"black\"/>\n",
       "<polygon fill=\"black\" points=\"276.5,-265.529 273,-255.529 269.5,-265.529 276.5,-265.529\" stroke=\"black\"/>\n",
       "</g>\n",
       "<!-- 139994340865136&#45;&gt;139995518511536 -->\n",
       "<g class=\"edge\" id=\"edge9\"><title>139994340865136-&gt;139995518511536</title>\n",
       "<path d=\"M132.312,-292.494C158.321,-282.512 191.382,-269.824 218.919,-259.255\" fill=\"none\" stroke=\"black\"/>\n",
       "<polygon fill=\"black\" points=\"220.326,-262.464 228.408,-255.614 217.818,-255.929 220.326,-262.464\" stroke=\"black\"/>\n",
       "</g>\n",
       "<!-- 139994341043952&#45;&gt;139995518511536 -->\n",
       "<g class=\"edge\" id=\"edge10\"><title>139994341043952-&gt;139995518511536</title>\n",
       "<path d=\"M441.825,-292.494C408.552,-281.852 365.66,-268.134 331.436,-257.189\" fill=\"none\" stroke=\"black\"/>\n",
       "<polygon fill=\"black\" points=\"332.163,-253.747 321.572,-254.034 330.031,-260.414 332.163,-253.747\" stroke=\"black\"/>\n",
       "</g>\n",
       "<!-- 139998167641336 -->\n",
       "<g class=\"node\" id=\"node10\"><title>139998167641336</title>\n",
       "<polygon fill=\"none\" points=\"203,-146.5 203,-182.5 343,-182.5 343,-146.5 203,-146.5\" stroke=\"black\"/>\n",
       "<text font-family=\"Times,serif\" font-size=\"14.00\" text-anchor=\"middle\" x=\"273\" y=\"-160.8\">flatten_1: Flatten</text>\n",
       "</g>\n",
       "<!-- 139995518511536&#45;&gt;139998167641336 -->\n",
       "<g class=\"edge\" id=\"edge11\"><title>139995518511536-&gt;139998167641336</title>\n",
       "<path d=\"M273,-219.313C273,-211.289 273,-201.547 273,-192.569\" fill=\"none\" stroke=\"black\"/>\n",
       "<polygon fill=\"black\" points=\"276.5,-192.529 273,-182.529 269.5,-192.529 276.5,-192.529\" stroke=\"black\"/>\n",
       "</g>\n",
       "<!-- 139998167640440 -->\n",
       "<g class=\"node\" id=\"node11\"><title>139998167640440</title>\n",
       "<polygon fill=\"none\" points=\"179.5,-73.5 179.5,-109.5 366.5,-109.5 366.5,-73.5 179.5,-73.5\" stroke=\"black\"/>\n",
       "<text font-family=\"Times,serif\" font-size=\"14.00\" text-anchor=\"middle\" x=\"273\" y=\"-87.8\">activation_1: Activation</text>\n",
       "</g>\n",
       "<!-- 139998167641336&#45;&gt;139998167640440 -->\n",
       "<g class=\"edge\" id=\"edge12\"><title>139998167641336-&gt;139998167640440</title>\n",
       "<path d=\"M273,-146.313C273,-138.289 273,-128.547 273,-119.569\" fill=\"none\" stroke=\"black\"/>\n",
       "<polygon fill=\"black\" points=\"276.5,-119.529 273,-109.529 269.5,-119.529 276.5,-119.529\" stroke=\"black\"/>\n",
       "</g>\n",
       "<!-- 139998167641728 -->\n",
       "<g class=\"node\" id=\"node12\"><title>139998167641728</title>\n",
       "<polygon fill=\"none\" points=\"197,-0.5 197,-36.5 349,-36.5 349,-0.5 197,-0.5\" stroke=\"black\"/>\n",
       "<text font-family=\"Times,serif\" font-size=\"14.00\" text-anchor=\"middle\" x=\"273\" y=\"-14.8\">lambda_1: Lambda</text>\n",
       "</g>\n",
       "<!-- 139998167640440&#45;&gt;139998167641728 -->\n",
       "<g class=\"edge\" id=\"edge13\"><title>139998167640440-&gt;139998167641728</title>\n",
       "<path d=\"M273,-73.3129C273,-65.2895 273,-55.5475 273,-46.5691\" fill=\"none\" stroke=\"black\"/>\n",
       "<polygon fill=\"black\" points=\"276.5,-46.5288 273,-36.5288 269.5,-46.5289 276.5,-46.5288\" stroke=\"black\"/>\n",
       "</g>\n",
       "</g>\n",
       "</svg>"
      ],
      "text/plain": [
       "<IPython.core.display.SVG object>"
      ]
     },
     "execution_count": 7,
     "metadata": {},
     "output_type": "execute_result"
    }
   ],
   "source": [
    "from IPython.display import SVG\n",
    "from keras.utils.vis_utils import model_to_dot\n",
    "import pydot\n",
    "import graphviz\n",
    "import keras.backend as K\n",
    "\n",
    "SVG(model_to_dot(recommender_net()).create(prog='dot', format='svg'))"
   ]
  },
  {
   "cell_type": "code",
   "execution_count": 8,
   "metadata": {},
   "outputs": [],
   "source": [
    "from sklearn.model_selection import train_test_split\n",
    "train_and_valid, test = train_test_split(ratings, test_size=0.3, random_state=1234)\n",
    "train, valid = train_test_split(train_and_valid, test_size=0.3, random_state=5678)"
   ]
  },
  {
   "cell_type": "code",
   "execution_count": 9,
   "metadata": {},
   "outputs": [
    {
     "name": "stdout",
     "output_type": "stream",
     "text": [
      "Waiting for redis server at 127.0.0.1:59703 to respond...\n",
      "Waiting for redis server at 127.0.0.1:40480 to respond...\n",
      "Starting local scheduler with 32 CPUs and 2 GPUs.\n",
      "View the web UI at http://localhost:8888/notebooks/ray_ui94414.ipynb\n"
     ]
    },
    {
     "data": {
      "text/plain": [
       "{'local_scheduler_socket_names': ['/tmp/scheduler65738075'],\n",
       " 'node_ip_address': '127.0.0.1',\n",
       " 'object_store_addresses': [ObjectStoreAddress(name='/tmp/plasma_store74356744', manager_name='/tmp/plasma_manager28772058', manager_port=60665)],\n",
       " 'redis_address': '127.0.0.1:59703'}"
      ]
     },
     "execution_count": 9,
     "metadata": {},
     "output_type": "execute_result"
    }
   ],
   "source": [
    "# Ray resets stdout to some broken one\n",
    "prev_stdout = sys.stdout\n",
    "import ray\n",
    "ray.init(num_gpus=keras_util.ngpu())"
   ]
  },
  {
   "cell_type": "code",
   "execution_count": 10,
   "metadata": {},
   "outputs": [],
   "source": [
    "from yellowfin import YFOptimizer\n",
    "from keras import optimizers\n",
    "\n",
    "opts = {\n",
    "#         The commented-out ones aren't good (see previous commits for\n",
    "#         experiments that included them)\n",
    "#         'sgd+clip':\n",
    "#         lambda: optimizers.SGD(clipvalue=1),\n",
    "#         'sgd+momentum+clip':\n",
    "#         lambda: optimizers.SGD(momentum=0.9, nesterov=True, clipvalue=1),\n",
    "#         'yellowfin+clip':\n",
    "#         lambda: optimizers.TFOptimizer(YFOptimizer(clip_thresh=1)),\n",
    "#         'nadam+clip':\n",
    "#         lambda: optimizers.Nadam(clipvalue=1),\n",
    "        'adam+clip':\n",
    "        lambda: optimizers.Adam(clipvalue=1),\n",
    "        'adamax+clip':\n",
    "        lambda: optimizers.Adamax(clipvalue=1),\n",
    "    }"
   ]
  },
  {
   "cell_type": "code",
   "execution_count": 11,
   "metadata": {},
   "outputs": [],
   "source": [
    "import keras\n",
    "import contextlib\n",
    "\n",
    "model_dir = os.path.join(os.getcwd(), os.pardir, 'models', 'movielens')\n",
    "\n",
    "def _train_recommender(optname):\n",
    "    if os.path.isfile('history'):\n",
    "        print('already trained')\n",
    "        return keras_util.load_object('history')\n",
    "\n",
    "    with keras_util.rectime('constructing network {:.0f} sec'):\n",
    "        keras_util.seedall()\n",
    "        net = recommender_net()\n",
    "        net.compile(loss='mse', optimizer=opts[optname]())\n",
    "\n",
    "    tb = keras.callbacks.TensorBoard(log_dir='.')\n",
    "    checkpoint = keras.callbacks.ModelCheckpoint(\n",
    "        filepath='net', monitor='val_loss', save_best_only=True)\n",
    "    earlystop = keras.callbacks.EarlyStopping(\n",
    "        monitor='val_loss', min_delta=0, patience=0)            \n",
    "\n",
    "    with keras_util.rectime('training {:.0f} sec'):\n",
    "        hist = net.fit(\n",
    "            [train.userId, train.movieId],\n",
    "            train.rating,\n",
    "            epochs=100,\n",
    "            batch_size=500000,\n",
    "            verbose=0,\n",
    "            callbacks=[checkpoint, tb, earlystop],\n",
    "            validation_data=([valid.userId, valid.movieId], valid.rating))\n",
    "    keras_util.save_object(hist.history, 'history')\n",
    "    return hist.history\n",
    "\n",
    "@ray.remote(num_gpus=1, max_calls=1)\n",
    "def train_recommender(optname):\n",
    "    with keras_util.ray_gpu_session():\n",
    "        with keras_util.cd(os.path.join(model_dir, optname)):\n",
    "            with open('stdout', 'w') as f:\n",
    "                with contextlib.redirect_stdout(f):\n",
    "                    return _train_recommender(optname)\n",
    "\n",
    "hists = ray.get([train_recommender.remote(optname) for optname in opts.keys()])"
   ]
  },
  {
   "cell_type": "code",
   "execution_count": 12,
   "metadata": {},
   "outputs": [],
   "source": [
    "hist_dict = {n: r for n, r in zip(opts.keys(), hists)}"
   ]
  },
  {
   "cell_type": "code",
   "execution_count": 13,
   "metadata": {},
   "outputs": [
    {
     "data": {
      "image/png": "[encoded data removed]",
      "text/plain": [
       "<matplotlib.figure.Figure at 0x7f53c8c97f98>"
      ]
     },
     "metadata": {},
     "output_type": "display_data"
    },
    {
     "data": {
      "image/png": "[encoded data removed]",
      "text/plain": [
       "<matplotlib.figure.Figure at 0x7f53dd084ef0>"
      ]
     },
     "metadata": {},
     "output_type": "display_data"
    }
   ],
   "source": [
    "for losstype in ['loss', 'val_loss']:\n",
    "    for optname, hist in hist_dict.items():\n",
    "        plt.semilogy(hist[losstype], label=optname)\n",
    "    plt.legend(bbox_to_anchor=(1.05, 1.0), loc=2, borderaxespad=0.)\n",
    "    plt.title(losstype + ' vs epoch')\n",
    "    plt.show()"
   ]
  },
  {
   "cell_type": "code",
   "execution_count": 14,
   "metadata": {},
   "outputs": [
    {
     "name": "stdout",
     "output_type": "stream",
     "text": [
      "+-------------+--------+\n",
      "| adamax+clip | 0.7008 |\n",
      "+-------------+--------+\n",
      "| adam+clip   | 0.7037 |\n",
      "+-------------+--------+\n"
     ]
    }
   ],
   "source": [
    "from tabulate import tabulate\n",
    "best_val = [{'optimizer': optname, 'val_loss': min(hist['val_loss'])} for optname, hist in hist_dict.items()]\n",
    "best_val.sort(key=lambda d: d['val_loss'])\n",
    "print(tabulate(best_val, tablefmt='grid', floatfmt=\"6.4f\"))"
   ]
  },
  {
   "cell_type": "code",
   "execution_count": 15,
   "metadata": {},
   "outputs": [
    {
     "name": "stdout",
     "output_type": "stream",
     "text": [
      "loading adamax+clip 1 sec\n",
      "9800128/9800128 [==============================] - 4s     \n",
      "4200056/4200056 [==============================] - 1s     \n",
      "evaluating on train 7 sec\n",
      "initial train loss 0.5985 val loss 0.7037\n",
      "training until loss <= 0.5985\n",
      "Epoch 1/100\n",
      "14000184/14000184 [==============================] - 13s - loss: 0.6330    \n",
      "Epoch 2/100\n",
      "14000184/14000184 [==============================] - 15s - loss: 0.6126    \n",
      "Epoch 3/100\n",
      "14000184/14000184 [==============================] - 15s - loss: 0.6015    \n",
      "Epoch 4/100\n",
      "14000184/14000184 [==============================] - 15s - loss: 0.5919    \n",
      "post-train 60 sec\n"
     ]
    }
   ],
   "source": [
    "sys.stdout = prev_stdout\n",
    "K.clear_session()\n",
    "keras_util.seedall()\n",
    "chosen_opt = best_val[0]['optimizer']\n",
    "\n",
    "with keras_util.rectime('loading ' + chosen_opt + ' {:.0f} sec'):\n",
    "    old_net = os.path.join(model_dir, optname, 'net')\n",
    "    final_net = os.path.join(model_dir, 'final-net')\n",
    "    net = recommender_net()\n",
    "    net.compile(loss='mse', optimizer=opts[chosen_opt]())\n",
    "    net.load_weights(old_net)\n",
    "    \n",
    "with keras_util.rectime('evaluating on train {:.0f} sec'):\n",
    "    train_mse = net.evaluate([train.userId, train.movieId], train.rating, batch_size=500000, verbose=1)\n",
    "    valid_mse = net.evaluate([valid.userId, valid.movieId], valid.rating, batch_size=500000, verbose=1)\n",
    "\n",
    "print('initial train loss {:0.4f} val loss {:0.4f}'.format(train_mse, valid_mse))\n",
    "\n",
    "print('training until loss <= {:0.4f}'.format(train_mse))\n",
    "with keras_util.rectime('post-train {:.0f} sec'):\n",
    "    checkpoint = keras.callbacks.ModelCheckpoint(\n",
    "        filepath=final_net, monitor='loss', save_best_only=True)\n",
    "    early_stopping = keras_util.EarlyStopLambda(\n",
    "        monitor='loss', should_stop=lambda loss: loss <= train_mse)   \n",
    "\n",
    "    net.fit(\n",
    "        [train_and_valid.userId, train_and_valid.movieId],\n",
    "        train_and_valid.rating,\n",
    "        verbose=1,\n",
    "        epochs=100,\n",
    "        batch_size=500000,\n",
    "        callbacks=[checkpoint, early_stopping])"
   ]
  },
  {
   "cell_type": "code",
   "execution_count": 16,
   "metadata": {},
   "outputs": [
    {
     "name": "stdout",
     "output_type": "stream",
     "text": [
      "trained on 138493 user ids of 138493\n",
      "trained on 25339 user ids of 26744\n"
     ]
    }
   ],
   "source": [
    "uid_trained_on = train_and_valid.userId.unique()\n",
    "mid_trained_on = train_and_valid.movieId.unique()\n",
    "print('trained on', len(uid_trained_on), 'user ids of', len(ratings.userId.unique()))\n",
    "print('trained on', len(mid_trained_on), 'user ids of', len(ratings.movieId.unique()))"
   ]
  },
  {
   "cell_type": "code",
   "execution_count": 17,
   "metadata": {},
   "outputs": [],
   "source": [
    "def mean_impute_embedding(embedding, trained_on):\n",
    "    num_ids, embed_dim = embedding.shape\n",
    "    to_impute = np.ones(num_ids, dtype=bool)\n",
    "    to_impute[trained_on] = 0\n",
    "    from_impute = 1 - to_impute\n",
    "    mean = embedding[from_impute].mean(axis=0)\n",
    "    embedding[to_impute] = mean\n",
    "    return embedding\n",
    "\n",
    "\n",
    "def update_layer_imputation(net, layer_name, trained_on):\n",
    "    [weights] = net.get_layer(layer_name).get_weights()\n",
    "    new_embedding = mean_impute_embedding(weights, trained_on)\n",
    "    net.get_layer(layer_name).set_weights([new_embedding])\n",
    "\n",
    "to_impute = ['user_embedding', 'user_bias', 'movie_embedding', 'movie_bias']\n",
    "for layer_name in to_impute:\n",
    "    if layer_name.startswith('user'):\n",
    "        trained_on = uid_trained_on \n",
    "    else:\n",
    "        trained_on = mid_trained_on\n",
    "    update_layer_imputation(net, layer_name, trained_on)"
   ]
  },
  {
   "cell_type": "code",
   "execution_count": 18,
   "metadata": {},
   "outputs": [
    {
     "name": "stdout",
     "output_type": "stream",
     "text": [
      "6000000/6000079 [============================>.] - ETA: 0s\n",
      "final test mse 0.691737808402\n"
     ]
    }
   ],
   "source": [
    "final_eval = net.evaluate([test.userId, test.movieId], test.rating, batch_size=500000, verbose=1)\n",
    "print()\n",
    "print('final test mse', final_eval)"
   ]
  },
  {
   "cell_type": "code",
   "execution_count": null,
   "metadata": {},
   "outputs": [],
   "source": [
    "# TODO: use above encoding matrices as starting point\n",
    "# for low-batch-size-trained deep recommender net (not just dot product)\n",
    "# re-implement section 4.2 http://www.ijcaonline.org/archives/volume162/number10/betru-2017-ijca-913361.pdf\n",
    "# use nlp on metadata (genres)?"
   ]
  }
 ],
 "metadata": {
  "kernelspec": {
   "display_name": "Python 3",
   "language": "python",
   "name": "python3"
  },
  "language_info": {
   "codemirror_mode": {
    "name": "ipython",
    "version": 3
   },
   "file_extension": ".py",
   "mimetype": "text/x-python",
   "name": "python",
   "nbconvert_exporter": "python",
   "pygments_lexer": "ipython3",
   "version": "3.5.3"
  }
 },
 "nbformat": 4,
 "nbformat_minor": 2
}
