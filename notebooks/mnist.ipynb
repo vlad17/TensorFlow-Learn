{
 "cells": [
  {
   "cell_type": "code",
   "execution_count": 1,
   "metadata": {},
   "outputs": [],
   "source": [
    "# This notebook somewhat follows the tutorials from here:\n",
    "# https://www.tensorflow.org/versions/0.6.0/tutorials/mnist/pros/index.html\n",
    "\n",
    "import numpy as np\n",
    "import tensorflow as tf\n",
    "\n",
    "%matplotlib inline\n",
    "import matplotlib.pyplot as plt\n",
    "\n",
    "import sys\n",
    "if '../code' not in sys.path:\n",
    "    sys.path.append('../code')\n",
    "\n",
    "%reload_ext autoreload\n",
    "%autoreload 1"
   ]
  },
  {
   "cell_type": "code",
   "execution_count": 2,
   "metadata": {},
   "outputs": [
    {
     "name": "stdout",
     "output_type": "stream",
     "text": [
      "Extracting ../data/mnist/train-images-idx3-ubyte.gz\n",
      "Extracting ../data/mnist/train-labels-idx1-ubyte.gz\n",
      "Extracting ../data/mnist/t10k-images-idx3-ubyte.gz\n",
      "Extracting ../data/mnist/t10k-labels-idx1-ubyte.gz\n",
      "+------------+--------------+-------------+\n",
      "| Data Set   | x float32    | y float32   |\n",
      "+============+==============+=============+\n",
      "| train      | (60000, 784) | (60000, 10) |\n",
      "+------------+--------------+-------------+\n",
      "| test       | (10000, 784) | (10000, 10) |\n",
      "+------------+--------------+-------------+\n"
     ]
    }
   ],
   "source": [
    "%aimport mnist_downloader\n",
    "trainx, trainy, testx, testy = mnist_downloader.read_data_sets(\n",
    "    '../data/mnist', one_hot=True, exact_inputs=False)\n",
    "\n",
    "from tabulate import tabulate\n",
    "\n",
    "print(tabulate(\n",
    "    [['train', trainx.shape, trainy.shape],\n",
    "     ['test', testx.shape, testy.shape]],\n",
    "    ['Data Set', 'x {}'.format(trainx.dtype), 'y {}'.format(trainy.dtype)],\n",
    "    tablefmt='grid'))"
   ]
  },
  {
   "cell_type": "code",
   "execution_count": 3,
   "metadata": {},
   "outputs": [
    {
     "data": {
      "image/png": "[encoded data removed]",
      "text/plain": [
       "<matplotlib.figure.Figure at 0x7f42a26b5be0>"
      ]
     },
     "metadata": {},
     "output_type": "display_data"
    }
   ],
   "source": [
    "# Verify dataset balance\n",
    "\n",
    "plt.hist(trainy.argmax(1), 10, facecolor='green', alpha=0.75)\n",
    "plt.axhline(len(trainy) / 10, color='red', ls=':')\n",
    "plt.xlabel('label')\n",
    "plt.ylabel('counts')\n",
    "plt.title(r'histogram of training labels')\n",
    "plt.grid(True)\n",
    "\n",
    "plt.show()"
   ]
  },
  {
   "cell_type": "code",
   "execution_count": 4,
   "metadata": {},
   "outputs": [],
   "source": [
    "from sklearn.model_selection import train_test_split\n",
    "\n",
    "train_and_validx = trainx\n",
    "train_and_validy = trainy\n",
    "trainx, validx, trainy, validy = train_test_split(\n",
    "    train_and_validx, train_and_validy, test_size=0.3, random_state=1234)"
   ]
  },
  {
   "cell_type": "code",
   "execution_count": 5,
   "metadata": {},
   "outputs": [
    {
     "name": "stderr",
     "output_type": "stream",
     "text": [
      "Using TensorFlow backend.\n"
     ]
    }
   ],
   "source": [
    "import keras\n",
    "from keras.models import Sequential\n",
    "from keras.layers import *\n",
    "\n",
    "network_gen = {\n",
    "    'google': lambda: Sequential([\n",
    "            Reshape([28, 28, 1], input_shape=(trainx.shape[1], )),\n",
    "            Conv2D(\n",
    "                32, [5, 5], strides=(1, 1), padding='same', activation='relu'),\n",
    "            MaxPooling2D(pool_size=(2, 2), padding='same'),\n",
    "            Conv2D(\n",
    "                64, [5, 5], strides=(1, 1), padding='same', activation='relu'),\n",
    "            MaxPooling2D(pool_size=(2, 2), padding='same'),\n",
    "            Flatten(),\n",
    "            Dense(1024, activation='relu'),\n",
    "            Dropout(0.5),\n",
    "            Dense(10, activation='softmax')\n",
    "        ]),\n",
    "    'mlp-5': lambda: Sequential([\n",
    "            Dense(1024, activation='relu', input_dim=trainx.shape[1]),\n",
    "            Dropout(0.5),\n",
    "            BatchNormalization(),\n",
    "            Dense(1024, activation='relu'),\n",
    "            Dropout(0.5),\n",
    "            BatchNormalization(),\n",
    "            Dense(512, activation='relu'),\n",
    "            Dropout(0.5),\n",
    "            BatchNormalization(),\n",
    "            Dense(512, activation='relu'),\n",
    "            Dropout(0.5),\n",
    "            BatchNormalization(),\n",
    "            Dense(10, activation='softmax')\n",
    "        ]),\n",
    "    'logistic': lambda: Sequential([Dense(10, input_dim=trainx.shape[1], activation='softmax')])\n",
    "}"
   ]
  },
  {
   "cell_type": "code",
   "execution_count": 6,
   "metadata": {},
   "outputs": [
    {
     "name": "stdout",
     "output_type": "stream",
     "text": [
      "***** logistic *****\n",
      "Train on 42000 samples, validate on 18000 samples\n",
      "Epoch 1/100\n",
      "42000/42000 [==============================] - 94s - loss: 0.7788 - acc: 0.8106 - val_loss: 0.4529 - val_acc: 0.8848\n",
      "Epoch 2/100\n",
      "42000/42000 [==============================] - 1s - loss: 0.4006 - acc: 0.8952 - val_loss: 0.3647 - val_acc: 0.9010\n",
      "Epoch 3/100\n",
      "42000/42000 [==============================] - 1s - loss: 0.3445 - acc: 0.9068 - val_loss: 0.3316 - val_acc: 0.9083\n",
      "Epoch 4/100\n",
      "42000/42000 [==============================] - 1s - loss: 0.3185 - acc: 0.9136 - val_loss: 0.3143 - val_acc: 0.9118\n",
      "Epoch 5/100\n",
      "42000/42000 [==============================] - 1s - loss: 0.3027 - acc: 0.9178 - val_loss: 0.3059 - val_acc: 0.9126\n",
      "Epoch 6/100\n",
      "42000/42000 [==============================] - 1s - loss: 0.2920 - acc: 0.9192 - val_loss: 0.2972 - val_acc: 0.9153\n",
      "Epoch 7/100\n",
      "42000/42000 [==============================] - 1s - loss: 0.2840 - acc: 0.9221 - val_loss: 0.2922 - val_acc: 0.9172\n",
      "Epoch 8/100\n",
      "42000/42000 [==============================] - 1s - loss: 0.2777 - acc: 0.9234 - val_loss: 0.2896 - val_acc: 0.9186\n",
      "Epoch 9/100\n",
      "42000/42000 [==============================] - 1s - loss: 0.2727 - acc: 0.9245 - val_loss: 0.2855 - val_acc: 0.9183\n",
      " 104 sec\n",
      "***** google *****\n",
      "Train on 42000 samples, validate on 18000 samples\n",
      "Epoch 1/100\n",
      "42000/42000 [==============================] - 7s - loss: 0.1883 - acc: 0.9420 - val_loss: 0.0621 - val_acc: 0.9804\n",
      "Epoch 2/100\n",
      "42000/42000 [==============================] - 6s - loss: 0.0573 - acc: 0.9821 - val_loss: 0.0371 - val_acc: 0.9885\n",
      "Epoch 3/100\n",
      "42000/42000 [==============================] - 6s - loss: 0.0380 - acc: 0.9884 - val_loss: 0.0312 - val_acc: 0.9905\n",
      "Epoch 4/100\n",
      "42000/42000 [==============================] - 6s - loss: 0.0282 - acc: 0.9909 - val_loss: 0.0305 - val_acc: 0.9906\n",
      "Epoch 5/100\n",
      "42000/42000 [==============================] - 6s - loss: 0.0230 - acc: 0.9926 - val_loss: 0.0298 - val_acc: 0.9914\n",
      "Epoch 6/100\n",
      "42000/42000 [==============================] - 6s - loss: 0.0184 - acc: 0.9942 - val_loss: 0.0345 - val_acc: 0.9896\n",
      "  38 sec\n",
      "***** mlp-5 *****\n",
      "Train on 42000 samples, validate on 18000 samples\n",
      "Epoch 1/100\n",
      "42000/42000 [==============================] - 4s - loss: 0.5488 - acc: 0.8265 - val_loss: 0.1866 - val_acc: 0.9435\n",
      "Epoch 2/100\n",
      "42000/42000 [==============================] - 4s - loss: 0.2377 - acc: 0.9294 - val_loss: 0.1230 - val_acc: 0.9622\n",
      "Epoch 3/100\n",
      "42000/42000 [==============================] - 4s - loss: 0.1824 - acc: 0.9455 - val_loss: 0.1113 - val_acc: 0.9661\n",
      "Epoch 4/100\n",
      "42000/42000 [==============================] - 4s - loss: 0.1636 - acc: 0.9504 - val_loss: 0.0946 - val_acc: 0.9712\n",
      "Epoch 5/100\n",
      "42000/42000 [==============================] - 4s - loss: 0.1488 - acc: 0.9539 - val_loss: 0.0864 - val_acc: 0.9731\n",
      "Epoch 6/100\n",
      "42000/42000 [==============================] - 4s - loss: 0.1351 - acc: 0.9603 - val_loss: 0.0858 - val_acc: 0.9748\n",
      "Epoch 7/100\n",
      "42000/42000 [==============================] - 4s - loss: 0.1258 - acc: 0.9615 - val_loss: 0.0831 - val_acc: 0.9752\n",
      "Epoch 8/100\n",
      "42000/42000 [==============================] - 4s - loss: 0.1235 - acc: 0.9627 - val_loss: 0.0756 - val_acc: 0.9777\n",
      "Epoch 9/100\n",
      "42000/42000 [==============================] - 4s - loss: 0.1139 - acc: 0.9660 - val_loss: 0.0771 - val_acc: 0.9779\n",
      "Epoch 10/100\n",
      "42000/42000 [==============================] - 4s - loss: 0.1033 - acc: 0.9680 - val_loss: 0.0731 - val_acc: 0.9787\n",
      "Epoch 11/100\n",
      "42000/42000 [==============================] - 4s - loss: 0.0987 - acc: 0.9704 - val_loss: 0.0735 - val_acc: 0.9779\n",
      "  49 sec\n"
     ]
    }
   ],
   "source": [
    "names = network_gen.keys()\n",
    "\n",
    "from contextlib import contextmanager\n",
    "from keras import backend as K\n",
    "import os.path\n",
    "import keras_util\n",
    "\n",
    "model_dir = os.path.join(os.getcwd(), os.pardir, 'models', 'mnist')\n",
    "\n",
    "for name in names:\n",
    "    print('*****', name, '*****')\n",
    "    K.clear_session()\n",
    "    keras_util.seedall()\n",
    "\n",
    "    net = network_gen[name]()\n",
    "    net.compile(\n",
    "        loss='categorical_crossentropy',\n",
    "        optimizer='adam',\n",
    "        metrics=['accuracy'])\n",
    "\n",
    "    early_stopping = keras.callbacks.EarlyStopping(\n",
    "        monitor='val_acc', min_delta=0, patience=0)\n",
    "\n",
    "    with keras_util.cd(os.path.join(model_dir, name)):\n",
    "        checkpoint = keras.callbacks.ModelCheckpoint(\n",
    "            'net', monitor='val_loss', save_best_only=True)\n",
    "        with keras_util.rectime():\n",
    "            net.fit(\n",
    "                trainx,\n",
    "                trainy,\n",
    "                epochs=100,\n",
    "                batch_size=128,\n",
    "                callbacks=[early_stopping, checkpoint],\n",
    "                validation_data=(validx, validy))"
   ]
  },
  {
   "cell_type": "code",
   "execution_count": 7,
   "metadata": {
    "scrolled": false
   },
   "outputs": [
    {
     "name": "stdout",
     "output_type": "stream",
     "text": [
      "***** logistic (post-train) *****\n",
      "training until loss <= 0.2664\n",
      "Epoch 1/100\n",
      "60000/60000 [==============================] - 1s - loss: 0.2731 - acc: 0.9234     \n",
      "Epoch 2/100\n",
      "60000/60000 [==============================] - 1s - loss: 0.2678 - acc: 0.9249     \n",
      "Epoch 3/100\n",
      "60000/60000 [==============================] - 1s - loss: 0.2641 - acc: 0.9268     \n",
      "   4 sec\n",
      "***** google (post-train) *****\n",
      "training until loss <= 0.0089\n",
      "Epoch 1/100\n",
      "60000/60000 [==============================] - 8s - loss: 0.0280 - acc: 0.9910     \n",
      "Epoch 2/100\n",
      "60000/60000 [==============================] - 7s - loss: 0.0199 - acc: 0.9938     \n",
      "Epoch 3/100\n",
      "60000/60000 [==============================] - 7s - loss: 0.0169 - acc: 0.9944     \n",
      "Epoch 4/100\n",
      "60000/60000 [==============================] - 7s - loss: 0.0129 - acc: 0.9962     - ETA: 0s - loss: 0.0127 - acc: \n",
      "Epoch 5/100\n",
      "60000/60000 [==============================] - 7s - loss: 0.0105 - acc: 0.9964     - ETA: 0s - loss: 0.0101 - acc: \n",
      "Epoch 6/100\n",
      "60000/60000 [==============================] - 7s - loss: 0.0081 - acc: 0.9974     \n",
      "  48 sec\n",
      "***** mlp-5 (post-train) *****\n",
      "training until loss <= 0.0346\n",
      "Epoch 1/100\n",
      "60000/60000 [==============================] - 5s - loss: 0.1158 - acc: 0.9655     \n",
      "Epoch 2/100\n",
      "60000/60000 [==============================] - 5s - loss: 0.1049 - acc: 0.9693     \n",
      "Epoch 3/100\n",
      "60000/60000 [==============================] - 5s - loss: 0.0959 - acc: 0.9712     \n",
      "Epoch 4/100\n",
      "60000/60000 [==============================] - 5s - loss: 0.0900 - acc: 0.9725     \n",
      "Epoch 5/100\n",
      "60000/60000 [==============================] - 5s - loss: 0.0848 - acc: 0.9744     \n",
      "Epoch 6/100\n",
      "60000/60000 [==============================] - 5s - loss: 0.0808 - acc: 0.9757     \n",
      "Epoch 7/100\n",
      "60000/60000 [==============================] - 5s - loss: 0.0754 - acc: 0.9770     \n",
      "Epoch 8/100\n",
      "60000/60000 [==============================] - 5s - loss: 0.0735 - acc: 0.9764     \n",
      "Epoch 9/100\n",
      "60000/60000 [==============================] - 5s - loss: 0.0712 - acc: 0.9777     \n",
      "Epoch 10/100\n",
      "60000/60000 [==============================] - 5s - loss: 0.0674 - acc: 0.9794     \n",
      "Epoch 11/100\n",
      "60000/60000 [==============================] - 5s - loss: 0.0620 - acc: 0.9808     \n",
      "Epoch 12/100\n",
      "60000/60000 [==============================] - 5s - loss: 0.0629 - acc: 0.9800     \n",
      "Epoch 13/100\n",
      "60000/60000 [==============================] - 5s - loss: 0.0613 - acc: 0.9812     \n",
      "Epoch 14/100\n",
      "60000/60000 [==============================] - 5s - loss: 0.0589 - acc: 0.9824     \n",
      "Epoch 15/100\n",
      "60000/60000 [==============================] - 5s - loss: 0.0557 - acc: 0.9826     \n",
      "Epoch 16/100\n",
      "60000/60000 [==============================] - 5s - loss: 0.0570 - acc: 0.9827     \n",
      "Epoch 17/100\n",
      "60000/60000 [==============================] - 5s - loss: 0.0538 - acc: 0.9837     \n",
      "Epoch 18/100\n",
      "60000/60000 [==============================] - 5s - loss: 0.0535 - acc: 0.9831     \n",
      "Epoch 19/100\n",
      "60000/60000 [==============================] - 5s - loss: 0.0485 - acc: 0.9845     \n",
      "Epoch 20/100\n",
      "60000/60000 [==============================] - 5s - loss: 0.0509 - acc: 0.9847     \n",
      "Epoch 21/100\n",
      "60000/60000 [==============================] - 5s - loss: 0.0463 - acc: 0.9854     \n",
      "Epoch 22/100\n",
      "60000/60000 [==============================] - 5s - loss: 0.0452 - acc: 0.9860     \n",
      "Epoch 23/100\n",
      "60000/60000 [==============================] - 5s - loss: 0.0448 - acc: 0.9860     \n",
      "Epoch 24/100\n",
      "60000/60000 [==============================] - 5s - loss: 0.0415 - acc: 0.9869     \n",
      "Epoch 25/100\n",
      "60000/60000 [==============================] - 5s - loss: 0.0424 - acc: 0.9874     \n",
      "Epoch 26/100\n",
      "60000/60000 [==============================] - 5s - loss: 0.0413 - acc: 0.9872     \n",
      "Epoch 27/100\n",
      "60000/60000 [==============================] - 5s - loss: 0.0397 - acc: 0.9874     \n",
      "Epoch 28/100\n",
      "60000/60000 [==============================] - 5s - loss: 0.0401 - acc: 0.9877     \n",
      "Epoch 29/100\n",
      "60000/60000 [==============================] - 5s - loss: 0.0396 - acc: 0.9876     \n",
      "Epoch 30/100\n",
      "60000/60000 [==============================] - 5s - loss: 0.0389 - acc: 0.9878     \n",
      "Epoch 31/100\n",
      "60000/60000 [==============================] - 5s - loss: 0.0371 - acc: 0.9881     \n",
      "Epoch 32/100\n",
      "60000/60000 [==============================] - 5s - loss: 0.0365 - acc: 0.9889     \n",
      "Epoch 33/100\n",
      "60000/60000 [==============================] - 5s - loss: 0.0354 - acc: 0.9893     \n",
      "Epoch 34/100\n",
      "60000/60000 [==============================] - 5s - loss: 0.0349 - acc: 0.9889     \n",
      "Epoch 35/100\n",
      "60000/60000 [==============================] - 5s - loss: 0.0343 - acc: 0.9890     \n",
      " 198 sec\n"
     ]
    }
   ],
   "source": [
    "# Now, train with validation set until we reach the training loss from early stopping.\n",
    "\n",
    "for name in names:\n",
    "    print('*****', name, '(post-train) *****')\n",
    "    K.clear_session()\n",
    "    keras_util.seedall()\n",
    "\n",
    "    net = network_gen[name]()\n",
    "    net.compile(\n",
    "        loss='categorical_crossentropy',\n",
    "        optimizer='adam',\n",
    "        metrics=['accuracy'])\n",
    "\n",
    "    with keras_util.cd(os.path.join(model_dir, name)):\n",
    "        net.load_weights('net')\n",
    "        train_metrics = dict(\n",
    "            zip(net.metrics_names, net.evaluate(trainx, trainy, verbose=0)))\n",
    "\n",
    "        print('training until loss <= {:0.4f}'.format(train_metrics['loss']))\n",
    "        early_stopping = keras_util.EarlyStopLambda(\n",
    "            metric='loss',\n",
    "            should_stop=lambda loss: loss <= train_metrics['loss'])\n",
    "        checkpoint = keras.callbacks.ModelCheckpoint(\n",
    "            'net-with-valid', monitor='loss', save_best_only=True)\n",
    "        with keras_util.rectime():\n",
    "            net.fit(\n",
    "                train_and_validx,\n",
    "                train_and_validy,\n",
    "                epochs=100,\n",
    "                batch_size=128,\n",
    "                callbacks=[early_stopping, checkpoint])"
   ]
  },
  {
   "cell_type": "code",
   "execution_count": 8,
   "metadata": {},
   "outputs": [
    {
     "name": "stdout",
     "output_type": "stream",
     "text": [
      "+----------+------------+-------------+------------+\n",
      "| model    |   test acc |   train acc |   # params |\n",
      "+==========+============+=============+============+\n",
      "| logistic |     0.9239 |      0.9272 |       7850 |\n",
      "+----------+------------+-------------+------------+\n",
      "| mlp-5    |     0.9854 |      0.9992 |    2658314 |\n",
      "+----------+------------+-------------+------------+\n",
      "| google   |     0.9940 |      0.9996 |    3274634 |\n",
      "+----------+------------+-------------+------------+\n"
     ]
    }
   ],
   "source": [
    "final_acc = {}\n",
    "final_train_acc = {}\n",
    "final_pred = {}\n",
    "num_params = {}\n",
    "for name in names:\n",
    "    K.clear_session()\n",
    "    keras_util.seedall()\n",
    "    net = network_gen[name]()\n",
    "    net.compile(loss='categorical_crossentropy', optimizer='adam', metrics=['accuracy'])\n",
    "    num_params[name] = sum(x.size for x in net.get_weights())\n",
    "    with keras_util.cd(os.path.join(model_dir, name)):\n",
    "        net.load_weights('net-with-valid')\n",
    "    final_pred[name] = net.predict(testx)\n",
    "    test_metrics = dict(zip(net.metrics_names, net.evaluate(testx, testy, verbose=0)))\n",
    "    final_acc[name] = test_metrics['acc']\n",
    "    train_metrics = dict(zip(net.metrics_names, net.evaluate(train_and_validx, train_and_validy, verbose=0)))\n",
    "    final_train_acc[name] = train_metrics['acc']\n",
    "results = [[name, acc, final_train_acc[name], num_params[name]] for name, acc in final_acc.items()]\n",
    "results.sort(key=lambda row: row[1])\n",
    "print(tabulate(results, ['model', 'test acc', 'train acc', '# params'], tablefmt='grid', floatfmt=\"0.4f\"))"
   ]
  },
  {
   "cell_type": "code",
   "execution_count": 9,
   "metadata": {},
   "outputs": [],
   "source": [
    "import sklearn.metrics\n",
    "\n",
    "def evaluate(truey_onehot, predy_onehot):\n",
    "    truey = truey_onehot.argmax(1)\n",
    "    predy = predy_onehot.argmax(1)\n",
    "    \n",
    "    nclasses = 10\n",
    "\n",
    "    confusion = sklearn.metrics.confusion_matrix(truey, predy).astype(float)\n",
    "    np.fill_diagonal(confusion, np.nan)\n",
    "    plt.imshow(confusion)\n",
    "    plt.colorbar()\n",
    "    plt.xticks(np.arange(nclasses))\n",
    "    plt.yticks(np.arange(nclasses))\n",
    "    plt.xlabel(r'$\\hat{y}$')\n",
    "    plt.ylabel(r'$y$')\n",
    "    plt.title(r'confusion counts ($n={}K$)'.format(len(validy)//1000))\n",
    "    plt.show()\n",
    "\n",
    "    acc = sklearn.metrics.accuracy_score(truey, predy)\n",
    "    rocauc = sklearn.metrics.roc_auc_score(truey_onehot, predy_onehot, average='weighted')\n",
    "\n",
    "    print(tabulate([[rocauc, acc]], ['weighted roc auc', 'accuracy'], tablefmt='grid'))"
   ]
  },
  {
   "cell_type": "code",
   "execution_count": 10,
   "metadata": {},
   "outputs": [
    {
     "name": "stdout",
     "output_type": "stream",
     "text": [
      "mlp-5 error eval\n"
     ]
    },
    {
     "data": {
      "image/png": "[encoded data removed]",
      "text/plain": [
       "<matplotlib.figure.Figure at 0x7f415c791c88>"
      ]
     },
     "metadata": {},
     "output_type": "display_data"
    },
    {
     "name": "stdout",
     "output_type": "stream",
     "text": [
      "+--------------------+------------+\n",
      "|   weighted roc auc |   accuracy |\n",
      "+====================+============+\n",
      "|           0.999829 |     0.9854 |\n",
      "+--------------------+------------+\n",
      "google error eval\n"
     ]
    },
    {
     "data": {
      "image/png": "[encoded data removed]",
      "text/plain": [
       "<matplotlib.figure.Figure at 0x7f421c56cf60>"
      ]
     },
     "metadata": {},
     "output_type": "display_data"
    },
    {
     "name": "stdout",
     "output_type": "stream",
     "text": [
      "+--------------------+------------+\n",
      "|   weighted roc auc |   accuracy |\n",
      "+====================+============+\n",
      "|           0.999967 |      0.994 |\n",
      "+--------------------+------------+\n"
     ]
    }
   ],
   "source": [
    "print('mlp-5 error eval')\n",
    "evaluate(testy, final_pred['mlp-5'])\n",
    "print('google error eval')\n",
    "evaluate(testy, final_pred['google'])"
   ]
  },
  {
   "cell_type": "code",
   "execution_count": 11,
   "metadata": {},
   "outputs": [],
   "source": [
    "# Looks like we can regularize google and mlp-5 a bit more!\n",
    "# They also have complimentary confusion matrices, a weighted mixture might do better."
   ]
  }
 ],
 "metadata": {
  "kernelspec": {
   "display_name": "Python 3",
   "language": "python",
   "name": "python3"
  },
  "language_info": {
   "codemirror_mode": {
    "name": "ipython",
    "version": 3
   },
   "file_extension": ".py",
   "mimetype": "text/x-python",
   "name": "python",
   "nbconvert_exporter": "python",
   "pygments_lexer": "ipython3",
   "version": "3.5.3"
  }
 },
 "nbformat": 4,
 "nbformat_minor": 1
}
