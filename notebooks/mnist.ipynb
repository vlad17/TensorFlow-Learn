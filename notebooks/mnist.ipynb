{
 "metadata": {
  "name": ""
 },
 "nbformat": 3,
 "nbformat_minor": 0,
 "worksheets": [
  {
   "cells": [
    {
     "cell_type": "code",
     "collapsed": false,
     "input": [
      "import sys\n",
      "if '../code' not in sys.path: sys.path.append('../code')\n",
      "import mnist_downloader"
     ],
     "language": "python",
     "metadata": {},
     "outputs": [],
     "prompt_number": 8
    },
    {
     "cell_type": "code",
     "collapsed": false,
     "input": [
      "mnist = mnist_downloader.read_data_sets('../data', one_hot=True)\n",
      "import tensorflow as tf"
     ],
     "language": "python",
     "metadata": {},
     "outputs": [
      {
       "output_type": "stream",
       "stream": "stdout",
       "text": [
        "Extracting ../data/train-images-idx3-ubyte.gz\n",
        "Extracting"
       ]
      },
      {
       "output_type": "stream",
       "stream": "stdout",
       "text": [
        " ../data/train-labels-idx1-ubyte.gz\n",
        "Extracting ../data/t10k-images-idx3-ubyte.gz\n",
        "Extracting ../data/t10k-labels-idx1-ubyte.gz\n",
        "Data Set                 x                        y                        "
       ]
      },
      {
       "output_type": "stream",
       "stream": "stdout",
       "text": [
        "\n",
        "train                    (55000, 784)             (55000, 10)              \n",
        "test                     (10000, 784)             (10000, 10)              \n",
        "validation               (5000, 784)              (5000, 10)               \n",
        "x float32 y float64\n"
       ]
      }
     ],
     "prompt_number": 10
    },
    {
     "cell_type": "code",
     "collapsed": false,
     "input": [
      "# https://www.tensorflow.org/versions/0.6.0/tutorials/mnist/pros/index.html\n",
      "# Softmax regression\n",
      "# TODO make a softmax module with smarter training\n",
      "x = tf.placeholder(\"float\", shape=[None, 784]) # any batch size on flattened pixel values\n",
      "y_ = tf.placeholder(\"float\", shape=[None, 10])\n",
      "W = tf.Variable(tf.zeros([784,10]))\n",
      "b = tf.Variable(tf.zeros([10]))\n",
      "# Vectorized softmax on entire batch after dot product\n",
      "y = tf.nn.softmax(tf.matmul(x,W) + b)\n",
      "# Loss function and hard-coded training\n",
      "cross_entropy = -tf.reduce_sum(y_*tf.log(y))"
     ],
     "language": "python",
     "metadata": {},
     "outputs": [],
     "prompt_number": 14
    },
    {
     "cell_type": "code",
     "collapsed": false,
     "input": [
      "sess = tf.InteractiveSession()\n",
      "sess.run(tf.initialize_all_variables())\n",
      "\n",
      "train_step = tf.train.GradientDescentOptimizer(0.01).minimize(cross_entropy)\n",
      "for i in range(1000):\n",
      "    batch = mnist.train.next_batch(50)\n",
      "    train_step.run(feed_dict={x: batch[0], y_: batch[1]})\n",
      "\n",
      "correct_prediction = tf.equal(tf.argmax(y,1), tf.argmax(y_,1))\n",
      "accuracy = tf.reduce_mean(tf.cast(correct_prediction, \"float\"))\n",
      "print(accuracy.eval(feed_dict={x: mnist.test.images, y_: mnist.test.labels}))\n",
      "\n",
      "sess.close()"
     ],
     "language": "python",
     "metadata": {},
     "outputs": [
      {
       "output_type": "stream",
       "stream": "stdout",
       "text": [
        "0.9085\n"
       ]
      }
     ],
     "prompt_number": 16
    }
   ],
   "metadata": {}
  }
 ]
}