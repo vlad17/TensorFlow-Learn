{
 "cells": [
  {
   "cell_type": "code",
   "execution_count": 1,
   "metadata": {
    "cellView": "both",
    "colab": {
     "autoexec": {
      "startup": false,
      "wait_interval": 0
     }
    },
    "colab_type": "code",
    "id": "apJbCsBHl-2A"
   },
   "outputs": [
    {
     "name": "stderr",
     "output_type": "stream",
     "text": [
      "Using TensorFlow backend.\n"
     ]
    }
   ],
   "source": [
    "# Based on Google's Udacity Deep Learning course, Assignments 1-4\n",
    "\n",
    "%reload_ext autoreload\n",
    "%autoreload 1\n",
    "%matplotlib inline\n",
    "import matplotlib.pyplot as plt\n",
    "\n",
    "import sys\n",
    "import os\n",
    "import os.path\n",
    "assert os.path.basename(os.getcwd()) == 'notebooks', os.path.basename(os.getcwd())\n",
    "code_dir = os.path.join(os.getcwd(), os.pardir, 'code')\n",
    "if code_dir not in sys.path:\n",
    "    sys.path.append(code_dir)\n",
    "    os.environ['PYTHONPATH'] = os.environ.get('PYTHONPATH', '') + os.pathsep + code_dir\n",
    "model_dir = os.path.join(os.getcwd(), os.pardir, 'models')\n",
    "data_dir = os.path.join(os.getcwd(), os.pardir, 'data')\n",
    "    \n",
    "import keras\n",
    "%aimport keras_util"
   ]
  },
  {
   "cell_type": "code",
   "execution_count": 3,
   "metadata": {
    "cellView": "both",
    "colab": {
     "autoexec": {
      "startup": false,
      "wait_interval": 0
     },
     "output_extras": [
      {
       "item_id": 1
      }
     ]
    },
    "colab_type": "code",
    "executionInfo": {
     "elapsed": 186058,
     "status": "ok",
     "timestamp": 1444485672507,
     "user": {
      "color": "#1FA15D",
      "displayName": "Vincent Vanhoucke",
      "isAnonymous": false,
      "isMe": true,
      "permissionId": "05076109866853157986",
      "photoUrl": "//lh6.googleusercontent.com/-cCJa7dTDcgQ/AAAAAAAAAAI/AAAAAAAACgw/r2EZ_8oYer4/s50-c-k-no/photo.jpg",
      "sessionId": "2a0a5e044bb03b66",
      "userId": "102167687554210253930"
     },
     "user_tz": 420
    },
    "id": "EYRJ4ICW6-da",
    "outputId": "0d0f85df-155f-4a89-8e7e-ee32df36ec8d"
   },
   "outputs": [
    {
     "name": "stdout",
     "output_type": "stream",
     "text": [
      "notMNIST_large already extracted\n",
      "notMNIST_small already extracted\n"
     ]
    }
   ],
   "source": [
    "from keras.utils import get_file\n",
    "import string\n",
    "\n",
    "def fullpath_listdir(dirname):\n",
    "    return [os.path.join(dirname, fname) for fname in os.listdir(dirname)]    \n",
    "\n",
    "def get_notmnist_tgz(base, expected_count, expected_classes):\n",
    "    notmnist_origin = 'https://commondatastorage.googleapis.com/books1000/'\n",
    "    subdir = 'notmnist'\n",
    "    target = os.path.join(data_dir, subdir, base)\n",
    "    if os.path.isdir(target):\n",
    "        classdirs = fullpath_listdir(target)\n",
    "        num_class_files = [len(os.listdir(classdir)) for classdir in classdirs]\n",
    "        all_examples_present = all(num_files >= expected_count for num_files in num_class_files)\n",
    "        all_classes_present = all(i in os.listdir(target) for i in expected_classes)\n",
    "        if all_classes_present and all_examples_present:\n",
    "            print(base, 'already extracted')\n",
    "            return target\n",
    "    ext = '.tar.gz'\n",
    "    get_file(base + ext, notmnist_origin + base + ext, cache_dir=data_dir, cache_subdir=subdir, extract=True)\n",
    "    return target\n",
    "\n",
    "train_dir = get_notmnist_tgz('notMNIST_large', 50000, string.ascii_uppercase[:10])\n",
    "test_dir = get_notmnist_tgz('notMNIST_small', 1800, string.ascii_uppercase[:10])"
   ]
  },
  {
   "cell_type": "code",
   "execution_count": 5,
   "metadata": {},
   "outputs": [
    {
     "data": {
      "image/png": "[encoded data removed]",
      "text/plain": [
       "<matplotlib.figure.Figure at 0x7fb6b08f3f28>"
      ]
     },
     "metadata": {},
     "output_type": "display_data"
    },
    {
     "name": "stdout",
     "output_type": "stream",
     "text": [
      "images are 28x28\n"
     ]
    }
   ],
   "source": [
    "classdirs = fullpath_listdir(train_dir)\n",
    "classdirs.sort()\n",
    "np.random.seed(1234)\n",
    "selected_images = [np.random.choice(fullpath_listdir(classdir)) for classdir in classdirs]\n",
    "\n",
    "from matplotlib.image import imread\n",
    "\n",
    "# https://stackoverflow.com/questions/36006136/\n",
    "fig = plt.figure()\n",
    "for i, f in enumerate(selected_images, start=1):\n",
    "    ax = fig.add_subplot(1, len(selected_images), i)\n",
    "    plt.imshow(imread(f), cmap='Greys_r')\n",
    "    plt.axis('off')\n",
    "\n",
    "plt.show()\n",
    "\n",
    "imheight, imwidth = imread(selected_images[0]).shape\n",
    "print('images are {}x{}'.format(imwidth, imheight))"
   ]
  },
  {
   "cell_type": "markdown",
   "metadata": {},
   "source": [
    "### Raw Data Ingestion\n",
    "\n",
    "Load all the pictures as greyscale matrices, and deduplicate exact matches"
   ]
  },
  {
   "cell_type": "code",
   "execution_count": 6,
   "metadata": {},
   "outputs": [],
   "source": [
    "from keras.preprocessing.image import img_to_array, load_img\n",
    "import multiprocessing\n",
    "import contextlib\n",
    "from sklearn.preprocessing import MultiLabelBinarizer\n",
    "from joblib import Memory\n",
    "\n",
    "onehot = MultiLabelBinarizer().fit(classes)\n",
    "\n",
    "def img_from_file(fname):\n",
    "    im = load_img(fname, grayscale=True, target_size=(imheight, imwidth))\n",
    "    return img_to_array(im, data_format='channels_last') # TODO: don't make it float yet...\n",
    "\n",
    "train_classdirs = fullpath_listdir(train_dir)\n",
    "\n",
    "def no_rows(*shape):\n",
    "    shape_tup = (0, ) + tuple(shape)\n",
    "    return np.empty(shape=shape_tup, dtype=np.float32)\n",
    "\n",
    "\n",
    "def labelled_img(fname):\n",
    "    try:\n",
    "        label = os.path.basename(os.path.dirname(fname))\n",
    "        x = img_from_file(fname).reshape(1, 28, 28)\n",
    "        y = onehot.transform(label).astype(np.float32)\n",
    "        return x, y\n",
    "    except IOError as e:\n",
    "        print(e)\n",
    "    return no_rows(28, 28), no_rows(10)\n",
    "\n",
    "memory = Memory(cachedir=os.path.join(train_dir, os.path.pardir), verbose=1)\n",
    "\n",
    "@memory.cache\n",
    "def load_raw(directory):\n",
    "    all_fnames = [\n",
    "        f for clsdir in fullpath_listdir(directory)\n",
    "        if os.path.isdir(clsdir) for f in fullpath_listdir(clsdir)\n",
    "    ]\n",
    "    with contextlib.closing(\n",
    "            multiprocessing.Pool(multiprocessing.cpu_count())) as pool:\n",
    "        xy = pool.map(labelled_img, all_fnames, chunksize=100)\n",
    "        return tuple(np.vstack(ls) for ls in zip(*xy))"
   ]
  },
  {
   "cell_type": "code",
   "execution_count": 7,
   "metadata": {},
   "outputs": [
    {
     "name": "stdout",
     "output_type": "stream",
     "text": [
      "________________________________________________________________________________\n",
      "[Memory] Calling __main__--home-mluser-saved-docker-learning-to-deep-learn-notebooks-__ipython-input__.load_raw...\n",
      "load_raw('/home/mluser/saved-docker/learning-to-deep-learn/notebooks/../data/notmnist/notMNIST_large')\n",
      "cannot identify image file '/home/mluser/saved-docker/learning-to-deep-learn/notebooks/../data/notmnist/notMNIST_large/D/VHJhbnNpdCBCb2xkLnR0Zg==.png'\n",
      "cannot identify image file '/home/mluser/saved-docker/learning-to-deep-learn/notebooks/../data/notmnist/notMNIST_large/A/RnJlaWdodERpc3BCb29rSXRhbGljLnR0Zg==.png'\n",
      "cannot identify image file '/home/mluser/saved-docker/learning-to-deep-learn/notebooks/../data/notmnist/notMNIST_large/A/SG90IE11c3RhcmQgQlROIFBvc3Rlci50dGY=.png'\n",
      "cannot identify image file '/home/mluser/saved-docker/learning-to-deep-learn/notebooks/../data/notmnist/notMNIST_large/A/Um9tYW5hIEJvbGQucGZi.png'\n",
      "cannot identify image file '/home/mluser/saved-docker/learning-to-deep-learn/notebooks/../data/notmnist/notMNIST_large/B/TmlraXNFRi1TZW1pQm9sZEl0YWxpYy5vdGY=.png'\n",
      "________________________________________________________load_raw - 19.3s, 0.3min\n",
      "________________________________________________________________________________\n",
      "[Memory] Calling __main__--home-mluser-saved-docker-learning-to-deep-learn-notebooks-__ipython-input__.load_raw...\n",
      "load_raw('/home/mluser/saved-docker/learning-to-deep-learn/notebooks/../data/notmnist/notMNIST_small')\n",
      "cannot identify image file '/home/mluser/saved-docker/learning-to-deep-learn/notebooks/../data/notmnist/notMNIST_small/F/Q3Jvc3NvdmVyIEJvbGRPYmxpcXVlLnR0Zg==.png'\n",
      "cannot identify image file '/home/mluser/saved-docker/learning-to-deep-learn/notebooks/../data/notmnist/notMNIST_small/A/RGVtb2NyYXRpY2FCb2xkT2xkc3R5bGUgQm9sZC50dGY=.png'\n",
      "_________________________________________________________load_raw - 1.5s, 0.0min\n",
      "+------------+------------------+--------------+-------------+\n",
      "| data set   | x float32        | y float32    |   load time |\n",
      "+============+==================+==============+=============+\n",
      "| train      | (529114, 28, 28) | (529114, 10) |    19.2684  |\n",
      "+------------+------------------+--------------+-------------+\n",
      "| test       | (18724, 28, 28)  | (18724, 10)  |     1.52533 |\n",
      "+------------+------------------+--------------+-------------+\n"
     ]
    }
   ],
   "source": [
    "import contexttimer\n",
    "from tabulate import tabulate\n",
    "\n",
    "with contexttimer.Timer() as train_time:\n",
    "    trainx, trainy = load_raw(train_dir)\n",
    "    \n",
    "with contexttimer.Timer() as test_time:\n",
    "    testx, testy = load_raw(test_dir)\n",
    "\n",
    "print(tabulate(\n",
    "    [['train', trainx.shape, trainy.shape, train_time.elapsed],\n",
    "     ['test', testx.shape, testy.shape, test_time.elapsed]],\n",
    "    ['data set', 'x {}'.format(trainx.dtype), 'y {}'.format(trainy.dtype), 'load time'],\n",
    "    tablefmt='grid'))"
   ]
  },
  {
   "cell_type": "code",
   "execution_count": 17,
   "metadata": {},
   "outputs": [
    {
     "name": "stdout",
     "output_type": "stream",
     "text": [
      "________________________________________________________________________________\n",
      "[Memory] Calling __main__--home-mluser-saved-docker-learning-to-deep-learn-notebooks-__ipython-input__.unique_rows...\n",
      "unique_rows('trainx')\n",
      "_____________________________________________________unique_rows - 24.6s, 0.4min\n",
      "dedup reduced training size from 529114 to 461946\n"
     ]
    }
   ],
   "source": [
    "# Deduplicate exactly-equal images\n",
    "@memory.cache\n",
    "def unique_rows(matrix_name):\n",
    "    nparr = eval(matrix_name)\n",
    "    assert nparr.ndim > 1\n",
    "    matrix = nparr.reshape(len(nparr), -1)\n",
    "    _, ind = np.unique(matrix, axis=0, return_index=True)\n",
    "    return ind\n",
    "\n",
    "unique_ind = unique_rows('trainx')\n",
    "print('dedup reduced training size from {} to {}'.format(len(trainx), len(unique_ind)))\n",
    "trainx, trainy = trainx[unique_ind], trainy[unique_ind]"
   ]
  },
  {
   "cell_type": "code",
   "execution_count": 83,
   "metadata": {},
   "outputs": [
    {
     "data": {
      "text/plain": [
       "((226353, 28, 28), (97009, 28, 28))"
      ]
     },
     "execution_count": 83,
     "metadata": {},
     "output_type": "execute_result"
    }
   ],
   "source": [
    "from sklearn.model_selection import train_test_split\n",
    "\n",
    "train_and_validx, train_and_validy = trainx, trainy\n",
    "trainx, validx, trainy, validy = train_test_split(trainx, trainy, test_size=0.3, random_state=5678)"
   ]
  },
  {
   "cell_type": "markdown",
   "metadata": {},
   "source": [
    "### Neural Network Baselines\n",
    "\n",
    "Use logistic regression and fine-tuned VGG to establish a baseline performance value."
   ]
  },
  {
   "cell_type": "code",
   "execution_count": 84,
   "metadata": {},
   "outputs": [],
   "source": [
    "# TODO: logistic, pre-trianed vgg or whatever keras has pre-trianed.\n",
    "# use multi-gpu setup\n",
    "\n",
    "# follow tutorial on\n",
    "# https://blog.keras.io/building-powerful-image-classification-models-using-very-little-data.html\n",
    "# for fine-tuning\n",
    "# kerasutil - two-round post-train with validation set helper method\n",
    "\n",
    "# current best is 97.4%\n",
    "# http://yaroslavvb.blogspot.com/2011/09/notmnist-dataset.html?showComment=1391023266211#c8758720086795711595"
   ]
  },
  {
   "cell_type": "code",
   "execution_count": 33,
   "metadata": {},
   "outputs": [
    {
     "data": {
      "text/plain": [
       "(28, 28)"
      ]
     },
     "execution_count": 33,
     "metadata": {},
     "output_type": "execute_result"
    }
   ],
   "source": [
    "\n",
    "# The entire dataset fits into memory but it'll be good exercise to use\n",
    "# more convenient tools (which will come in handy for larger datasets)\n",
    "# https://blog.keras.io/building-powerful-image-classification-models-using-very-little-data.html\n",
    "from keras.preprocessing.image import ImageDataGenerator\n",
    "\n",
    "datagen = ImageDataGenerator(\n",
    "    featurewise_center=True,\n",
    "    featurewise_std_normalization=True,\n",
    "    width_shift_range=0.2,\n",
    "    height_shift_range=0.2, \n",
    "    fill_mode='constant')"
   ]
  },
  {
   "cell_type": "markdown",
   "metadata": {},
   "source": [
    "### Use faiss to further slim down very similar images\n",
    "\n",
    "Close approximate matches aren't useful for training either. Find the top-10 matches for each image, then amongst all top-10 selections find a fuzzy match distance that is acceptable to deduplicate."
   ]
  },
  {
   "cell_type": "code",
   "execution_count": 18,
   "metadata": {},
   "outputs": [],
   "source": [
    "train_matrix = trainx.reshape(trainx.shape[0], -1)\n",
    "num_vecs, vec_dim = train_matrix.shape"
   ]
  },
  {
   "cell_type": "code",
   "execution_count": 19,
   "metadata": {},
   "outputs": [],
   "source": [
    "import faiss\n",
    "\n",
    "ngpu = keras_util.ngpu()\n",
    "# faiss uses swig, which fails unless we hold all these objects\n",
    "# in lists explicitly\n",
    "resources = [faiss.StandardGpuResources() for i in range(ngpu)]\n",
    "\n",
    "index = faiss.index_factory(vec_dim, 'IVF{},Flat'.format(int(np.sqrt(num_vecs) * 10)))\n",
    "index.nprobe = 10\n",
    "opts = faiss.GpuMultipleClonerOptions()\n",
    "index = faiss.index_cpu_to_gpu_multiple_py(resources, index, opts)"
   ]
  },
  {
   "cell_type": "code",
   "execution_count": 20,
   "metadata": {},
   "outputs": [
    {
     "name": "stdout",
     "output_type": "stream",
     "text": [
      "Trained image similarity index in 30.04 sec\n"
     ]
    }
   ],
   "source": [
    "with contexttimer.Timer() as t:\n",
    "    index.train(train_matrix)\n",
    "    index.add(train_matrix)\n",
    "print('Trained image similarity index in {:.2f} sec'.format(t.elapsed))"
   ]
  },
  {
   "cell_type": "code",
   "execution_count": 21,
   "metadata": {},
   "outputs": [
    {
     "name": "stdout",
     "output_type": "stream",
     "text": [
      "Found top-10 similarity matches for all images in 9.15 sec\n"
     ]
    }
   ],
   "source": [
    "k = 10\n",
    "with contexttimer.Timer() as t:\n",
    "    distances, indices = index.search(train_matrix, k)\n",
    "print('Found top-{} similarity matches for all images in {:.2f} sec'.format(k, t.elapsed))"
   ]
  },
  {
   "cell_type": "code",
   "execution_count": 12,
   "metadata": {},
   "outputs": [],
   "source": [
    "# Free GPU memory\n",
    "del index, resources, opts"
   ]
  },
  {
   "cell_type": "code",
   "execution_count": 22,
   "metadata": {},
   "outputs": [
    {
     "data": {
      "image/png": "[encoded data removed]",
      "text/plain": [
       "<matplotlib.figure.Figure at 0x7fb703a28e80>"
      ]
     },
     "metadata": {},
     "output_type": "display_data"
    }
   ],
   "source": [
    "fig = plt.figure()\n",
    "np.random.seed(1234)\n",
    "nsamples = 5\n",
    "selected_images = np.random.choice(np.arange(len(indices)), nsamples)\n",
    "image_indices = np.concatenate([indices[i] for i in selected_images])\n",
    "for i, image_index in enumerate(image_indices, start=1):\n",
    "    ax = fig.add_subplot(nsamples, k, i)\n",
    "    plt.imshow(trainx[image_index], cmap='Greys_r')\n",
    "    plt.axis('off')\n",
    "\n",
    "plt.show()"
   ]
  },
  {
   "cell_type": "markdown",
   "metadata": {},
   "source": [
    "The above shows that L2 metric on the raw image data might not be enough since clearly different fonts for the same letter are viewed as neighbors, even though we'd like to match only with the same font that's been repeated between two images (but isn't an exact duplicate, since those were already filtered out)."
   ]
  }
 ],
 "metadata": {
  "colab": {
   "default_view": {},
   "name": "1_notmnist.ipynb",
   "provenance": [],
   "version": "0.3.2",
   "views": {}
  },
  "kernelspec": {
   "display_name": "Python 3",
   "language": "python",
   "name": "python3"
  }
 },
 "nbformat": 4,
 "nbformat_minor": 1
}
