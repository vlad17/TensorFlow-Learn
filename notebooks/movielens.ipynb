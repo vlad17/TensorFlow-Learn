{
 "cells": [
  {
   "cell_type": "code",
   "execution_count": 1,
   "metadata": {},
   "outputs": [
    {
     "name": "stderr",
     "output_type": "stream",
     "text": [
      "Using TensorFlow backend.\n"
     ]
    }
   ],
   "source": [
    "# Vaguely following this lesson plan:\n",
    "# http://course.fast.ai/lessons/lesson4.html\n",
    "\n",
    "%reload_ext autoreload\n",
    "%autoreload 1\n",
    "%matplotlib inline\n",
    "import matplotlib.pyplot as plt\n",
    "\n",
    "import sys\n",
    "import os\n",
    "import os.path\n",
    "assert os.path.basename(os.getcwd()) == 'notebooks', os.path.basename(os.getcwd())\n",
    "code_dir = os.path.join(os.getcwd(), os.pardir, 'code')\n",
    "if code_dir not in sys.path:\n",
    "    sys.path.append(code_dir)\n",
    "    os.environ['PYTHONPATH'] = os.environ.get('PYTHONPATH', '') + os.pathsep + code_dir\n",
    "model_dir = os.path.join(os.getcwd(), os.pardir, 'models')\n",
    "    \n",
    "# Keras warns about non-keras optimizers\n",
    "import warnings\n",
    "warnings.simplefilter(\"ignore\", UserWarning)\n",
    "import keras\n",
    "%aimport keras_util"
   ]
  },
  {
   "cell_type": "code",
   "execution_count": 2,
   "metadata": {},
   "outputs": [
    {
     "name": "stdout",
     "output_type": "stream",
     "text": [
      "\r\n",
      "README.txt\t   genome-tags.csv  movies.csv\t tags.csv\r\n",
      "genome-scores.csv  links.csv\t    ratings.csv\r\n"
     ]
    }
   ],
   "source": [
    "from keras.utils import get_file\n",
    "\n",
    "ml20_origin = 'http://files.grouplens.org/datasets/movielens/ml-20m.zip'\n",
    "get_file('ml-20m.zip', ml20_origin, cache_dir='../data', cache_subdir='movielens', extract=True)\n",
    "ml20_path = '../data/movielens/ml-20m/'\n",
    "! echo && ls {ml20_path}"
   ]
  },
  {
   "cell_type": "code",
   "execution_count": 3,
   "metadata": {},
   "outputs": [],
   "source": [
    "import pandas as pd\n",
    "ratings = pd.read_csv(ml20_path + 'ratings.csv')"
   ]
  },
  {
   "cell_type": "code",
   "execution_count": 4,
   "metadata": {},
   "outputs": [
    {
     "name": "stdout",
     "output_type": "stream",
     "text": [
      "unique count 138493 26744\n",
      "max id 138493 131262\n",
      "max normalized id 138492 26743\n"
     ]
    },
    {
     "data": {
      "text/html": [
       "<div>\n",
       "<style>\n",
       "    .dataframe thead tr:only-child th {\n",
       "        text-align: right;\n",
       "    }\n",
       "\n",
       "    .dataframe thead th {\n",
       "        text-align: left;\n",
       "    }\n",
       "\n",
       "    .dataframe tbody tr th {\n",
       "        vertical-align: top;\n",
       "    }\n",
       "</style>\n",
       "<table border=\"1\" class=\"dataframe\">\n",
       "  <thead>\n",
       "    <tr style=\"text-align: right;\">\n",
       "      <th></th>\n",
       "      <th>userId</th>\n",
       "      <th>movieId</th>\n",
       "      <th>rating</th>\n",
       "    </tr>\n",
       "  </thead>\n",
       "  <tbody>\n",
       "    <tr>\n",
       "      <th>0</th>\n",
       "      <td>0</td>\n",
       "      <td>0</td>\n",
       "      <td>3.5</td>\n",
       "    </tr>\n",
       "    <tr>\n",
       "      <th>1</th>\n",
       "      <td>0</td>\n",
       "      <td>1</td>\n",
       "      <td>3.5</td>\n",
       "    </tr>\n",
       "    <tr>\n",
       "      <th>2</th>\n",
       "      <td>0</td>\n",
       "      <td>2</td>\n",
       "      <td>3.5</td>\n",
       "    </tr>\n",
       "    <tr>\n",
       "      <th>3</th>\n",
       "      <td>0</td>\n",
       "      <td>3</td>\n",
       "      <td>3.5</td>\n",
       "    </tr>\n",
       "    <tr>\n",
       "      <th>4</th>\n",
       "      <td>0</td>\n",
       "      <td>4</td>\n",
       "      <td>3.5</td>\n",
       "    </tr>\n",
       "  </tbody>\n",
       "</table>\n",
       "</div>"
      ],
      "text/plain": [
       "   userId  movieId  rating\n",
       "0       0        0     3.5\n",
       "1       0        1     3.5\n",
       "2       0        2     3.5\n",
       "3       0        3     3.5\n",
       "4       0        4     3.5"
      ]
     },
     "metadata": {},
     "output_type": "display_data"
    }
   ],
   "source": [
    "# Convert movies to indices\n",
    "import numpy as np\n",
    "\n",
    "unique_users = ratings.userId.unique()\n",
    "unique_movies = ratings.movieId.unique()\n",
    "print('unique count', len(unique_users), len(unique_movies))\n",
    "print('max id', unique_users.max(), unique_movies.max())\n",
    "users_unique = pd.Series(np.arange(len(unique_users)), index=unique_users)\n",
    "movies_unique = pd.Series(np.arange(len(unique_movies)), index=unique_movies)\n",
    "\n",
    "ratings.userId = ratings.userId.map(users_unique)\n",
    "ratings.movieId = ratings.movieId.map(movies_unique)\n",
    "print('max normalized id', ratings.userId.max(), ratings.movieId.max())\n",
    "\n",
    "n_users = len(users_unique)\n",
    "n_movies = len(movies_unique)\n",
    "\n",
    "from IPython.display import display\n",
    "ratings.drop('timestamp', axis=1, inplace=True)\n",
    "display(ratings.head())"
   ]
  },
  {
   "cell_type": "code",
   "execution_count": 5,
   "metadata": {},
   "outputs": [],
   "source": [
    "movie_factors = 50\n",
    "user_factors = n_users * movie_factors // n_movies"
   ]
  },
  {
   "cell_type": "code",
   "execution_count": 6,
   "metadata": {},
   "outputs": [],
   "source": [
    "from keras.layers import * \n",
    "from keras.regularizers import l2\n",
    "from keras.models import Model\n",
    "\n",
    "def recommender_net():\n",
    "    keras_util.seedall()\n",
    "\n",
    "    user_in = Input(shape=(1,), dtype='int64', name='user_in')\n",
    "    u = Embedding(n_users, user_factors, input_length=1)(user_in)\n",
    "    movie_in = Input(shape=(1,), dtype='int64', name='movie_in')\n",
    "    m = Embedding(n_movies, movie_factors, input_length=1)(movie_in)\n",
    "    u = Dense(50, activation='relu')(u)\n",
    "    um = Dot(axes=2)([u, m])\n",
    "\n",
    "    # Per-user and per-movie bias (to catch \"generally good movies\" and \"generally nice raters\")\n",
    "    ub = Embedding(n_users, 1, input_length=1, name='user_bias')(user_in)\n",
    "    mb = Embedding(n_movies, 1, input_length=1, name='movie_bias')(movie_in)\n",
    "\n",
    "    biased = Add()([um, ub, mb])\n",
    "\n",
    "    return Model([user_in, movie_in], Flatten()(biased))"
   ]
  },
  {
   "cell_type": "code",
   "execution_count": 7,
   "metadata": {},
   "outputs": [
    {
     "data": {
      "image/svg+xml": [
       "<svg height=\"410pt\" viewBox=\"0.00 0.00 469.00 410.00\" width=\"469pt\" xmlns=\"http://www.w3.org/2000/svg\" xmlns:xlink=\"http://www.w3.org/1999/xlink\">\n",
       "<g class=\"graph\" id=\"graph0\" transform=\"scale(1 1) rotate(0) translate(4 406)\">\n",
       "<title>G</title>\n",
       "<polygon fill=\"white\" points=\"-4,4 -4,-406 465,-406 465,4 -4,4\" stroke=\"none\"/>\n",
       "<!-- 139928635638672 -->\n",
       "<g class=\"node\" id=\"node1\"><title>139928635638672</title>\n",
       "<polygon fill=\"none\" points=\"51,-365.5 51,-401.5 175,-401.5 175,-365.5 51,-365.5\" stroke=\"black\"/>\n",
       "<text font-family=\"Times,serif\" font-size=\"14.00\" text-anchor=\"middle\" x=\"113\" y=\"-379.8\">user_in: InputLayer</text>\n",
       "</g>\n",
       "<!-- 139925900577480 -->\n",
       "<g class=\"node\" id=\"node2\"><title>139925900577480</title>\n",
       "<polygon fill=\"none\" points=\"87.5,-292.5 87.5,-328.5 248.5,-328.5 248.5,-292.5 87.5,-292.5\" stroke=\"black\"/>\n",
       "<text font-family=\"Times,serif\" font-size=\"14.00\" text-anchor=\"middle\" x=\"168\" y=\"-306.8\">embedding_1: Embedding</text>\n",
       "</g>\n",
       "<!-- 139928635638672&#45;&gt;139925900577480 -->\n",
       "<g class=\"edge\" id=\"edge1\"><title>139928635638672-&gt;139925900577480</title>\n",
       "<path d=\"M126.314,-365.313C133.002,-356.679 141.232,-346.055 148.607,-336.534\" fill=\"none\" stroke=\"black\"/>\n",
       "<polygon fill=\"black\" points=\"151.452,-338.578 154.809,-328.529 145.918,-334.291 151.452,-338.578\" stroke=\"black\"/>\n",
       "</g>\n",
       "<!-- 139925900633424 -->\n",
       "<g class=\"node\" id=\"node7\"><title>139925900633424</title>\n",
       "<polygon fill=\"none\" points=\"0,-146.5 0,-182.5 138,-182.5 138,-146.5 0,-146.5\" stroke=\"black\"/>\n",
       "<text font-family=\"Times,serif\" font-size=\"14.00\" text-anchor=\"middle\" x=\"69\" y=\"-160.8\">user_bias: Embedding</text>\n",
       "</g>\n",
       "<!-- 139928635638672&#45;&gt;139925900633424 -->\n",
       "<g class=\"edge\" id=\"edge6\"><title>139928635638672-&gt;139925900633424</title>\n",
       "<path d=\"M98.464,-365.403C90.9083,-355.455 82.3615,-342.288 78,-329 62.9453,-283.135 63.9024,-226.18 66.2537,-193.026\" fill=\"none\" stroke=\"black\"/>\n",
       "<polygon fill=\"black\" points=\"69.7675,-192.994 67.0834,-182.745 62.7902,-192.431 69.7675,-192.994\" stroke=\"black\"/>\n",
       "</g>\n",
       "<!-- 139925900576360 -->\n",
       "<g class=\"node\" id=\"node4\"><title>139925900576360</title>\n",
       "<polygon fill=\"none\" points=\"102,-219.5 102,-255.5 204,-255.5 204,-219.5 102,-219.5\" stroke=\"black\"/>\n",
       "<text font-family=\"Times,serif\" font-size=\"14.00\" text-anchor=\"middle\" x=\"153\" y=\"-233.8\">dense_1: Dense</text>\n",
       "</g>\n",
       "<!-- 139925900577480&#45;&gt;139925900576360 -->\n",
       "<g class=\"edge\" id=\"edge2\"><title>139925900577480-&gt;139925900576360</title>\n",
       "<path d=\"M164.369,-292.313C162.674,-284.289 160.616,-274.547 158.719,-265.569\" fill=\"none\" stroke=\"black\"/>\n",
       "<polygon fill=\"black\" points=\"162.089,-264.589 156.598,-255.529 155.24,-266.036 162.089,-264.589\" stroke=\"black\"/>\n",
       "</g>\n",
       "<!-- 139928635564608 -->\n",
       "<g class=\"node\" id=\"node3\"><title>139928635564608</title>\n",
       "<polygon fill=\"none\" points=\"305,-292.5 305,-328.5 441,-328.5 441,-292.5 305,-292.5\" stroke=\"black\"/>\n",
       "<text font-family=\"Times,serif\" font-size=\"14.00\" text-anchor=\"middle\" x=\"373\" y=\"-306.8\">movie_in: InputLayer</text>\n",
       "</g>\n",
       "<!-- 139925900576304 -->\n",
       "<g class=\"node\" id=\"node5\"><title>139925900576304</title>\n",
       "<polygon fill=\"none\" points=\"222.5,-219.5 222.5,-255.5 383.5,-255.5 383.5,-219.5 222.5,-219.5\" stroke=\"black\"/>\n",
       "<text font-family=\"Times,serif\" font-size=\"14.00\" text-anchor=\"middle\" x=\"303\" y=\"-233.8\">embedding_2: Embedding</text>\n",
       "</g>\n",
       "<!-- 139928635564608&#45;&gt;139925900576304 -->\n",
       "<g class=\"edge\" id=\"edge3\"><title>139928635564608-&gt;139925900576304</title>\n",
       "<path d=\"M356.055,-292.313C347.285,-283.417 336.432,-272.409 326.831,-262.672\" fill=\"none\" stroke=\"black\"/>\n",
       "<polygon fill=\"black\" points=\"329.302,-260.193 319.789,-255.529 324.317,-265.107 329.302,-260.193\" stroke=\"black\"/>\n",
       "</g>\n",
       "<!-- 139925365135624 -->\n",
       "<g class=\"node\" id=\"node8\"><title>139925365135624</title>\n",
       "<polygon fill=\"none\" points=\"311,-146.5 311,-182.5 461,-182.5 461,-146.5 311,-146.5\" stroke=\"black\"/>\n",
       "<text font-family=\"Times,serif\" font-size=\"14.00\" text-anchor=\"middle\" x=\"386\" y=\"-160.8\">movie_bias: Embedding</text>\n",
       "</g>\n",
       "<!-- 139928635564608&#45;&gt;139925365135624 -->\n",
       "<g class=\"edge\" id=\"edge7\"><title>139928635564608-&gt;139925365135624</title>\n",
       "<path d=\"M381.306,-292.117C385.742,-281.865 390.742,-268.49 393,-256 396.82,-234.87 394.591,-210.595 391.669,-192.509\" fill=\"none\" stroke=\"black\"/>\n",
       "<polygon fill=\"black\" points=\"395.112,-191.875 389.91,-182.645 388.22,-193.105 395.112,-191.875\" stroke=\"black\"/>\n",
       "</g>\n",
       "<!-- 139925900632976 -->\n",
       "<g class=\"node\" id=\"node6\"><title>139925900632976</title>\n",
       "<polygon fill=\"none\" points=\"177.5,-146.5 177.5,-182.5 252.5,-182.5 252.5,-146.5 177.5,-146.5\" stroke=\"black\"/>\n",
       "<text font-family=\"Times,serif\" font-size=\"14.00\" text-anchor=\"middle\" x=\"215\" y=\"-160.8\">dot_1: Dot</text>\n",
       "</g>\n",
       "<!-- 139925900576360&#45;&gt;139925900632976 -->\n",
       "<g class=\"edge\" id=\"edge4\"><title>139925900576360-&gt;139925900632976</title>\n",
       "<path d=\"M168.008,-219.313C175.624,-210.592 185.013,-199.84 193.391,-190.246\" fill=\"none\" stroke=\"black\"/>\n",
       "<polygon fill=\"black\" points=\"196.189,-192.363 200.13,-182.529 190.916,-187.759 196.189,-192.363\" stroke=\"black\"/>\n",
       "</g>\n",
       "<!-- 139925900576304&#45;&gt;139925900632976 -->\n",
       "<g class=\"edge\" id=\"edge5\"><title>139925900576304-&gt;139925900632976</title>\n",
       "<path d=\"M281.698,-219.313C270.348,-210.156 256.224,-198.76 243.899,-188.816\" fill=\"none\" stroke=\"black\"/>\n",
       "<polygon fill=\"black\" points=\"246.087,-186.084 236.106,-182.529 241.691,-191.532 246.087,-186.084\" stroke=\"black\"/>\n",
       "</g>\n",
       "<!-- 139925311084696 -->\n",
       "<g class=\"node\" id=\"node9\"><title>139925311084696</title>\n",
       "<polygon fill=\"none\" points=\"175,-73.5 175,-109.5 255,-109.5 255,-73.5 175,-73.5\" stroke=\"black\"/>\n",
       "<text font-family=\"Times,serif\" font-size=\"14.00\" text-anchor=\"middle\" x=\"215\" y=\"-87.8\">add_1: Add</text>\n",
       "</g>\n",
       "<!-- 139925900632976&#45;&gt;139925311084696 -->\n",
       "<g class=\"edge\" id=\"edge8\"><title>139925900632976-&gt;139925311084696</title>\n",
       "<path d=\"M215,-146.313C215,-138.289 215,-128.547 215,-119.569\" fill=\"none\" stroke=\"black\"/>\n",
       "<polygon fill=\"black\" points=\"218.5,-119.529 215,-109.529 211.5,-119.529 218.5,-119.529\" stroke=\"black\"/>\n",
       "</g>\n",
       "<!-- 139925900633424&#45;&gt;139925311084696 -->\n",
       "<g class=\"edge\" id=\"edge9\"><title>139925900633424-&gt;139925311084696</title>\n",
       "<path d=\"M103.971,-146.494C123.959,-136.773 149.225,-124.487 170.603,-114.09\" fill=\"none\" stroke=\"black\"/>\n",
       "<polygon fill=\"black\" points=\"172.346,-117.134 179.809,-109.614 169.285,-110.839 172.346,-117.134\" stroke=\"black\"/>\n",
       "</g>\n",
       "<!-- 139925365135624&#45;&gt;139925311084696 -->\n",
       "<g class=\"edge\" id=\"edge10\"><title>139925365135624-&gt;139925311084696</title>\n",
       "<path d=\"M345.041,-146.494C320.86,-136.454 290.084,-123.675 264.543,-113.07\" fill=\"none\" stroke=\"black\"/>\n",
       "<polygon fill=\"black\" points=\"265.612,-109.725 255.035,-109.123 262.928,-116.19 265.612,-109.725\" stroke=\"black\"/>\n",
       "</g>\n",
       "<!-- 139925365234992 -->\n",
       "<g class=\"node\" id=\"node10\"><title>139925365234992</title>\n",
       "<polygon fill=\"none\" points=\"160,-0.5 160,-36.5 270,-36.5 270,-0.5 160,-0.5\" stroke=\"black\"/>\n",
       "<text font-family=\"Times,serif\" font-size=\"14.00\" text-anchor=\"middle\" x=\"215\" y=\"-14.8\">flatten_1: Flatten</text>\n",
       "</g>\n",
       "<!-- 139925311084696&#45;&gt;139925365234992 -->\n",
       "<g class=\"edge\" id=\"edge11\"><title>139925311084696-&gt;139925365234992</title>\n",
       "<path d=\"M215,-73.3129C215,-65.2895 215,-55.5475 215,-46.5691\" fill=\"none\" stroke=\"black\"/>\n",
       "<polygon fill=\"black\" points=\"218.5,-46.5288 215,-36.5288 211.5,-46.5289 218.5,-46.5288\" stroke=\"black\"/>\n",
       "</g>\n",
       "</g>\n",
       "</svg>"
      ],
      "text/plain": [
       "<IPython.core.display.SVG object>"
      ]
     },
     "execution_count": 7,
     "metadata": {},
     "output_type": "execute_result"
    }
   ],
   "source": [
    "from IPython.display import SVG\n",
    "from keras.utils.vis_utils import model_to_dot\n",
    "import pydot\n",
    "import graphviz\n",
    "import keras.backend as K\n",
    "\n",
    "K.clear_session()\n",
    "SVG(model_to_dot(recommender_net()).create(prog='dot', format='svg'))"
   ]
  },
  {
   "cell_type": "code",
   "execution_count": 8,
   "metadata": {},
   "outputs": [],
   "source": [
    "from sklearn.model_selection import train_test_split\n",
    "train_and_valid, test = train_test_split(ratings, test_size=0.3, random_state=1234)\n",
    "train, valid = train_test_split(train_and_valid, test_size=0.3, random_state=5678)"
   ]
  },
  {
   "cell_type": "code",
   "execution_count": 9,
   "metadata": {},
   "outputs": [],
   "source": [
    "from yellowfin import YFOptimizer\n",
    "from keras import optimizers\n",
    "\n",
    "opts = {\n",
    "        'sgd+clip':\n",
    "        lambda: optimizers.SGD(clipvalue=1),\n",
    "        'sgd+momentum+clip':\n",
    "        lambda: optimizers.SGD(momentum=0.9, nesterov=True, clipvalue=1),\n",
    "        'adam+clip':\n",
    "        lambda: optimizers.Adam(clipvalue=1),\n",
    "        'nadam+clip':\n",
    "        lambda: optimizers.Nadam(clipvalue=1),\n",
    "        'adamax+clip':\n",
    "        lambda: optimizers.Adamax(clipvalue=1),\n",
    "# This just doesn't work right now (model-saving issue)\n",
    "#        'yellowfin+clip':\n",
    "#        lambda: optimizers.TFOptimizer(YFOptimizer(clip_thresh=1))\n",
    "    }"
   ]
  },
  {
   "cell_type": "code",
   "execution_count": 10,
   "metadata": {},
   "outputs": [
    {
     "name": "stdout",
     "output_type": "stream",
     "text": [
      "Waiting for redis server at 127.0.0.1:42290 to respond...\n",
      "Waiting for redis server at 127.0.0.1:62818 to respond...\n",
      "Starting local scheduler with 32 CPUs and 2 GPUs.\n",
      "View the web UI at http://localhost:8888/notebooks/ray_ui74773.ipynb\n"
     ]
    },
    {
     "data": {
      "text/plain": [
       "{'local_scheduler_socket_names': ['/tmp/scheduler61834996'],\n",
       " 'node_ip_address': '127.0.0.1',\n",
       " 'object_store_addresses': [ObjectStoreAddress(name='/tmp/plasma_store42710940', manager_name='/tmp/plasma_manager83795661', manager_port=51952)],\n",
       " 'redis_address': '127.0.0.1:42290'}"
      ]
     },
     "execution_count": 10,
     "metadata": {},
     "output_type": "execute_result"
    }
   ],
   "source": [
    "import ray\n",
    "ray.init(num_gpus=len(keras_util.get_available_gpus()))"
   ]
  },
  {
   "cell_type": "code",
   "execution_count": 12,
   "metadata": {},
   "outputs": [
    {
     "name": "stdout",
     "output_type": "stream",
     "text": [
      "Remote function __main__.train_recommender"
     ]
    },
    {
     "ename": "RayGetError",
     "evalue": "Could not get objectid ObjectID(243e507e3fce061ee9023ba2824c6fcbe6006e3c). It was created by remote function \u001b[31m__main__.train_recommender\u001b[39m which failed with:\n\nRemote function \u001b[31m__main__.train_recommender\u001b[39m failed with:\n\nTraceback (most recent call last):\n  File \"/usr/lib/python3.5/contextlib.py\", line 66, in __exit__\n    next(self.gen)\n  File \"/usr/local/lib/python3.5/dist-packages/tensorflow/python/framework/errors_impl.py\", line 466, in raise_exception_on_not_ok_status\n    pywrap_tensorflow.TF_GetCode(status))\ntensorflow.python.framework.errors_impl.ResourceExhaustedError: OOM when allocating tensor of shape [138493,258] and type float\n\t [[Node: Const_40 = Const[dtype=DT_FLOAT, value=Tensor<type: float shape: [138493,258] values: [0 0 0]...>, _device=\"/job:localhost/replica:0/task:0/gpu:0\"]()]]\n\nDuring handling of the above exception, another exception occurred:\n\nTraceback (most recent call last):\n  File \"/usr/local/lib/python3.5/dist-packages/ray/worker.py\", line 1768, in process_task\n    outputs = function_executor.executor(arguments)\n  File \"/usr/local/lib/python3.5/dist-packages/ray/worker.py\", line 2009, in func_executor\n    result = func(*arguments)\n  File \"<ipython-input-12-937d4083b900>\", line 38, in train_recommender\n  File \"/usr/local/lib/python3.5/dist-packages/keras/engine/training.py\", line 1430, in fit\n    initial_epoch=initial_epoch)\n  File \"/usr/local/lib/python3.5/dist-packages/keras/engine/training.py\", line 1040, in _fit_loop\n    callbacks.set_model(callback_model)\n  File \"/usr/local/lib/python3.5/dist-packages/keras/callbacks.py\", line 52, in set_model\n    callback.set_model(model)\n  File \"/usr/local/lib/python3.5/dist-packages/keras/callbacks.py\", line 651, in set_model\n    self.sess = K.get_session()\n  File \"/usr/local/lib/python3.5/dist-packages/keras/backend/tensorflow_backend.py\", line 168, in get_session\n    _initialize_variables()\n  File \"/usr/local/lib/python3.5/dist-packages/keras/backend/tensorflow_backend.py\", line 341, in _initialize_variables\n    sess.run(tf.variables_initializer(uninitialized_variables))\n  File \"/usr/local/lib/python3.5/dist-packages/tensorflow/python/client/session.py\", line 789, in run\n    run_metadata_ptr)\n  File \"/usr/local/lib/python3.5/dist-packages/tensorflow/python/client/session.py\", line 997, in _run\n    feed_dict_string, options, run_metadata)\n  File \"/usr/local/lib/python3.5/dist-packages/tensorflow/python/client/session.py\", line 1132, in _do_run\n    target_list, options, run_metadata)\n  File \"/usr/local/lib/python3.5/dist-packages/tensorflow/python/client/session.py\", line 1152, in _do_call\n    raise type(e)(node_def, op, message)\ntensorflow.python.framework.errors_impl.ResourceExhaustedError: OOM when allocating tensor of shape [138493,258] and type float\n\t [[Node: Const_40 = Const[dtype=DT_FLOAT, value=Tensor<type: float shape: [138493,258] values: [0 0 0]...>, _device=\"/job:localhost/replica:0/task:0/gpu:0\"]()]]\n\nCaused by op 'Const_40', defined at:\n  File \"/usr/local/lib/python3.5/dist-packages/ray/workers/default_worker.py\", line 61, in <module>\n    ray.worker.main_loop()\n  File \"/usr/local/lib/python3.5/dist-packages/ray/worker.py\", line 1838, in main_loop\n    process_task(task)\n  File \"/usr/local/lib/python3.5/dist-packages/ray/worker.py\", line 1768, in process_task\n    outputs = function_executor.executor(arguments)\n  File \"/usr/local/lib/python3.5/dist-packages/ray/worker.py\", line 2009, in func_executor\n    result = func(*arguments)\n  File \"<ipython-input-12-937d4083b900>\", line 38, in train_recommender\n  File \"/usr/local/lib/python3.5/dist-packages/keras/engine/training.py\", line 1413, in fit\n    self._make_train_function()\n  File \"/usr/local/lib/python3.5/dist-packages/keras/engine/training.py\", line 937, in _make_train_function\n    self.total_loss)\n  File \"/usr/local/lib/python3.5/dist-packages/keras/optimizers.py\", line 485, in get_updates\n    ms = [K.zeros(shape) for shape in shapes]\n  File \"/usr/local/lib/python3.5/dist-packages/keras/optimizers.py\", line 485, in <listcomp>\n    ms = [K.zeros(shape) for shape in shapes]\n  File \"/usr/local/lib/python3.5/dist-packages/keras/backend/tensorflow_backend.py\", line 602, in zeros\n    return variable(tf.constant_initializer(0., dtype=tf_dtype)(shape),\n  File \"/usr/local/lib/python3.5/dist-packages/tensorflow/python/ops/init_ops.py\", line 203, in __call__\n    verify_shape=verify_shape)\n  File \"/usr/local/lib/python3.5/dist-packages/tensorflow/python/framework/constant_op.py\", line 106, in constant\n    attrs={\"value\": tensor_value, \"dtype\": dtype_value}, name=name).outputs[0]\n  File \"/usr/local/lib/python3.5/dist-packages/tensorflow/python/framework/ops.py\", line 2506, in create_op\n    original_op=self._default_original_op, op_def=op_def)\n  File \"/usr/local/lib/python3.5/dist-packages/tensorflow/python/framework/ops.py\", line 1269, in __init__\n    self._traceback = _extract_stack()\n\nResourceExhaustedError (see above for traceback): OOM when allocating tensor of shape [138493,258] and type float\n\t [[Node: Const_40 = Const[dtype=DT_FLOAT, value=Tensor<type: float shape: [138493,258] values: [0 0 0]...>, _device=\"/job:localhost/replica:0/task:0/gpu:0\"]()]]\n\n",
     "output_type": "error",
     "traceback": [
      "\u001b[0;31m---------------------------------------------------------------------------\u001b[0m",
      "\u001b[0;31mRayGetError\u001b[0m                               Traceback (most recent call last)",
      "\u001b[0;32m<ipython-input-12-937d4083b900>\u001b[0m in \u001b[0;36m<module>\u001b[0;34m()\u001b[0m\n\u001b[1;32m     45\u001b[0m \u001b[0;34m\u001b[0m\u001b[0m\n\u001b[1;32m     46\u001b[0m \u001b[0mr\u001b[0m \u001b[0;34m=\u001b[0m \u001b[0mtrain_recommender\u001b[0m\u001b[0;34m.\u001b[0m\u001b[0mremote\u001b[0m\u001b[0;34m(\u001b[0m\u001b[0;34m'adamax+clip'\u001b[0m\u001b[0;34m)\u001b[0m\u001b[0;34m\u001b[0m\u001b[0m\n\u001b[0;32m---> 47\u001b[0;31m \u001b[0mray\u001b[0m\u001b[0;34m.\u001b[0m\u001b[0mget\u001b[0m\u001b[0;34m(\u001b[0m\u001b[0mr\u001b[0m\u001b[0;34m)\u001b[0m\u001b[0;34m\u001b[0m\u001b[0m\n\u001b[0m",
      "\u001b[0;32m/usr/local/lib/python3.5/dist-packages/ray/worker.py\u001b[0m in \u001b[0;36mget\u001b[0;34m(object_ids, worker)\u001b[0m\n\u001b[1;32m   1601\u001b[0m         \u001b[0;31m# If the result is a RayTaskError, then the task that created this\u001b[0m\u001b[0;34m\u001b[0m\u001b[0;34m\u001b[0m\u001b[0m\n\u001b[1;32m   1602\u001b[0m         \u001b[0;31m# object failed, and we should propagate the error message here.\u001b[0m\u001b[0;34m\u001b[0m\u001b[0;34m\u001b[0m\u001b[0m\n\u001b[0;32m-> 1603\u001b[0;31m         \u001b[0;32mraise\u001b[0m \u001b[0mRayGetError\u001b[0m\u001b[0;34m(\u001b[0m\u001b[0mobject_ids\u001b[0m\u001b[0;34m,\u001b[0m \u001b[0mvalue\u001b[0m\u001b[0;34m)\u001b[0m\u001b[0;34m\u001b[0m\u001b[0m\n\u001b[0m\u001b[1;32m   1604\u001b[0m       \u001b[0;32mreturn\u001b[0m \u001b[0mvalue\u001b[0m\u001b[0;34m\u001b[0m\u001b[0m\n\u001b[1;32m   1605\u001b[0m \u001b[0;34m\u001b[0m\u001b[0m\n",
      "\u001b[0;31mRayGetError\u001b[0m: Could not get objectid ObjectID(243e507e3fce061ee9023ba2824c6fcbe6006e3c). It was created by remote function \u001b[31m__main__.train_recommender\u001b[39m which failed with:\n\nRemote function \u001b[31m__main__.train_recommender\u001b[39m failed with:\n\nTraceback (most recent call last):\n  File \"/usr/lib/python3.5/contextlib.py\", line 66, in __exit__\n    next(self.gen)\n  File \"/usr/local/lib/python3.5/dist-packages/tensorflow/python/framework/errors_impl.py\", line 466, in raise_exception_on_not_ok_status\n    pywrap_tensorflow.TF_GetCode(status))\ntensorflow.python.framework.errors_impl.ResourceExhaustedError: OOM when allocating tensor of shape [138493,258] and type float\n\t [[Node: Const_40 = Const[dtype=DT_FLOAT, value=Tensor<type: float shape: [138493,258] values: [0 0 0]...>, _device=\"/job:localhost/replica:0/task:0/gpu:0\"]()]]\n\nDuring handling of the above exception, another exception occurred:\n\nTraceback (most recent call last):\n  File \"/usr/local/lib/python3.5/dist-packages/ray/worker.py\", line 1768, in process_task\n    outputs = function_executor.executor(arguments)\n  File \"/usr/local/lib/python3.5/dist-packages/ray/worker.py\", line 2009, in func_executor\n    result = func(*arguments)\n  File \"<ipython-input-12-937d4083b900>\", line 38, in train_recommender\n  File \"/usr/local/lib/python3.5/dist-packages/keras/engine/training.py\", line 1430, in fit\n    initial_epoch=initial_epoch)\n  File \"/usr/local/lib/python3.5/dist-packages/keras/engine/training.py\", line 1040, in _fit_loop\n    callbacks.set_model(callback_model)\n  File \"/usr/local/lib/python3.5/dist-packages/keras/callbacks.py\", line 52, in set_model\n    callback.set_model(model)\n  File \"/usr/local/lib/python3.5/dist-packages/keras/callbacks.py\", line 651, in set_model\n    self.sess = K.get_session()\n  File \"/usr/local/lib/python3.5/dist-packages/keras/backend/tensorflow_backend.py\", line 168, in get_session\n    _initialize_variables()\n  File \"/usr/local/lib/python3.5/dist-packages/keras/backend/tensorflow_backend.py\", line 341, in _initialize_variables\n    sess.run(tf.variables_initializer(uninitialized_variables))\n  File \"/usr/local/lib/python3.5/dist-packages/tensorflow/python/client/session.py\", line 789, in run\n    run_metadata_ptr)\n  File \"/usr/local/lib/python3.5/dist-packages/tensorflow/python/client/session.py\", line 997, in _run\n    feed_dict_string, options, run_metadata)\n  File \"/usr/local/lib/python3.5/dist-packages/tensorflow/python/client/session.py\", line 1132, in _do_run\n    target_list, options, run_metadata)\n  File \"/usr/local/lib/python3.5/dist-packages/tensorflow/python/client/session.py\", line 1152, in _do_call\n    raise type(e)(node_def, op, message)\ntensorflow.python.framework.errors_impl.ResourceExhaustedError: OOM when allocating tensor of shape [138493,258] and type float\n\t [[Node: Const_40 = Const[dtype=DT_FLOAT, value=Tensor<type: float shape: [138493,258] values: [0 0 0]...>, _device=\"/job:localhost/replica:0/task:0/gpu:0\"]()]]\n\nCaused by op 'Const_40', defined at:\n  File \"/usr/local/lib/python3.5/dist-packages/ray/workers/default_worker.py\", line 61, in <module>\n    ray.worker.main_loop()\n  File \"/usr/local/lib/python3.5/dist-packages/ray/worker.py\", line 1838, in main_loop\n    process_task(task)\n  File \"/usr/local/lib/python3.5/dist-packages/ray/worker.py\", line 1768, in process_task\n    outputs = function_executor.executor(arguments)\n  File \"/usr/local/lib/python3.5/dist-packages/ray/worker.py\", line 2009, in func_executor\n    result = func(*arguments)\n  File \"<ipython-input-12-937d4083b900>\", line 38, in train_recommender\n  File \"/usr/local/lib/python3.5/dist-packages/keras/engine/training.py\", line 1413, in fit\n    self._make_train_function()\n  File \"/usr/local/lib/python3.5/dist-packages/keras/engine/training.py\", line 937, in _make_train_function\n    self.total_loss)\n  File \"/usr/local/lib/python3.5/dist-packages/keras/optimizers.py\", line 485, in get_updates\n    ms = [K.zeros(shape) for shape in shapes]\n  File \"/usr/local/lib/python3.5/dist-packages/keras/optimizers.py\", line 485, in <listcomp>\n    ms = [K.zeros(shape) for shape in shapes]\n  File \"/usr/local/lib/python3.5/dist-packages/keras/backend/tensorflow_backend.py\", line 602, in zeros\n    return variable(tf.constant_initializer(0., dtype=tf_dtype)(shape),\n  File \"/usr/local/lib/python3.5/dist-packages/tensorflow/python/ops/init_ops.py\", line 203, in __call__\n    verify_shape=verify_shape)\n  File \"/usr/local/lib/python3.5/dist-packages/tensorflow/python/framework/constant_op.py\", line 106, in constant\n    attrs={\"value\": tensor_value, \"dtype\": dtype_value}, name=name).outputs[0]\n  File \"/usr/local/lib/python3.5/dist-packages/tensorflow/python/framework/ops.py\", line 2506, in create_op\n    original_op=self._default_original_op, op_def=op_def)\n  File \"/usr/local/lib/python3.5/dist-packages/tensorflow/python/framework/ops.py\", line 1269, in __init__\n    self._traceback = _extract_stack()\n\nResourceExhaustedError (see above for traceback): OOM when allocating tensor of shape [138493,258] and type float\n\t [[Node: Const_40 = Const[dtype=DT_FLOAT, value=Tensor<type: float shape: [138493,258] values: [0 0 0]...>, _device=\"/job:localhost/replica:0/task:0/gpu:0\"]()]]\n\n"
     ]
    },
    {
     "name": "stdout",
     "output_type": "stream",
     "text": [
      " failed with:\n",
      "\n",
      "Traceback (most recent call last):\n",
      "  File \"/usr/lib/python3.5/contextlib.py\", line 66, in __exit__\n",
      "    next(self.gen)\n",
      "  File \"/usr/local/lib/python3.5/dist-packages/tensorflow/python/framework/errors_impl.py\", line 466, in raise_exception_on_not_ok_status\n",
      "    pywrap_tensorflow.TF_GetCode(status))\n",
      "tensorflow.python.framework.errors_impl.ResourceExhaustedError: OOM when allocating tensor of shape [138493,258] and type float\n",
      "\t [[Node: Const_40 = Const[dtype=DT_FLOAT, value=Tensor<type: float shape: [138493,258] values: [0 0 0]...>, _device=\"/job:localhost/replica:0/task:0/gpu:0\"]()]]\n",
      "\n",
      "During handling of the above exception, another exception occurred:\n",
      "\n",
      "Traceback (most recent call last):\n",
      "  File \"/usr/local/lib/python3.5/dist-packages/ray/worker.py\", line 1768, in process_task\n",
      "    outputs = function_executor.executor(arguments)\n",
      "  File \"/usr/local/lib/python3.5/dist-packages/ray/worker.py\", line 2009, in func_executor\n",
      "    result = func(*arguments)\n",
      "  File \"<ipython-input-12-937d4083b900>\", line 38, in train_recommender\n",
      "  File \"/usr/local/lib/python3.5/dist-packages/keras/engine/training.py\", line 1430, in fit\n",
      "    initial_epoch=initial_epoch)\n",
      "  File \"/usr/local/lib/python3.5/dist-packages/keras/engine/training.py\", line 1040, in _fit_loop\n",
      "    callbacks.set_model(callback_model)\n",
      "  File \"/usr/local/lib/python3.5/dist-packages/keras/callbacks.py\", line 52, in set_model\n",
      "    callback.set_model(model)\n",
      "  File \"/usr/local/lib/python3.5/dist-packages/keras/callbacks.py\", line 651, in set_model\n",
      "    self.sess = K.get_session()\n",
      "  File \"/usr/local/lib/python3.5/dist-packages/keras/backend/tensorflow_backend.py\", line 168, in get_session\n",
      "    _initialize_variables()\n",
      "  File \"/usr/local/lib/python3.5/dist-packages/keras/backend/tensorflow_backend.py\", line 341, in _initialize_variables\n",
      "    sess.run(tf.variables_initializer(uninitialized_variables))\n",
      "  File \"/usr/local/lib/python3.5/dist-packages/tensorflow/python/client/session.py\", line 789, in run\n",
      "    run_metadata_ptr)\n",
      "  File \"/usr/local/lib/python3.5/dist-packages/tensorflow/python/client/session.py\", line 997, in _run\n",
      "    feed_dict_string, options, run_metadata)\n",
      "  File \"/usr/local/lib/python3.5/dist-packages/tensorflow/python/client/session.py\", line 1132, in _do_run\n",
      "    target_list, options, run_metadata)\n",
      "  File \"/usr/local/lib/python3.5/dist-packages/tensorflow/python/client/session.py\", line 1152, in _do_call\n",
      "    raise type(e)(node_def, op, message)\n",
      "tensorflow.python.framework.errors_impl.ResourceExhaustedError: OOM when allocating tensor of shape [138493,258] and type float\n",
      "\t [[Node: Const_40 = Const[dtype=DT_FLOAT, value=Tensor<type: float shape: [138493,258] values: [0 0 0]...>, _device=\"/job:localhost/replica:0/task:0/gpu:0\"]()]]\n",
      "\n",
      "Caused by op 'Const_40', defined at:\n",
      "  File \"/usr/local/lib/python3.5/dist-packages/ray/workers/default_worker.py\", line 61, in <module>\n",
      "    ray.worker.main_loop()\n",
      "  File \"/usr/local/lib/python3.5/dist-packages/ray/worker.py\", line 1838, in main_loop\n",
      "    process_task(task)\n",
      "  File \"/usr/local/lib/python3.5/dist-packages/ray/worker.py\", line 1768, in process_task\n",
      "    outputs = function_executor.executor(arguments)\n",
      "  File \"/usr/local/lib/python3.5/dist-packages/ray/worker.py\", line 2009, in func_executor\n",
      "    result = func(*arguments)\n",
      "  File \"<ipython-input-12-937d4083b900>\", line 38, in train_recommender\n",
      "  File \"/usr/local/lib/python3.5/dist-packages/keras/engine/training.py\", line 1413, in fit\n",
      "    self._make_train_function()\n",
      "  File \"/usr/local/lib/python3.5/dist-packages/keras/engine/training.py\", line 937, in _make_train_function\n",
      "    self.total_loss)\n",
      "  File \"/usr/local/lib/python3.5/dist-packages/keras/optimizers.py\", line 485, in get_updates\n",
      "    ms = [K.zeros(shape) for shape in shapes]\n",
      "  File \"/usr/local/lib/python3.5/dist-packages/keras/optimizers.py\", line 485, in <listcomp>\n",
      "    ms = [K.zeros(shape) for shape in shapes]\n",
      "  File \"/usr/local/lib/python3.5/dist-packages/keras/backend/tensorflow_backend.py\", line 602, in zeros\n",
      "    return variable(tf.constant_initializer(0., dtype=tf_dtype)(shape),\n",
      "  File \"/usr/local/lib/python3.5/dist-packages/tensorflow/python/ops/init_ops.py\", line 203, in __call__\n",
      "    verify_shape=verify_shape)\n",
      "  File \"/usr/local/lib/python3.5/dist-packages/tensorflow/python/framework/constant_op.py\", line 106, in constant\n",
      "    attrs={\"value\": tensor_value, \"dtype\": dtype_value}, name=name).outputs[0]\n",
      "  File \"/usr/local/lib/python3.5/dist-packages/tensorflow/python/framework/ops.py\", line 2506, in create_op\n",
      "    original_op=self._default_original_op, op_def=op_def)\n",
      "  File \"/usr/local/lib/python3.5/dist-packages/tensorflow/python/framework/ops.py\", line 1269, in __init__\n",
      "    self._traceback = _extract_stack()\n",
      "\n",
      "ResourceExhaustedError (see above for traceback): OOM when allocating tensor of shape [138493,258] and type float\n",
      "\t [[Node: Const_40 = Const[dtype=DT_FLOAT, value=Tensor<type: float shape: [138493,258] values: [0 0 0]...>, _device=\"/job:localhost/replica:0/task:0/gpu:0\"]()]]\n",
      "\n",
      "\n",
      "\n",
      "You can inspect errors by running\n",
      "\n",
      "    ray.error_info()\n",
      "\n",
      "If this driver is hanging, start a new one with\n",
      "\n",
      "    ray.init(redis_address=\"127.0.0.1:17554\")\n",
      "\n"
     ]
    }
   ],
   "source": [
    "import contexttimer\n",
    "import time\n",
    "import tensorflow as tf\n",
    "import keras\n",
    "\n",
    "model_dir = os.path.join(os.getcwd(), os.pardir, 'models')\n",
    "\n",
    "@ray.remote(num_gpus=1, max_calls=1)\n",
    "def train_recommender(optname):\n",
    "    os.environ[\"CUDA_VISIBLE_DEVICES\"] = \",\".join(map(str, ray.get_gpu_ids()))\n",
    "    with tf.Session() as sess:\n",
    "        with sess.as_default():\n",
    "            K.set_session(sess)\n",
    "            with keras_util.tmp_cd(os.path.join(model_dir, optname)):\n",
    "                \n",
    "                if os.path.isfile('history'):\n",
    "                    update('already trained')\n",
    "                    return load_object('history')\n",
    "\n",
    "                net = recommender_net()\n",
    "                net.compile(loss='mse', optimizer=opts[optname]())\n",
    "\n",
    "                tb = keras.callbacks.TensorBoard(log_dir='.')\n",
    "                checkpoint = keras.callbacks.ModelCheckpoint(\n",
    "                    filepath='net', monitor='val_loss', save_best_only=True)\n",
    "                earlystop = keras.callbacks.EarlyStopping(\n",
    "                    monitor='val_loss', min_delta=0, patience=0)\n",
    "\n",
    "                print('{} starting training\\n'.format(optname), end='')\n",
    "                with contexttimer.Timer() as t:\n",
    "                    hist = net.fit(\n",
    "                        [train.userId, train.movieId],\n",
    "                        train.rating,\n",
    "                        epochs=100,\n",
    "                        batch_size=500000,\n",
    "                        callbacks=[checkpoint, tb, earlystop],\n",
    "                        verbose=0,\n",
    "                        validation_data=([valid.userId, valid.movieId], valid.rating))\n",
    "                keras_util.save_object(hist.history, 'history')\n",
    "                print(\n",
    "                    '{} completed training in {} sec\\n'.format(optnameint(t.elapsed)),\n",
    "                    end='')\n",
    "                return hist.history\n",
    "\n",
    "\n",
    "r = train_recommender.remote('adamax+clip')\n",
    "ray.get(r)"
   ]
  },
  {
   "cell_type": "code",
   "execution_count": null,
   "metadata": {},
   "outputs": [],
   "source": [
    "1+1"
   ]
  },
  {
   "cell_type": "code",
   "execution_count": null,
   "metadata": {},
   "outputs": [],
   "source": [
    "import os\n",
    "for losstype in ['loss', 'val_loss']:\n",
    "    for optname in opts.keys():\n",
    "        filename = os.path.join(model_dir, optname, 'history')\n",
    "        hist = load_object(filename)[losstype]\n",
    "        plt.semilogy(hist, label=opt)\n",
    "    plt.legend(bbox_to_anchor=(1.05, 1.0), loc=2, borderaxespad=0.)\n",
    "    plt.title(losstype + ' vs epoch')\n",
    "    plt.show()"
   ]
  },
  {
   "cell_type": "code",
   "execution_count": 18,
   "metadata": {},
   "outputs": [
    {
     "data": {
      "text/plain": [
       "2"
      ]
     },
     "execution_count": 18,
     "metadata": {},
     "output_type": "execute_result"
    }
   ],
   "source": [
    "# Easy version\n",
    "import tensorflow as tf\n",
    "@ray.remote(num_gpus=1)\n",
    "def train_recommender(optname):\n",
    "    os.environ[\"CUDA_VISIBLE_DEVICES\"] = \",\".join(map(str, ray.get_gpu_ids()))\n",
    "    # Create a TensorFlow session. TensorFlow will restrict itself to use the\n",
    "    # GPUs specified by the CUDA_VISIBLE_DEVICES environment variable.\n",
    "    with tf.Session(graph=tf.Graph(), config=tf.ConfigProto(log_device_placement=True)) as sess:\n",
    "        with sess.as_default():\n",
    "            K.set_session(sess)\n",
    "            net = recommender_net()\n",
    "            net.compile(loss='mse', optimizer='adam')\n",
    "            with tf.device('gpu'):\n",
    "                c = tf.constant(1) + tf.constant(1)\n",
    "            return sess.run(c)\n",
    "K.clear_session()\n",
    "ray.get(train_recommender.remote('asdf'))"
   ]
  }
 ],
 "metadata": {
  "kernelspec": {
   "display_name": "Python 3",
   "language": "python",
   "name": "python3"
  },
  "language_info": {
   "codemirror_mode": {
    "name": "ipython",
    "version": 3
   },
   "file_extension": ".py",
   "mimetype": "text/x-python",
   "name": "python",
   "nbconvert_exporter": "python",
   "pygments_lexer": "ipython3",
   "version": "3.5.2"
  }
 },
 "nbformat": 4,
 "nbformat_minor": 2
}
